{
 "cells": [
  {
   "cell_type": "markdown",
   "metadata": {},
   "source": [
    "## Tarea 1\n",
    "##### Dataset de salarios (Científicos de datos)\n",
    "\n",
    "https://www.kaggle.com/datasets/iamsouravbanerjee/data-science-salaries-2023\n"
   ]
  },
  {
   "cell_type": "code",
   "execution_count": 40,
   "metadata": {
    "scrolled": false
   },
   "outputs": [
    {
     "data": {
      "text/html": [
       "<div>\n",
       "<style scoped>\n",
       "    .dataframe tbody tr th:only-of-type {\n",
       "        vertical-align: middle;\n",
       "    }\n",
       "\n",
       "    .dataframe tbody tr th {\n",
       "        vertical-align: top;\n",
       "    }\n",
       "\n",
       "    .dataframe thead th {\n",
       "        text-align: right;\n",
       "    }\n",
       "</style>\n",
       "<table border=\"1\" class=\"dataframe\">\n",
       "  <thead>\n",
       "    <tr style=\"text-align: right;\">\n",
       "      <th></th>\n",
       "      <th>Job Title</th>\n",
       "      <th>Employment Type</th>\n",
       "      <th>Experience Level</th>\n",
       "      <th>Expertise Level</th>\n",
       "      <th>Salary</th>\n",
       "      <th>Salary Currency</th>\n",
       "      <th>Company Location</th>\n",
       "      <th>Salary in USD</th>\n",
       "      <th>Employee Residence</th>\n",
       "      <th>Company Size</th>\n",
       "      <th>Year</th>\n",
       "    </tr>\n",
       "  </thead>\n",
       "  <tbody>\n",
       "    <tr>\n",
       "      <th>0</th>\n",
       "      <td>Data Engineer</td>\n",
       "      <td>Full-Time</td>\n",
       "      <td>Senior</td>\n",
       "      <td>Expert</td>\n",
       "      <td>210000</td>\n",
       "      <td>United States Dollar</td>\n",
       "      <td>United States</td>\n",
       "      <td>210000</td>\n",
       "      <td>United States</td>\n",
       "      <td>Medium</td>\n",
       "      <td>2023</td>\n",
       "    </tr>\n",
       "    <tr>\n",
       "      <th>1</th>\n",
       "      <td>Data Engineer</td>\n",
       "      <td>Full-Time</td>\n",
       "      <td>Senior</td>\n",
       "      <td>Expert</td>\n",
       "      <td>165000</td>\n",
       "      <td>United States Dollar</td>\n",
       "      <td>United States</td>\n",
       "      <td>165000</td>\n",
       "      <td>United States</td>\n",
       "      <td>Medium</td>\n",
       "      <td>2023</td>\n",
       "    </tr>\n",
       "    <tr>\n",
       "      <th>2</th>\n",
       "      <td>Data Engineer</td>\n",
       "      <td>Full-Time</td>\n",
       "      <td>Senior</td>\n",
       "      <td>Expert</td>\n",
       "      <td>185900</td>\n",
       "      <td>United States Dollar</td>\n",
       "      <td>United States</td>\n",
       "      <td>185900</td>\n",
       "      <td>United States</td>\n",
       "      <td>Medium</td>\n",
       "      <td>2023</td>\n",
       "    </tr>\n",
       "    <tr>\n",
       "      <th>3</th>\n",
       "      <td>Data Engineer</td>\n",
       "      <td>Full-Time</td>\n",
       "      <td>Senior</td>\n",
       "      <td>Expert</td>\n",
       "      <td>129300</td>\n",
       "      <td>United States Dollar</td>\n",
       "      <td>United States</td>\n",
       "      <td>129300</td>\n",
       "      <td>United States</td>\n",
       "      <td>Medium</td>\n",
       "      <td>2023</td>\n",
       "    </tr>\n",
       "    <tr>\n",
       "      <th>4</th>\n",
       "      <td>Data Scientist</td>\n",
       "      <td>Full-Time</td>\n",
       "      <td>Senior</td>\n",
       "      <td>Expert</td>\n",
       "      <td>140000</td>\n",
       "      <td>United States Dollar</td>\n",
       "      <td>United States</td>\n",
       "      <td>140000</td>\n",
       "      <td>United States</td>\n",
       "      <td>Medium</td>\n",
       "      <td>2023</td>\n",
       "    </tr>\n",
       "  </tbody>\n",
       "</table>\n",
       "</div>"
      ],
      "text/plain": [
       "        Job Title Employment Type Experience Level Expertise Level  Salary  \\\n",
       "0   Data Engineer       Full-Time           Senior          Expert  210000   \n",
       "1   Data Engineer       Full-Time           Senior          Expert  165000   \n",
       "2   Data Engineer       Full-Time           Senior          Expert  185900   \n",
       "3   Data Engineer       Full-Time           Senior          Expert  129300   \n",
       "4  Data Scientist       Full-Time           Senior          Expert  140000   \n",
       "\n",
       "        Salary Currency Company Location  Salary in USD Employee Residence  \\\n",
       "0  United States Dollar    United States         210000      United States   \n",
       "1  United States Dollar    United States         165000      United States   \n",
       "2  United States Dollar    United States         185900      United States   \n",
       "3  United States Dollar    United States         129300      United States   \n",
       "4  United States Dollar    United States         140000      United States   \n",
       "\n",
       "  Company Size  Year  \n",
       "0       Medium  2023  \n",
       "1       Medium  2023  \n",
       "2       Medium  2023  \n",
       "3       Medium  2023  \n",
       "4       Medium  2023  "
      ]
     },
     "execution_count": 40,
     "metadata": {},
     "output_type": "execute_result"
    }
   ],
   "source": [
    "import pandas as pd\n",
    "import matplotlib.pyplot as plt\n",
    "\n",
    "df = pd.read_csv(\"Latest_Data_Science_Salaries.csv\")\n",
    "df.head(5)"
   ]
  },
  {
   "cell_type": "code",
   "execution_count": 3,
   "metadata": {
    "scrolled": true
   },
   "outputs": [
    {
     "name": "stdout",
     "output_type": "stream",
     "text": [
      "<class 'pandas.core.frame.DataFrame'>\n",
      "RangeIndex: 3300 entries, 0 to 3299\n",
      "Data columns (total 11 columns):\n",
      " #   Column              Non-Null Count  Dtype \n",
      "---  ------              --------------  ----- \n",
      " 0   Job Title           3300 non-null   object\n",
      " 1   Employment Type     3300 non-null   object\n",
      " 2   Experience Level    3300 non-null   object\n",
      " 3   Expertise Level     3300 non-null   object\n",
      " 4   Salary              3300 non-null   int64 \n",
      " 5   Salary Currency     3300 non-null   object\n",
      " 6   Company Location    3300 non-null   object\n",
      " 7   Salary in USD       3300 non-null   int64 \n",
      " 8   Employee Residence  3300 non-null   object\n",
      " 9   Company Size        3300 non-null   object\n",
      " 10  Year                3300 non-null   int64 \n",
      "dtypes: int64(3), object(8)\n",
      "memory usage: 283.7+ KB\n"
     ]
    }
   ],
   "source": [
    "df.info()"
   ]
  },
  {
   "cell_type": "code",
   "execution_count": 4,
   "metadata": {},
   "outputs": [
    {
     "data": {
      "text/plain": [
       "count      3300.000000\n",
       "mean     142095.983939\n",
       "std       69028.235512\n",
       "min       15000.000000\n",
       "25%       90000.000000\n",
       "50%      136000.000000\n",
       "75%      185000.000000\n",
       "max      450000.000000\n",
       "Name: Salary in USD, dtype: float64"
      ]
     },
     "execution_count": 4,
     "metadata": {},
     "output_type": "execute_result"
    }
   ],
   "source": [
    "df[\"Salary in USD\"].describe()"
   ]
  },
  {
   "cell_type": "markdown",
   "metadata": {},
   "source": [
    "# Ejercicio en Clase:\n",
    "\n",
    "Para este ejercicio debes realizar los siguientes pasos de manera anticipada los siguientes procesos:\n",
    "- Cargar el conjunto de datos desde un archivo CSV utilizando pandas.\n",
    "- Explorar y familiarizarse con la estructura del conjunto de datos.\n",
    "- Calcular estadísticas descriptivas, como el promedio, la mediana y la desviación estándar, de variables relevantes del conjunto de datos general.\n",
    "\n",
    "#### Acciones por ejecutar\n",
    "\n",
    "1. ¿Cúantos posibles \"Job Title\" existen en el Dataset?\n",
    "2. ¿Cúales son los \"Employment Type\" y en qué frecuencia se presentan en el Dataset?\n",
    "3. ¿Cuáles son los \"Expertise Level\" y \"Experience Level\" y cuál es el salario promedio general de cada uno?\n",
    "4. ¿Cuáles son los \"Salary Currency\" y a qué tasa está covertido respecto al dolar cada uno?\n",
    "5. ¿En cuántos paises diferentes se encuentran los empleados (\"Employee Residence\")?\n",
    "6. ¿Cuál salario promedio por \"Job Title\" agrupado?\n",
    "7. ¿Cuál es el salario promedio por país de residencia (Employee Residence)?\n",
    "8. ¿Cuál es el \"Salary in USD\" máximo y mínimo?¿A qué registro pertenece?\n",
    "9. ¿Cuál es el salario promedio (en USD) por rol por tamaño de compañía?\n",
    "10. muestre los datos agrupados por tamaño de la compañía, país y salario promedio."
   ]
  },
  {
   "cell_type": "markdown",
   "metadata": {},
   "source": [
    "### Propuesta de solución\n"
   ]
  },
  {
   "cell_type": "code",
   "execution_count": 41,
   "metadata": {},
   "outputs": [
    {
     "name": "stdout",
     "output_type": "stream",
     "text": [
      "Wall time: 15.2 ms\n"
     ]
    }
   ],
   "source": [
    "%%time\n",
    "import pandas as pd\n",
    "\n",
    "# Cargar el dataset\n",
    "df = pd.read_csv(\"Latest_Data_Science_Salaries.csv\")"
   ]
  },
  {
   "cell_type": "code",
   "execution_count": 43,
   "metadata": {},
   "outputs": [
    {
     "name": "stdout",
     "output_type": "stream",
     "text": [
      "Número de posibles Job Titles: 111 tambien:  111\n"
     ]
    }
   ],
   "source": [
    "# 1. ¿Cúantos posibles \"Job Title\" existen en el Dataset?\n",
    "num_job_titles = df[\"Job Title\"].nunique()\n",
    "print(\"Número de posibles Job Titles:\", num_job_titles, \"tambien: \", len(df[\"Job Title\"].unique()))\n",
    "#df[\"Job Title\"].unique()"
   ]
  },
  {
   "cell_type": "code",
   "execution_count": 8,
   "metadata": {
    "scrolled": true
   },
   "outputs": [
    {
     "name": "stdout",
     "output_type": "stream",
     "text": [
      "Employment Types y su frecuencia:\n",
      "Full-Time    3261\n",
      "Contract       15\n",
      "Part-Time      13\n",
      "Freelance      11\n",
      "Name: Employment Type, dtype: int64\n"
     ]
    }
   ],
   "source": [
    "# 2. ¿Cúales son los \"Employment Type\" y en qué frecuencia se presentan en el Dataset?\n",
    "employment_types = df[\"Employment Type\"].value_counts()\n",
    "print(\"Employment Types y su frecuencia:\")\n",
    "print(employment_types)"
   ]
  },
  {
   "cell_type": "code",
   "execution_count": 44,
   "metadata": {},
   "outputs": [
    {
     "name": "stdout",
     "output_type": "stream",
     "text": [
      "Medium    2707\n",
      "Large      442\n",
      "Small      151\n",
      "Name: Company Size, dtype: int64\n"
     ]
    }
   ],
   "source": [
    "# 2. ¿Cúales son los \"Employment Type\" y en qué frecuencia se presentan en el Dataset?\n",
    "company_size = df[\"Company Size\"].value_counts()\n",
    "print(company_size)"
   ]
  },
  {
   "cell_type": "code",
   "execution_count": 45,
   "metadata": {
    "scrolled": false
   },
   "outputs": [
    {
     "name": "stdout",
     "output_type": "stream",
     "text": [
      "Salario promedio por Expertise Level:\n",
      "Expertise Level\n",
      "Director        191512.143836\n",
      "Expert          160277.513317\n",
      "Intermediate    108714.977415\n",
      "Junior           79921.479452\n",
      "Name: Salary in USD, dtype: float64\n"
     ]
    }
   ],
   "source": [
    "#3. ¿Cuáles son los \"Expertise Level\" y \"Experience Level\" y cuál es el salario promedio general de cada uno?\n",
    "expertise_level_salary = df.groupby(\"Expertise Level\")[\"Salary in USD\"].mean()\n",
    "print(\"Salario promedio por Expertise Level:\")\n",
    "print(expertise_level_salary)"
   ]
  },
  {
   "cell_type": "code",
   "execution_count": 50,
   "metadata": {},
   "outputs": [
    {
     "data": {
      "text/plain": [
       "Expertise Level  Experience Level\n",
       "Director         Executive           191512.143836\n",
       "Expert           Senior              160277.513317\n",
       "Intermediate     Mid                 108714.977415\n",
       "Junior           Entry                79921.479452\n",
       "Name: Salary in USD, dtype: float64"
      ]
     },
     "execution_count": 50,
     "metadata": {},
     "output_type": "execute_result"
    }
   ],
   "source": [
    "df_filter = df[ [\"Expertise Level\", \"Experience Level\", \"Salary in USD\"] ]\n",
    "\n",
    "dfb = df_filter.groupby(\"Expertise Level\").agg({\"Salary in USD\":\"mean\"})\n",
    "dfb\n",
    "#dfb = df_filter.groupby(\"Expertise Level\").agg( salario_promedio = ('Salary in USD', 'mean') )\n",
    "#dfb\n",
    "# Renombrado\n",
    "#dfb.rename({\"Salary in USD\" : \"Salario Promedio\"}, inplace=True)\n",
    "#dfb\n",
    "df_filter.groupby([\"Expertise Level\",\"Experience Level\"])[\"Salary in USD\"].mean()"
   ]
  },
  {
   "cell_type": "code",
   "execution_count": 49,
   "metadata": {
    "scrolled": true
   },
   "outputs": [
    {
     "name": "stdout",
     "output_type": "stream",
     "text": [
      "Salario promedio por Experience Level:\n",
      "Experience Level\n",
      "Entry         79921.479452\n",
      "Executive    191512.143836\n",
      "Mid          108714.977415\n",
      "Senior       160277.513317\n",
      "Name: Salary in USD, dtype: float64\n"
     ]
    }
   ],
   "source": [
    "experience_level_salary = df.groupby(\"Experience Level\")[\"Salary in USD\"].mean()\n",
    "print(\"Salario promedio por Experience Level:\")\n",
    "print(experience_level_salary)"
   ]
  },
  {
   "cell_type": "code",
   "execution_count": 55,
   "metadata": {},
   "outputs": [
    {
     "data": {
      "text/plain": [
       "Index(['Chilean Peso', 'Hungarian Forint', 'Japanese Yen', 'Indian Rupee',\n",
       "       'Philippine Peso', 'Thai Baht', 'Mexican Peso', 'South African Rand',\n",
       "       'Turkish Lira', 'Norwegian Krone', 'Hong Kong Dollar', 'Danish Krone',\n",
       "       'Brazilian Real', 'Polish Zloty', 'Israeli New Shekel',\n",
       "       'Australian Dollar', 'Singapore Dollar', 'Canadian Dollar',\n",
       "       'United States Dollar', 'Swiss Franc', 'Euro',\n",
       "       'British Pound Sterling'],\n",
       "      dtype='object', name='Salary Currency')"
      ]
     },
     "execution_count": 55,
     "metadata": {},
     "output_type": "execute_result"
    }
   ],
   "source": [
    "# 4. ¿Cuáles son los \"Salary Currency\" y a qué tasa está convertido respecto al dolar cada uno?\n",
    "##################### \n",
    "df[\"Currency Rate\"] = (df[\"Salary\"]/df[\"Salary in USD\"]).astype(\"float16\")\n",
    "df_currency_rate = df.groupby([\"Salary Currency\"]).agg({\"Currency Rate\":\"mean\"})\n",
    "df_currency_rate = pd.DataFrame(df_currency_rate[\"Currency Rate\"])\n",
    "df_currency_rate = df_currency_rate.sort_values(by=\"Currency Rate\", ascending=False)\n",
    "#df_currency_rate\n",
    "df_currency_rate.index.unique()"
   ]
  },
  {
   "cell_type": "code",
   "execution_count": 56,
   "metadata": {},
   "outputs": [
    {
     "name": "stdout",
     "output_type": "stream",
     "text": [
      "Número de países diferentes en Employee Residence: 83\n"
     ]
    }
   ],
   "source": [
    "# 5. ¿En cuántos paises diferentes se encuentran los empleados (\"Employee Residence\")?\n",
    "num_countries = df[\"Employee Residence\"].nunique()\n",
    "print(\"Número de países diferentes en Employee Residence:\", num_countries)"
   ]
  },
  {
   "cell_type": "code",
   "execution_count": 72,
   "metadata": {},
   "outputs": [
    {
     "name": "stdout",
     "output_type": "stream",
     "text": [
      "Salario promedio por Job Title:\n"
     ]
    },
    {
     "data": {
      "text/plain": [
       "Job Title\n",
       "Data Quality Engineer              23.753\n",
       "Principal Data Architect           38.154\n",
       "Compliance Data Analyst            45.000\n",
       "Data Engineer 2                    46.565\n",
       "Insight Analyst                    47.370\n",
       "                                   ...   \n",
       "Cloud Data Architect              250.000\n",
       "AWS Data Architect                258.000\n",
       "Managing Director Data Science    300.000\n",
       "Data Science Tech Lead            375.000\n",
       "Analytics Engineering Manager     399.880\n",
       "Name: Salary in USD, Length: 111, dtype: object"
      ]
     },
     "execution_count": 72,
     "metadata": {},
     "output_type": "execute_result"
    }
   ],
   "source": [
    "# 6. ¿Cuál salario promedio por \"Job Title\" agrupado?\n",
    "job_title_avg_salary = df.groupby(\"Job Title\")[\"Salary in USD\"].mean()\n",
    "print(\"Salario promedio por Job Title:\")\n",
    "#print(job_title_avg_salary)\n",
    "\n",
    "df_sorted = pd.DataFrame(job_title_avg_salary).sort_values(by=\"Salary in USD\", ascending=True)\n",
    "\n",
    "df_sorted[\"Salary in USD\"].apply(lambda x: '{:,.0f}'.format(x).replace(\",\",\".\"))"
   ]
  },
  {
   "cell_type": "code",
   "execution_count": 62,
   "metadata": {},
   "outputs": [
    {
     "name": "stdout",
     "output_type": "stream",
     "text": [
      "Salario promedio por país de residencia:\n",
      "Employee Residence\n",
      "Algeria                 100000.000000\n",
      "American Samoa           45555.000000\n",
      "Andorra                  50745.000000\n",
      "Argentina                56444.444444\n",
      "Armenia                  50000.000000\n",
      "                            ...      \n",
      "United Arab Emirates    100000.000000\n",
      "United Kingdom          109147.424490\n",
      "United States           159794.726050\n",
      "Uzbekistan               82000.000000\n",
      "Viet Nam                 44200.000000\n",
      "Name: Salary in USD, Length: 83, dtype: float64\n"
     ]
    }
   ],
   "source": [
    "# 7. ¿Cuál es el salario promedio por país de residencia (Employee Residence)?\n",
    "residence_avg_salary = df.groupby(\"Employee Residence\")[\"Salary in USD\"].mean()\n",
    "print(\"Salario promedio por país de residencia:\")\n",
    "print(residence_avg_salary)"
   ]
  },
  {
   "cell_type": "code",
   "execution_count": 74,
   "metadata": {
    "scrolled": true
   },
   "outputs": [
    {
     "name": "stdout",
     "output_type": "stream",
     "text": [
      "Salario máximo: 450000\n",
      "Registro correspondiente al salario máximo:\n"
     ]
    },
    {
     "data": {
      "text/html": [
       "<div>\n",
       "<style scoped>\n",
       "    .dataframe tbody tr th:only-of-type {\n",
       "        vertical-align: middle;\n",
       "    }\n",
       "\n",
       "    .dataframe tbody tr th {\n",
       "        vertical-align: top;\n",
       "    }\n",
       "\n",
       "    .dataframe thead th {\n",
       "        text-align: right;\n",
       "    }\n",
       "</style>\n",
       "<table border=\"1\" class=\"dataframe\">\n",
       "  <thead>\n",
       "    <tr style=\"text-align: right;\">\n",
       "      <th></th>\n",
       "      <th>Job Title</th>\n",
       "      <th>Employment Type</th>\n",
       "      <th>Experience Level</th>\n",
       "      <th>Expertise Level</th>\n",
       "      <th>Salary</th>\n",
       "      <th>Salary Currency</th>\n",
       "      <th>Company Location</th>\n",
       "      <th>Salary in USD</th>\n",
       "      <th>Employee Residence</th>\n",
       "      <th>Company Size</th>\n",
       "      <th>Year</th>\n",
       "      <th>Currency Rate</th>\n",
       "    </tr>\n",
       "  </thead>\n",
       "  <tbody>\n",
       "    <tr>\n",
       "      <th>3085</th>\n",
       "      <td>Research Scientist</td>\n",
       "      <td>Full-Time</td>\n",
       "      <td>Mid</td>\n",
       "      <td>Intermediate</td>\n",
       "      <td>450000</td>\n",
       "      <td>United States Dollar</td>\n",
       "      <td>United States</td>\n",
       "      <td>450000</td>\n",
       "      <td>United States</td>\n",
       "      <td>Medium</td>\n",
       "      <td>2020</td>\n",
       "      <td>1.0</td>\n",
       "    </tr>\n",
       "  </tbody>\n",
       "</table>\n",
       "</div>"
      ],
      "text/plain": [
       "               Job Title Employment Type Experience Level Expertise Level  \\\n",
       "3085  Research Scientist       Full-Time              Mid    Intermediate   \n",
       "\n",
       "      Salary       Salary Currency Company Location  Salary in USD  \\\n",
       "3085  450000  United States Dollar    United States         450000   \n",
       "\n",
       "     Employee Residence Company Size  Year  Currency Rate  \n",
       "3085      United States       Medium  2020            1.0  "
      ]
     },
     "execution_count": 74,
     "metadata": {},
     "output_type": "execute_result"
    }
   ],
   "source": [
    "# 8. ¿Cuál es el \"Salary in USD\" máximo y mínimo? ¿A qué registro pertenece?\n",
    "max_salary = df[\"Salary in USD\"].max()\n",
    "#print(max_salary)\n",
    "max_salary_rows = df[ df[\"Salary in USD\"] == max_salary ]\n",
    "print(\"Salario máximo:\", max_salary)\n",
    "print(\"Registro correspondiente al salario máximo:\")\n",
    "max_salary_rows"
   ]
  },
  {
   "cell_type": "code",
   "execution_count": 75,
   "metadata": {},
   "outputs": [
    {
     "name": "stdout",
     "output_type": "stream",
     "text": [
      "Salario mínimo: 15000\n",
      "Registro correspondiente al salario mínimo:\n"
     ]
    },
    {
     "data": {
      "text/html": [
       "<div>\n",
       "<style scoped>\n",
       "    .dataframe tbody tr th:only-of-type {\n",
       "        vertical-align: middle;\n",
       "    }\n",
       "\n",
       "    .dataframe tbody tr th {\n",
       "        vertical-align: top;\n",
       "    }\n",
       "\n",
       "    .dataframe thead th {\n",
       "        text-align: right;\n",
       "    }\n",
       "</style>\n",
       "<table border=\"1\" class=\"dataframe\">\n",
       "  <thead>\n",
       "    <tr style=\"text-align: right;\">\n",
       "      <th></th>\n",
       "      <th>Job Title</th>\n",
       "      <th>Employment Type</th>\n",
       "      <th>Experience Level</th>\n",
       "      <th>Expertise Level</th>\n",
       "      <th>Salary</th>\n",
       "      <th>Salary Currency</th>\n",
       "      <th>Company Location</th>\n",
       "      <th>Salary in USD</th>\n",
       "      <th>Employee Residence</th>\n",
       "      <th>Company Size</th>\n",
       "      <th>Year</th>\n",
       "      <th>Currency Rate</th>\n",
       "    </tr>\n",
       "  </thead>\n",
       "  <tbody>\n",
       "    <tr>\n",
       "      <th>1335</th>\n",
       "      <td>Staff Data Analyst</td>\n",
       "      <td>Full-Time</td>\n",
       "      <td>Executive</td>\n",
       "      <td>Director</td>\n",
       "      <td>15000</td>\n",
       "      <td>United States Dollar</td>\n",
       "      <td>Canada</td>\n",
       "      <td>15000</td>\n",
       "      <td>Nigeria</td>\n",
       "      <td>Medium</td>\n",
       "      <td>2020</td>\n",
       "      <td>1.0</td>\n",
       "    </tr>\n",
       "    <tr>\n",
       "      <th>2641</th>\n",
       "      <td>Machine Learning Developer</td>\n",
       "      <td>Full-Time</td>\n",
       "      <td>Entry</td>\n",
       "      <td>Junior</td>\n",
       "      <td>15000</td>\n",
       "      <td>United States Dollar</td>\n",
       "      <td>Thailand</td>\n",
       "      <td>15000</td>\n",
       "      <td>Thailand</td>\n",
       "      <td>Large</td>\n",
       "      <td>2021</td>\n",
       "      <td>1.0</td>\n",
       "    </tr>\n",
       "    <tr>\n",
       "      <th>2826</th>\n",
       "      <td>Data Analyst</td>\n",
       "      <td>Full-Time</td>\n",
       "      <td>Entry</td>\n",
       "      <td>Junior</td>\n",
       "      <td>15000</td>\n",
       "      <td>United States Dollar</td>\n",
       "      <td>Indonesia</td>\n",
       "      <td>15000</td>\n",
       "      <td>Indonesia</td>\n",
       "      <td>Large</td>\n",
       "      <td>2022</td>\n",
       "      <td>1.0</td>\n",
       "    </tr>\n",
       "  </tbody>\n",
       "</table>\n",
       "</div>"
      ],
      "text/plain": [
       "                       Job Title Employment Type Experience Level  \\\n",
       "1335          Staff Data Analyst       Full-Time        Executive   \n",
       "2641  Machine Learning Developer       Full-Time            Entry   \n",
       "2826                Data Analyst       Full-Time            Entry   \n",
       "\n",
       "     Expertise Level  Salary       Salary Currency Company Location  \\\n",
       "1335        Director   15000  United States Dollar           Canada   \n",
       "2641          Junior   15000  United States Dollar         Thailand   \n",
       "2826          Junior   15000  United States Dollar        Indonesia   \n",
       "\n",
       "      Salary in USD Employee Residence Company Size  Year  Currency Rate  \n",
       "1335          15000            Nigeria       Medium  2020            1.0  \n",
       "2641          15000           Thailand        Large  2021            1.0  \n",
       "2826          15000          Indonesia        Large  2022            1.0  "
      ]
     },
     "execution_count": 75,
     "metadata": {},
     "output_type": "execute_result"
    }
   ],
   "source": [
    "min_salary = df[\"Salary in USD\"].min()\n",
    "min_salary_rows = df[ df[\"Salary in USD\"] == min_salary ]\n",
    "print(\"Salario mínimo:\", min_salary)\n",
    "print(\"Registro correspondiente al salario mínimo:\")\n",
    "min_salary_rows"
   ]
  },
  {
   "cell_type": "code",
   "execution_count": 94,
   "metadata": {},
   "outputs": [
    {
     "name": "stdout",
     "output_type": "stream",
     "text": [
      "Salario promedio por rol y tamaño de compañía:\n"
     ]
    },
    {
     "data": {
      "text/html": [
       "<div>\n",
       "<style scoped>\n",
       "    .dataframe tbody tr th:only-of-type {\n",
       "        vertical-align: middle;\n",
       "    }\n",
       "\n",
       "    .dataframe tbody tr th {\n",
       "        vertical-align: top;\n",
       "    }\n",
       "\n",
       "    .dataframe thead th {\n",
       "        text-align: right;\n",
       "    }\n",
       "</style>\n",
       "<table border=\"1\" class=\"dataframe\">\n",
       "  <thead>\n",
       "    <tr style=\"text-align: right;\">\n",
       "      <th></th>\n",
       "      <th></th>\n",
       "      <th>Salary in USD</th>\n",
       "    </tr>\n",
       "    <tr>\n",
       "      <th>Job Title</th>\n",
       "      <th>Company Size</th>\n",
       "      <th></th>\n",
       "    </tr>\n",
       "  </thead>\n",
       "  <tbody>\n",
       "    <tr>\n",
       "      <th rowspan=\"2\" valign=\"top\">AI Architect</th>\n",
       "      <th>Large</th>\n",
       "      <td>207968.0</td>\n",
       "    </tr>\n",
       "    <tr>\n",
       "      <th>Medium</th>\n",
       "      <td>267000.0</td>\n",
       "    </tr>\n",
       "    <tr>\n",
       "      <th rowspan=\"3\" valign=\"top\">AI Developer</th>\n",
       "      <th>Large</th>\n",
       "      <td>215936.0</td>\n",
       "    </tr>\n",
       "    <tr>\n",
       "      <th>Medium</th>\n",
       "      <td>97944.0</td>\n",
       "    </tr>\n",
       "    <tr>\n",
       "      <th>Small</th>\n",
       "      <td>197500.0</td>\n",
       "    </tr>\n",
       "    <tr>\n",
       "      <th>...</th>\n",
       "      <th>...</th>\n",
       "      <td>...</td>\n",
       "    </tr>\n",
       "    <tr>\n",
       "      <th>Software Data Engineer</th>\n",
       "      <th>Medium</th>\n",
       "      <td>50000.0</td>\n",
       "    </tr>\n",
       "    <tr>\n",
       "      <th rowspan=\"2\" valign=\"top\">Staff Data Analyst</th>\n",
       "      <th>Medium</th>\n",
       "      <td>15000.0</td>\n",
       "    </tr>\n",
       "    <tr>\n",
       "      <th>Small</th>\n",
       "      <td>179998.0</td>\n",
       "    </tr>\n",
       "    <tr>\n",
       "      <th>Staff Data Scientist</th>\n",
       "      <th>Medium</th>\n",
       "      <td>134500.0</td>\n",
       "    </tr>\n",
       "    <tr>\n",
       "      <th>Staff Machine Learning Engineer</th>\n",
       "      <th>Medium</th>\n",
       "      <td>185000.0</td>\n",
       "    </tr>\n",
       "  </tbody>\n",
       "</table>\n",
       "<p>204 rows × 1 columns</p>\n",
       "</div>"
      ],
      "text/plain": [
       "                                              Salary in USD\n",
       "Job Title                       Company Size               \n",
       "AI Architect                    Large              207968.0\n",
       "                                Medium             267000.0\n",
       "AI Developer                    Large              215936.0\n",
       "                                Medium              97944.0\n",
       "                                Small              197500.0\n",
       "...                                                     ...\n",
       "Software Data Engineer          Medium              50000.0\n",
       "Staff Data Analyst              Medium              15000.0\n",
       "                                Small              179998.0\n",
       "Staff Data Scientist            Medium             134500.0\n",
       "Staff Machine Learning Engineer Medium             185000.0\n",
       "\n",
       "[204 rows x 1 columns]"
      ]
     },
     "execution_count": 94,
     "metadata": {},
     "output_type": "execute_result"
    }
   ],
   "source": [
    "# ¿Cuál es el salario promedio (en USD) por rol por tamaño de compañía?\n",
    "avg_salary_by_role_size = df.groupby([\"Job Title\", \"Company Size\"]).agg({\"Salary in USD\":\"mean\"})\n",
    "print(\"Salario promedio por rol y tamaño de compañía:\")\n",
    "avg_salary_by_role_size"
   ]
  },
  {
   "cell_type": "code",
   "execution_count": 97,
   "metadata": {
    "scrolled": false
   },
   "outputs": [
    {
     "name": "stdout",
     "output_type": "stream",
     "text": [
      "Datos agrupados por tamaño de compañía, país y salario promedio:\n"
     ]
    },
    {
     "data": {
      "text/html": [
       "<div>\n",
       "<style scoped>\n",
       "    .dataframe tbody tr th:only-of-type {\n",
       "        vertical-align: middle;\n",
       "    }\n",
       "\n",
       "    .dataframe tbody tr th {\n",
       "        vertical-align: top;\n",
       "    }\n",
       "\n",
       "    .dataframe thead th {\n",
       "        text-align: right;\n",
       "    }\n",
       "</style>\n",
       "<table border=\"1\" class=\"dataframe\">\n",
       "  <thead>\n",
       "    <tr style=\"text-align: right;\">\n",
       "      <th></th>\n",
       "      <th></th>\n",
       "      <th>Salary in USD</th>\n",
       "    </tr>\n",
       "    <tr>\n",
       "      <th>Company Size</th>\n",
       "      <th>Company Location</th>\n",
       "      <th></th>\n",
       "    </tr>\n",
       "  </thead>\n",
       "  <tbody>\n",
       "    <tr>\n",
       "      <th rowspan=\"5\" valign=\"top\">Large</th>\n",
       "      <th>American Samoa</th>\n",
       "      <td>50000.000000</td>\n",
       "    </tr>\n",
       "    <tr>\n",
       "      <th>Argentina</th>\n",
       "      <td>50000.000000</td>\n",
       "    </tr>\n",
       "    <tr>\n",
       "      <th>Australia</th>\n",
       "      <td>87307.444444</td>\n",
       "    </tr>\n",
       "    <tr>\n",
       "      <th>Austria</th>\n",
       "      <td>75141.666667</td>\n",
       "    </tr>\n",
       "    <tr>\n",
       "      <th>Belgium</th>\n",
       "      <td>84053.000000</td>\n",
       "    </tr>\n",
       "    <tr>\n",
       "      <th>...</th>\n",
       "      <th>...</th>\n",
       "      <td>...</td>\n",
       "    </tr>\n",
       "    <tr>\n",
       "      <th rowspan=\"5\" valign=\"top\">Small</th>\n",
       "      <th>Turkey</th>\n",
       "      <td>20000.000000</td>\n",
       "    </tr>\n",
       "    <tr>\n",
       "      <th>Ukraine</th>\n",
       "      <td>50000.000000</td>\n",
       "    </tr>\n",
       "    <tr>\n",
       "      <th>United Arab Emirates</th>\n",
       "      <td>92500.000000</td>\n",
       "    </tr>\n",
       "    <tr>\n",
       "      <th>United Kingdom</th>\n",
       "      <td>95451.333333</td>\n",
       "    </tr>\n",
       "    <tr>\n",
       "      <th>United States</th>\n",
       "      <td>113025.087719</td>\n",
       "    </tr>\n",
       "  </tbody>\n",
       "</table>\n",
       "<p>135 rows × 1 columns</p>\n",
       "</div>"
      ],
      "text/plain": [
       "                                   Salary in USD\n",
       "Company Size Company Location                   \n",
       "Large        American Samoa         50000.000000\n",
       "             Argentina              50000.000000\n",
       "             Australia              87307.444444\n",
       "             Austria                75141.666667\n",
       "             Belgium                84053.000000\n",
       "...                                          ...\n",
       "Small        Turkey                 20000.000000\n",
       "             Ukraine                50000.000000\n",
       "             United Arab Emirates   92500.000000\n",
       "             United Kingdom         95451.333333\n",
       "             United States         113025.087719\n",
       "\n",
       "[135 rows x 1 columns]"
      ]
     },
     "execution_count": 97,
     "metadata": {},
     "output_type": "execute_result"
    }
   ],
   "source": [
    "# 10. muestre los datos agrupados por tamaño de la compañía, país y salario promedio.\n",
    "grouped_data = df.groupby([\"Company Size\",\"Company Location\"])[\"Salary in USD\"].mean()\n",
    "print(\"Datos agrupados por tamaño de compañía, país y salario promedio:\")\n",
    "pd.DataFrame(grouped_data)"
   ]
  },
  {
   "cell_type": "code",
   "execution_count": null,
   "metadata": {},
   "outputs": [],
   "source": []
  }
 ],
 "metadata": {
  "kernelspec": {
   "display_name": "Python 3",
   "language": "python",
   "name": "python3"
  },
  "language_info": {
   "codemirror_mode": {
    "name": "ipython",
    "version": 3
   },
   "file_extension": ".py",
   "mimetype": "text/x-python",
   "name": "python",
   "nbconvert_exporter": "python",
   "pygments_lexer": "ipython3",
   "version": "3.7.6"
  }
 },
 "nbformat": 4,
 "nbformat_minor": 4
}
