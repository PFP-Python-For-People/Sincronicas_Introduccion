{
 "cells": [
  {
   "cell_type": "code",
   "execution_count": 4,
   "id": "985a27ff",
   "metadata": {},
   "outputs": [
    {
     "name": "stdout",
     "output_type": "stream",
     "text": [
      "<class 'int'>\n",
      "10\n"
     ]
    }
   ],
   "source": [
    "valor_a = 10\n",
    "print(type(valor_a))\n",
    "print(valor_a)"
   ]
  },
  {
   "cell_type": "code",
   "execution_count": 7,
   "id": "885548a0",
   "metadata": {},
   "outputs": [
    {
     "name": "stdout",
     "output_type": "stream",
     "text": [
      "<class 'int'>\n",
      "<class 'float'>\n",
      "<class 'str'>\n",
      "<class 'str'>\n",
      "<class 'bool'>\n",
      "<class 'bool'>\n"
     ]
    }
   ],
   "source": [
    "print(type(2))\n",
    "print(type(2.0))\n",
    "print(type(\"2\"))\n",
    "print(type('2'))\n",
    "print(type(True))\n",
    "print(type(False))"
   ]
  },
  {
   "cell_type": "code",
   "execution_count": 11,
   "id": "80e8c4d0",
   "metadata": {},
   "outputs": [
    {
     "name": "stdout",
     "output_type": "stream",
     "text": [
      "holasaludos\n"
     ]
    }
   ],
   "source": [
    "valor_uno = 2\n",
    "valor_dos = 2\n",
    "valor_suma = valor_uno + valor_dos\n",
    "print(valor_suma)"
   ]
  },
  {
   "cell_type": "code",
   "execution_count": 22,
   "id": "b3074c35",
   "metadata": {},
   "outputs": [
    {
     "name": "stdout",
     "output_type": "stream",
     "text": [
      "Dame un número: 2\n",
      "2.0\n",
      "Dame otro número: 3.75\n",
      "3.75\n",
      "7.5\n"
     ]
    }
   ],
   "source": [
    "## Calculadora simple\n",
    "numero_inicial = float(input(\"Dame un número: \"))\n",
    "print(numero_inicial)\n",
    "numero_final = float(input(\"Dame otro número: \"))\n",
    "print(numero_final)\n",
    "print(numero_inicial * numero_final)"
   ]
  },
  {
   "cell_type": "code",
   "execution_count": 29,
   "id": "21641165",
   "metadata": {},
   "outputs": [
    {
     "name": "stdout",
     "output_type": "stream",
     "text": [
      "Hello John\n",
      "Hello John, you are 28 years old  :) !\n",
      "soy John y soy <class 'str'>\n"
     ]
    }
   ],
   "source": [
    "# injecting variables using the format method\n",
    "\n",
    "name = 'John'\n",
    "\n",
    "print('Hello {}'.format(name))\n",
    "\n",
    "print('Hello {}, you are {} years old {}!'.format(name, 28, \" :) \"))\n",
    "\n",
    "estado = \"Feliz :)\"\n",
    "\n",
    "tipo = type(\"hola\")\n",
    "\n",
    "print(f\"soy {name} y soy {tipo}\")"
   ]
  },
  {
   "cell_type": "code",
   "execution_count": 35,
   "id": "7860eb6f",
   "metadata": {},
   "outputs": [
    {
     "data": {
      "text/plain": [
       "True"
      ]
     },
     "execution_count": 35,
     "metadata": {},
     "output_type": "execute_result"
    }
   ],
   "source": [
    "valor_a = \"10\"\n",
    "valor_b = \"10\"\n",
    "valor_a == valor_b"
   ]
  },
  {
   "cell_type": "code",
   "execution_count": 38,
   "id": "be4a3527",
   "metadata": {},
   "outputs": [
    {
     "data": {
      "text/plain": [
       "3.141592653589793"
      ]
     },
     "execution_count": 38,
     "metadata": {},
     "output_type": "execute_result"
    }
   ],
   "source": [
    "import math\n",
    "math.pi"
   ]
  },
  {
   "cell_type": "code",
   "execution_count": 39,
   "id": "d6edab65",
   "metadata": {},
   "outputs": [
    {
     "data": {
      "text/plain": [
       "'1.21.6'"
      ]
     },
     "execution_count": 39,
     "metadata": {},
     "output_type": "execute_result"
    }
   ],
   "source": [
    "import numpy as np\n",
    "np.__version__"
   ]
  },
  {
   "cell_type": "code",
   "execution_count": 40,
   "id": "2b9ee7e9",
   "metadata": {},
   "outputs": [
    {
     "data": {
      "text/plain": [
       "'1.1.3'"
      ]
     },
     "execution_count": 40,
     "metadata": {},
     "output_type": "execute_result"
    }
   ],
   "source": [
    "import pandas as pd\n",
    "pd.__version__"
   ]
  },
  {
   "cell_type": "code",
   "execution_count": 41,
   "id": "9b895013",
   "metadata": {},
   "outputs": [
    {
     "data": {
      "text/plain": [
       "'3.3.2'"
      ]
     },
     "execution_count": 41,
     "metadata": {},
     "output_type": "execute_result"
    }
   ],
   "source": [
    "import matplotlib\n",
    "matplotlib.__version__"
   ]
  },
  {
   "cell_type": "code",
   "execution_count": null,
   "id": "92c543b7",
   "metadata": {},
   "outputs": [],
   "source": []
  }
 ],
 "metadata": {
  "kernelspec": {
   "display_name": "Python 3",
   "language": "python",
   "name": "python3"
  },
  "language_info": {
   "codemirror_mode": {
    "name": "ipython",
    "version": 3
   },
   "file_extension": ".py",
   "mimetype": "text/x-python",
   "name": "python",
   "nbconvert_exporter": "python",
   "pygments_lexer": "ipython3",
   "version": "3.7.6"
  }
 },
 "nbformat": 4,
 "nbformat_minor": 5
}
