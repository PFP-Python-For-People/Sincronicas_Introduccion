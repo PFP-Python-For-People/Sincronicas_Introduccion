{
 "cells": [
  {
   "cell_type": "code",
   "execution_count": 4,
   "id": "98f3cacd",
   "metadata": {},
   "outputs": [
    {
     "name": "stdout",
     "output_type": "stream",
     "text": [
      "<class 'int'>\n",
      "10\n"
     ]
    }
   ],
   "source": [
    "valor_a = 10\n",
    "print(type(valor_a))\n",
    "print(valor_a)"
   ]
  },
  {
   "cell_type": "code",
   "execution_count": 7,
   "id": "7d657645",
   "metadata": {},
   "outputs": [
    {
     "name": "stdout",
     "output_type": "stream",
     "text": [
      "<class 'int'>\n",
      "<class 'float'>\n",
      "<class 'str'>\n",
      "<class 'str'>\n",
      "<class 'bool'>\n",
      "<class 'bool'>\n"
     ]
    }
   ],
   "source": [
    "print(type(2))\n",
    "print(type(2.0))\n",
    "print(type(\"2\"))\n",
    "print(type('2'))\n",
    "print(type(True))\n",
    "print(type(False))"
   ]
  },
  {
   "cell_type": "code",
   "execution_count": 11,
   "id": "0013cc9a",
   "metadata": {},
   "outputs": [
    {
     "name": "stdout",
     "output_type": "stream",
     "text": [
      "holasaludos\n"
     ]
    }
   ],
   "source": [
    "valor_uno = 2\n",
    "valor_dos = 2\n",
    "valor_suma = valor_uno + valor_dos\n",
    "print(valor_suma)"
   ]
  },
  {
   "cell_type": "code",
   "execution_count": 22,
   "id": "50413ff0",
   "metadata": {},
   "outputs": [
    {
     "name": "stdout",
     "output_type": "stream",
     "text": [
      "Dame un número: 2\n",
      "2.0\n",
      "Dame otro número: 3.75\n",
      "3.75\n",
      "7.5\n"
     ]
    }
   ],
   "source": [
    "## Calculadora simple\n",
    "numero_inicial = float(input(\"Dame un número: \"))\n",
    "print(numero_inicial)\n",
    "numero_final = float(input(\"Dame otro número: \"))\n",
    "print(numero_final)\n",
    "print(numero_inicial * numero_final)"
   ]
  },
  {
   "cell_type": "code",
   "execution_count": 29,
   "id": "186ab108",
   "metadata": {},
   "outputs": [
    {
     "name": "stdout",
     "output_type": "stream",
     "text": [
      "Hello John\n",
      "Hello John, you are 28 years old  :) !\n",
      "soy John y soy <class 'str'>\n"
     ]
    }
   ],
   "source": [
    "# injecting variables using the format method\n",
    "\n",
    "name = 'John'\n",
    "\n",
    "print('Hello {}'.format(name))\n",
    "\n",
    "print('Hello {}, you are {} years old {}!'.format(name, 28, \" :) \"))\n",
    "\n",
    "estado = \"Feliz :)\"\n",
    "\n",
    "tipo = type(\"hola\")\n",
    "\n",
    "print(f\"soy {name} y soy {tipo}\")"
   ]
  },
  {
   "cell_type": "code",
   "execution_count": 30,
   "id": "db4c4893",
   "metadata": {},
   "outputs": [
    {
     "ename": "SyntaxError",
     "evalue": "can't assign to operator (<ipython-input-30-f06037dfddc4>, line 2)",
     "output_type": "error",
     "traceback": [
      "\u001b[1;36m  File \u001b[1;32m\"<ipython-input-30-f06037dfddc4>\"\u001b[1;36m, line \u001b[1;32m2\u001b[0m\n\u001b[1;33m    valor-a-a = 10\u001b[0m\n\u001b[1;37m                  ^\u001b[0m\n\u001b[1;31mSyntaxError\u001b[0m\u001b[1;31m:\u001b[0m can't assign to operator\n"
     ]
    }
   ],
   "source": []
  },
  {
   "cell_type": "code",
   "execution_count": null,
   "id": "f24af42f",
   "metadata": {},
   "outputs": [],
   "source": []
  }
 ],
 "metadata": {
  "kernelspec": {
   "display_name": "Python 3",
   "language": "python",
   "name": "python3"
  },
  "language_info": {
   "codemirror_mode": {
    "name": "ipython",
    "version": 3
   },
   "file_extension": ".py",
   "mimetype": "text/x-python",
   "name": "python",
   "nbconvert_exporter": "python",
   "pygments_lexer": "ipython3",
   "version": "3.7.6"
  }
 },
 "nbformat": 4,
 "nbformat_minor": 5
}
