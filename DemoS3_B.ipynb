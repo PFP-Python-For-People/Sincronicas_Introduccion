{
 "cells": [
  {
   "cell_type": "markdown",
   "id": "a9a29542",
   "metadata": {},
   "source": [
    "## Demo en clase S3\n",
    "\n",
    "##### Unidad 5 y 6\n",
    "\n",
    "1. ¿Qué es un bloque de código?\n",
    "2. ¿Qué es y para qué sirve una función\n",
    "3. ¿Cómo se construyen las funciones en Python?\n",
    "4. ¿Qué es un paradigma de programación?\n",
    "5. ¿Qué es programación Orientada a Objetos (POO/OOP)?\n",
    "6. ¿Cuáles son los principios de POO/OOP?\n",
    "\n",
    "___________________________________\n",
    "\n",
    "1. Recuento de funciones\n",
    "2. Recuento de programación orientada a objetos\n",
    "\n"
   ]
  },
  {
   "cell_type": "markdown",
   "id": "7c731c41",
   "metadata": {},
   "source": [
    "### Recuento de funciones"
   ]
  },
  {
   "cell_type": "code",
   "execution_count": 2,
   "id": "411b2060",
   "metadata": {},
   "outputs": [
    {
     "name": "stdout",
     "output_type": "stream",
     "text": [
      "Hola\n"
     ]
    }
   ],
   "source": [
    "def imprimir_tareas():\n",
    "    print(\"una tarea que hace la función 1\")\n",
    "    print(\"una tarea que hace la función 2\")\n",
    "    print(\"una tarea que hace la función 3\")\n",
    "    print(\"una tarea que hace la función 4\")\n",
    "    \n",
    "print(\"Hola\")"
   ]
  },
  {
   "cell_type": "code",
   "execution_count": 7,
   "id": "9f448d23",
   "metadata": {},
   "outputs": [
    {
     "name": "stdout",
     "output_type": "stream",
     "text": [
      "una tarea que hace la función 1\n",
      "una tarea que hace la función 2\n",
      "una tarea que hace la función 3\n",
      "una tarea que hace la función 4\n"
     ]
    }
   ],
   "source": [
    "# Llamado a la función\n",
    "imprimir_tareas()"
   ]
  },
  {
   "cell_type": "code",
   "execution_count": 13,
   "id": "12d91474",
   "metadata": {},
   "outputs": [
    {
     "name": "stdout",
     "output_type": "stream",
     "text": [
      "Un retorno de la función\n"
     ]
    }
   ],
   "source": [
    "def nombre_funcion_con_retorno():\n",
    "    texto_retorno = \"Un retorno de la función\"\n",
    "    return texto_retorno\n",
    "\n",
    "# llamado con retorno\n",
    "valor_resultante = nombre_funcion_con_retorno()\n",
    "print(valor_resultante)\n",
    "\n",
    "## Ejemplo almacenar elementos resultantes"
   ]
  },
  {
   "cell_type": "code",
   "execution_count": 19,
   "id": "9350f5da",
   "metadata": {},
   "outputs": [
    {
     "name": "stdout",
     "output_type": "stream",
     "text": [
      "recibí a como:  4\n",
      "recibí b como:  4\n"
     ]
    },
    {
     "data": {
      "text/plain": [
       "8"
      ]
     },
     "execution_count": 19,
     "metadata": {},
     "output_type": "execute_result"
    }
   ],
   "source": [
    "def nombre_funcion_con_parametros(a, b):\n",
    "    print(\"recibí a como: \", a)\n",
    "    print(\"recibí b como: \", b)\n",
    "    return a + b\n",
    "\n",
    "nombre_funcion_con_parametros(4, 4)\n",
    "# mostrar que pasa si no se entregan los parametros"
   ]
  },
  {
   "cell_type": "code",
   "execution_count": 20,
   "id": "6c4e7dc5",
   "metadata": {},
   "outputs": [],
   "source": [
    "def calcular_area_triangulo(base, altura):\n",
    "    return (base * altura)/2"
   ]
  },
  {
   "cell_type": "code",
   "execution_count": 28,
   "id": "7e569edb",
   "metadata": {
    "scrolled": true
   },
   "outputs": [
    {
     "data": {
      "text/plain": [
       "5000.0"
      ]
     },
     "execution_count": 28,
     "metadata": {},
     "output_type": "execute_result"
    }
   ],
   "source": [
    "calcular_area_triangulo(100,100)"
   ]
  },
  {
   "cell_type": "code",
   "execution_count": 23,
   "id": "821a45d4",
   "metadata": {},
   "outputs": [
    {
     "name": "stdout",
     "output_type": "stream",
     "text": [
      "¿cuál es la base del tríangulo?10\n",
      "¿cuál es la altura del tríangulo?10\n",
      "el área del tríangulo es 50.0\n"
     ]
    }
   ],
   "source": [
    "base_usuario = float(input(\"¿cuál es la base del tríangulo?\"))\n",
    "altura_usuario = float(input(\"¿cuál es la altura del tríangulo?\"))\n",
    "\n",
    "print(\"el área del tríangulo es\", calcular_area_triangulo(base_usuario, altura_usuario))"
   ]
  },
  {
   "cell_type": "code",
   "execution_count": null,
   "id": "95035c6c",
   "metadata": {},
   "outputs": [],
   "source": []
  },
  {
   "cell_type": "code",
   "execution_count": 37,
   "id": "18fbc4a4",
   "metadata": {},
   "outputs": [
    {
     "name": "stdout",
     "output_type": "stream",
     "text": [
      "recibí a como:  60\n",
      "recibí b como:  30\n"
     ]
    },
    {
     "data": {
      "text/plain": [
       "90"
      ]
     },
     "execution_count": 37,
     "metadata": {},
     "output_type": "execute_result"
    }
   ],
   "source": [
    "# parámetros por defecto (a = 3, b = 5)\n",
    "def nombre_funcion_con_parametros(a = 3, b = 5):\n",
    "    print(\"recibí a como: \", a)\n",
    "    print(\"recibí b como: \", b)\n",
    "    return a+b\n",
    "\n",
    "nombre_funcion_con_parametros(b = 30, a = 60)\n",
    "\n",
    "#nombre_funcion_con_parametros(a = valueA, b = valueB)\n",
    "# mostrar que pasa si no se entregan los parametros"
   ]
  },
  {
   "cell_type": "markdown",
   "id": "c9208683",
   "metadata": {},
   "source": [
    "### Comportamiento de las variables en relación a la visibilidad (global / local)"
   ]
  },
  {
   "cell_type": "code",
   "execution_count": 39,
   "id": "0eb73e75",
   "metadata": {},
   "outputs": [
    {
     "name": "stdout",
     "output_type": "stream",
     "text": [
      "lloviendo 🌧\n"
     ]
    }
   ],
   "source": [
    "estado = \"lloviendo 🌧\"\n",
    "print(estado)\n",
    "\n",
    "# ¿Qué pasó aquí?\n",
    "\n",
    "# Hablar de visibilidad de las variables\n",
    "# Hablar de enmascaramiento y alcance\n",
    "# Demostrar el uso de global"
   ]
  },
  {
   "cell_type": "code",
   "execution_count": 42,
   "id": "35291615",
   "metadata": {},
   "outputs": [],
   "source": [
    "def cambiarEstado(nuevo_estado):\n",
    "    global estado\n",
    "    estado = nuevo_estado\n",
    "    print(\"en el interior:\", estado)"
   ]
  },
  {
   "cell_type": "code",
   "execution_count": 43,
   "id": "e66e6ac4",
   "metadata": {},
   "outputs": [
    {
     "name": "stdout",
     "output_type": "stream",
     "text": [
      "en el exterior: lloviendo 🌧\n",
      "en el interior: Soleado ☀\n",
      "en el exterior: Soleado ☀\n"
     ]
    }
   ],
   "source": [
    "print(\"en el exterior:\", estado)\n",
    "cambiarEstado(\"Soleado ☀\")\n",
    "print(\"en el exterior:\", estado)"
   ]
  },
  {
   "cell_type": "markdown",
   "id": "2b29adba",
   "metadata": {},
   "source": [
    "### ¿funciones como parámetros?\n",
    "\n",
    "Composicion y la idea de ciudadanos de primer nivel."
   ]
  },
  {
   "cell_type": "code",
   "execution_count": 47,
   "id": "8c6ad3ca",
   "metadata": {},
   "outputs": [],
   "source": [
    "def operar (a, b, accion):\n",
    "    return accion(a, b)\n",
    "\n",
    "def sumar(a, b):\n",
    "    return a+b\n",
    "\n",
    "def restar(a, b):\n",
    "    return a-b\n",
    "\n",
    "def multiplicar(a, b):\n",
    "    return a*b\n",
    "\n",
    "def dividir(a, b):\n",
    "    return a/b"
   ]
  },
  {
   "cell_type": "code",
   "execution_count": 48,
   "id": "07b70553",
   "metadata": {},
   "outputs": [
    {
     "data": {
      "text/plain": [
       "4"
      ]
     },
     "execution_count": 48,
     "metadata": {},
     "output_type": "execute_result"
    }
   ],
   "source": [
    "operar(2, 2, sumar)"
   ]
  },
  {
   "cell_type": "code",
   "execution_count": 49,
   "id": "2e22cd95",
   "metadata": {},
   "outputs": [
    {
     "data": {
      "text/plain": [
       "0"
      ]
     },
     "execution_count": 49,
     "metadata": {},
     "output_type": "execute_result"
    }
   ],
   "source": [
    "operar(2, 2, restar)"
   ]
  },
  {
   "cell_type": "code",
   "execution_count": 50,
   "id": "292b37cb",
   "metadata": {},
   "outputs": [
    {
     "data": {
      "text/plain": [
       "4"
      ]
     },
     "execution_count": 50,
     "metadata": {},
     "output_type": "execute_result"
    }
   ],
   "source": [
    "operar(2, 2, multiplicar)"
   ]
  },
  {
   "cell_type": "code",
   "execution_count": 51,
   "id": "192f23a0",
   "metadata": {},
   "outputs": [
    {
     "data": {
      "text/plain": [
       "1.0"
      ]
     },
     "execution_count": 51,
     "metadata": {},
     "output_type": "execute_result"
    }
   ],
   "source": [
    "operar(2, 2, dividir)"
   ]
  },
  {
   "cell_type": "code",
   "execution_count": 52,
   "id": "b16bba21",
   "metadata": {},
   "outputs": [
    {
     "name": "stdout",
     "output_type": "stream",
     "text": [
      "9\n",
      "20\n",
      "0.8\n",
      "0.8\n"
     ]
    }
   ],
   "source": [
    "def calculador_aritmetico(a, b, accionA, accionB, accionC, accionD):\n",
    "    print(accionA(a,b))\n",
    "    print(accionB(a,b))\n",
    "    print(accionC(a,b))\n",
    "    print(accionD(a,b))\n",
    "\n",
    "calculador_aritmetico(4, 5, sumar, multiplicar, dividir, dividir)"
   ]
  },
  {
   "cell_type": "code",
   "execution_count": 58,
   "id": "f9d0bb37",
   "metadata": {},
   "outputs": [
    {
     "name": "stdout",
     "output_type": "stream",
     "text": [
      "Cómo te llamas?Karen\n",
      "Cual es su apellidoVelez\n"
     ]
    },
    {
     "data": {
      "text/plain": [
       "'Karen Velez'"
      ]
     },
     "execution_count": 58,
     "metadata": {},
     "output_type": "execute_result"
    }
   ],
   "source": [
    "def armarNombre(accionA, accionB):\n",
    "    return accionA() + \" \" + accionB()\n",
    "\n",
    "def solicitarElNombre():\n",
    "    return input(\"Cual es su nombre\")\n",
    "\n",
    "def nuevaFormaSolicitud():\n",
    "    return input(\"Cómo te llamas?\")\n",
    "\n",
    "def solicitarElApellido():\n",
    "    return input(\"Cual es su apellido\")\n",
    "\n",
    "armarNombre(nuevaFormaSolicitud, solicitarElApellido)"
   ]
  },
  {
   "cell_type": "markdown",
   "id": "2af7f923",
   "metadata": {},
   "source": [
    "## Programación orientada a objetos\n",
    "Recuento general, los objetos representan entidades con caracteristicas y servicios."
   ]
  },
  {
   "cell_type": "code",
   "execution_count": 63,
   "id": "4c420e95",
   "metadata": {
    "code_folding": []
   },
   "outputs": [],
   "source": [
    "class Calculadora:\n",
    "\n",
    "    def __init__(self, nombre): ## Hablar de los constructores\n",
    "        print(\"Se está creando una calculadora:\", self)\n",
    "        self.nombre = nombre\n",
    "        \n",
    "    def sumar(self, a, b): ## mostrar que pasa si quitamos self y hablar de self\n",
    "        #print(\"self:\", self)\n",
    "        return a + b \n",
    "    \n",
    "    def restar(self, a, b):\n",
    "        print(\"self:\", self)\n",
    "        return a - b \n",
    "    \n",
    "    def multiplicar(self, a, b):\n",
    "        return a * b \n",
    "    \n",
    "    def dividir(self, a, b):\n",
    "        return a / b "
   ]
  },
  {
   "cell_type": "code",
   "execution_count": 64,
   "id": "b3ea071f",
   "metadata": {},
   "outputs": [
    {
     "name": "stdout",
     "output_type": "stream",
     "text": [
      "Se está creando una calculadora: <__main__.Calculadora object at 0x000001CF59DCFC08>\n",
      "Casio 34500\n",
      "Se está creando una calculadora: <__main__.Calculadora object at 0x000001CF59FDCA88>\n",
      "Casio 56890\n"
     ]
    }
   ],
   "source": [
    "# Qué son las instancias\n",
    "miCalculadora = Calculadora(\"Casio 34500\")\n",
    "print(miCalculadora.nombre)\n",
    "\n",
    "miCalculadoraA = Calculadora(\"Casio 56890\")\n",
    "print(miCalculadoraA.nombre)"
   ]
  },
  {
   "cell_type": "code",
   "execution_count": 90,
   "id": "7c65bd43",
   "metadata": {},
   "outputs": [],
   "source": [
    "class Persona:\n",
    "    valor_hora = 350000;\n",
    "    \n",
    "    def __init__(self, nombre, apellido):\n",
    "        self.nombre = nombre\n",
    "        self.apellido = apellido\n",
    "    \n",
    "    def presentarse(self):\n",
    "        print(\"hola, soy:\", self.nombre, self.apellido, \"mi valor hora consultoria es\", self.valor_hora)    "
   ]
  },
  {
   "cell_type": "code",
   "execution_count": 91,
   "id": "6f02dace",
   "metadata": {},
   "outputs": [],
   "source": [
    "persona_a = Persona(\"Juan\", \"Peña\")"
   ]
  },
  {
   "cell_type": "code",
   "execution_count": 92,
   "id": "72e30ed1",
   "metadata": {},
   "outputs": [],
   "source": [
    "persona_b = Persona(\"Juan\", \"Aguirre\")"
   ]
  },
  {
   "cell_type": "code",
   "execution_count": 93,
   "id": "afb0d0cd",
   "metadata": {},
   "outputs": [],
   "source": [
    "persona_c = Persona(\"Hugo\", \"Lizcano\")"
   ]
  },
  {
   "cell_type": "code",
   "execution_count": 94,
   "id": "0b26590a",
   "metadata": {
    "scrolled": true
   },
   "outputs": [
    {
     "name": "stdout",
     "output_type": "stream",
     "text": [
      "hola, soy: Juan Peña mi valor hora consultoria es 350000\n",
      "hola, soy: Juan Aguirre mi valor hora consultoria es 350000\n",
      "hola, soy: Hugo Lizcano mi valor hora consultoria es 350000\n"
     ]
    }
   ],
   "source": [
    "persona_a.presentarse()\n",
    "persona_b.presentarse()\n",
    "persona_c.presentarse()"
   ]
  },
  {
   "cell_type": "code",
   "execution_count": 95,
   "id": "e788003d",
   "metadata": {},
   "outputs": [
    {
     "data": {
      "text/plain": [
       "__main__.Persona"
      ]
     },
     "execution_count": 95,
     "metadata": {},
     "output_type": "execute_result"
    }
   ],
   "source": [
    "type(persona_a)"
   ]
  },
  {
   "cell_type": "code",
   "execution_count": 74,
   "id": "63236eb2",
   "metadata": {},
   "outputs": [
    {
     "data": {
      "text/plain": [
       "__main__.Persona"
      ]
     },
     "execution_count": 74,
     "metadata": {},
     "output_type": "execute_result"
    }
   ],
   "source": [
    "type(persona_b)"
   ]
  },
  {
   "cell_type": "code",
   "execution_count": 75,
   "id": "1a83058f",
   "metadata": {},
   "outputs": [
    {
     "data": {
      "text/plain": [
       "__main__.Persona"
      ]
     },
     "execution_count": 75,
     "metadata": {},
     "output_type": "execute_result"
    }
   ],
   "source": [
    "type(persona_c)"
   ]
  },
  {
   "cell_type": "code",
   "execution_count": 76,
   "id": "b2f90462",
   "metadata": {},
   "outputs": [
    {
     "data": {
      "text/plain": [
       "__main__.Calculadora"
      ]
     },
     "execution_count": 76,
     "metadata": {},
     "output_type": "execute_result"
    }
   ],
   "source": [
    "# Qué representa ?\n",
    "type(miCalculadora)"
   ]
  },
  {
   "cell_type": "code",
   "execution_count": 78,
   "id": "76ba7312",
   "metadata": {},
   "outputs": [
    {
     "name": "stdout",
     "output_type": "stream",
     "text": [
      "54\n"
     ]
    }
   ],
   "source": [
    "# qué hace la notación de (.) punto\n",
    "suma = miCalculadora.sumar(10, 44)\n",
    "print(suma)"
   ]
  },
  {
   "cell_type": "code",
   "execution_count": 79,
   "id": "6437e597",
   "metadata": {},
   "outputs": [
    {
     "name": "stdout",
     "output_type": "stream",
     "text": [
      "self: <__main__.Calculadora object at 0x000001CF59DCFC08>\n",
      "-34\n"
     ]
    }
   ],
   "source": [
    "resta = miCalculadora.restar(10, 44)\n",
    "print(resta)"
   ]
  },
  {
   "cell_type": "code",
   "execution_count": 80,
   "id": "8d8f5156",
   "metadata": {},
   "outputs": [
    {
     "name": "stdout",
     "output_type": "stream",
     "text": [
      "100\n"
     ]
    }
   ],
   "source": [
    "multiplicacion = miCalculadora.multiplicar(10,10);\n",
    "print(multiplicacion)"
   ]
  },
  {
   "cell_type": "code",
   "execution_count": 81,
   "id": "37f3a2b0",
   "metadata": {},
   "outputs": [
    {
     "data": {
      "text/plain": [
       "10.0"
      ]
     },
     "execution_count": 81,
     "metadata": {},
     "output_type": "execute_result"
    }
   ],
   "source": [
    "division = miCalculadora.dividir(100,10)\n",
    "division"
   ]
  },
  {
   "cell_type": "markdown",
   "id": "3ee73c15",
   "metadata": {},
   "source": [
    "### Además de las instancias, ¿qué tenemos?"
   ]
  },
  {
   "cell_type": "markdown",
   "id": "bd53f7b9",
   "metadata": {},
   "source": [
    "#### Decoradores\n",
    "\n",
    "¿Qué son?: Son definiciones adicionales usando la notación de @\n",
    "\n",
    "##### ¿Cuáles usamos?\n",
    "\n",
    "@staticmethod y @classmethod son decoradores en Python utilizados para definir métodos dentro de una clase.\n",
    "\n",
    "Ambos permiten llamar a los métodos sin la necesidad de crear una instancia de la clase, lo que significa que son métodos que pertenecen a la clase en sí y no a las instancias individuales de la clase.\n",
    "\n",
    "⚠ La principal diferencia entre @staticmethod y @classmethod radica en cómo se pasan los argumentos y cómo se comportan en relación con la clase y las instancias. Veamos cada uno de ellos:"
   ]
  },
  {
   "cell_type": "markdown",
   "id": "5eb266dd",
   "metadata": {},
   "source": [
    "###### @staticmethod:\n",
    "\n",
    "Un método decorado con @staticmethod no toma el primer argumento como self. No tiene acceso a los atributos o métodos de instancia, ni al propio objeto de la instancia. Por lo tanto, no necesita una referencia a la instancia de la clase para ser llamado.\n",
    "\n",
    "Se utiliza para definir métodos que no necesitan información específica de la instancia y que realizan operaciones independientes de cualquier estado de instancia.\n",
    "\n",
    "Se puede llamar desde la clase o una instancia de la clase."
   ]
  },
  {
   "cell_type": "code",
   "execution_count": 98,
   "id": "b9c96315",
   "metadata": {},
   "outputs": [
    {
     "name": "stdout",
     "output_type": "stream",
     "text": [
      "Soy un método estático.\n",
      "Soy un método estático.\n"
     ]
    }
   ],
   "source": [
    "class MyClass:\n",
    "    valor = 400000\n",
    "    @staticmethod\n",
    "    def static_method():\n",
    "        print(\"Soy un método estático.\")\n",
    "\n",
    "# Llamada desde la clase\n",
    "MyClass.static_method()\n",
    "\n",
    "# Llamada desde una instancia de la clase\n",
    "obj = MyClass()\n",
    "obj.static_method()\n"
   ]
  },
  {
   "cell_type": "markdown",
   "id": "61e6f096",
   "metadata": {},
   "source": [
    "##### @classmethod:\n",
    "\n",
    "Un método decorado con @classmethod toma el primer argumento como cls, que hace referencia a la propia clase. Con este argumento, el método tiene acceso a los atributos y métodos de la clase.\n",
    "\n",
    "Se utiliza para definir métodos que necesitan acceder a la clase y no necesariamente a las instancias individuales.\n",
    "\n",
    "Se puede llamar desde la clase, y también desde una instancia de la clase, pero en este caso, cls se refiere a la clase que es el tipo de la instancia desde la cual se llama."
   ]
  },
  {
   "cell_type": "code",
   "execution_count": 110,
   "id": "7e25a1dc",
   "metadata": {},
   "outputs": [
    {
     "name": "stdout",
     "output_type": "stream",
     "text": [
      "soy un método de clase\n",
      "Hola terricolas\n",
      "soy un método de clase\n",
      "Hola terricolas\n"
     ]
    }
   ],
   "source": [
    "class MyClass:\n",
    "    class_variable = \"Hola terricolas\"   \n",
    "        \n",
    "    @classmethod\n",
    "    def class_method(cls):\n",
    "        print(\"soy un método de clase\")\n",
    "        print(cls.class_variable)  # Acceso a atributos de la clase\n",
    "\n",
    "# Llamada desde la clase\n",
    "MyClass.class_method()\n",
    "\n",
    "# Llamada desde una instancia de la clase\n",
    "obj = MyClass()\n",
    "obj.class_method()"
   ]
  },
  {
   "cell_type": "code",
   "execution_count": null,
   "id": "1307c686",
   "metadata": {},
   "outputs": [],
   "source": []
  }
 ],
 "metadata": {
  "kernelspec": {
   "display_name": "Python 3",
   "language": "python",
   "name": "python3"
  },
  "language_info": {
   "codemirror_mode": {
    "name": "ipython",
    "version": 3
   },
   "file_extension": ".py",
   "mimetype": "text/x-python",
   "name": "python",
   "nbconvert_exporter": "python",
   "pygments_lexer": "ipython3",
   "version": "3.7.6"
  }
 },
 "nbformat": 4,
 "nbformat_minor": 5
}
