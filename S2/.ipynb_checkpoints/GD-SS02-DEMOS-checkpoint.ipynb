{
 "cells": [
  {
   "cell_type": "markdown",
   "id": "3f51d893",
   "metadata": {},
   "source": [
    "# Sesión sincrónica 2\n",
    "\n",
    "#### Unidad 3\n",
    "\n",
    "1. ¿Qué son las estructuras de control de flujo - condicionales?\n",
    "2. Selección y condiciones.\n",
    "3. Selección simple, doble y múltiple"
   ]
  },
  {
   "cell_type": "code",
   "execution_count": 9,
   "id": "0526bd79",
   "metadata": {},
   "outputs": [
    {
     "name": "stdout",
     "output_type": "stream",
     "text": [
      "1\n",
      "2\n",
      "3\n",
      "4\n",
      "5\n"
     ]
    }
   ],
   "source": [
    "# secuencia\n",
    "\n",
    "print(1)\n",
    "print(2)\n",
    "print(3)\n",
    "print(4)\n",
    "print(5)"
   ]
  },
  {
   "cell_type": "markdown",
   "id": "3bcd5efa",
   "metadata": {},
   "source": [
    "### Acerca de las condiciones"
   ]
  },
  {
   "cell_type": "code",
   "execution_count": 6,
   "id": "15193ab5",
   "metadata": {},
   "outputs": [],
   "source": [
    "condicion_a = True\n",
    "condicion_b = False"
   ]
  },
  {
   "cell_type": "code",
   "execution_count": 7,
   "id": "6d880012",
   "metadata": {},
   "outputs": [
    {
     "name": "stdout",
     "output_type": "stream",
     "text": [
      "True False False False\n"
     ]
    }
   ],
   "source": [
    "# and ---> y\n",
    "condicion_c = True and True\n",
    "condicion_d = True and False\n",
    "condicion_e = False and True\n",
    "condicion_f = False and False\n",
    "print(condicion_c, condicion_d, condicion_e, condicion_f)"
   ]
  },
  {
   "cell_type": "code",
   "execution_count": 8,
   "id": "1014782e",
   "metadata": {},
   "outputs": [
    {
     "name": "stdout",
     "output_type": "stream",
     "text": [
      "True True True False\n"
     ]
    }
   ],
   "source": [
    "# or ---> o\n",
    "condicion_g = True or True\n",
    "condicion_h = True or False\n",
    "condicion_i = False or True\n",
    "condicion_j = False or False\n",
    "print(condicion_g, condicion_h, condicion_i, condicion_j)"
   ]
  },
  {
   "cell_type": "code",
   "execution_count": 15,
   "id": "b8334883",
   "metadata": {},
   "outputs": [],
   "source": [
    "# if ---> seleccion simple\n",
    "\n",
    "edad_persona = 17\n",
    "edad_minima_ingreso = 18\n",
    "\n",
    "if(edad_persona >= edad_minima_ingreso):\n",
    "    print(\"Esta persona puede ingresar\")\n",
    "    print(\"Recibe collar de bienvenida\")\n",
    "    print(\"Se le acomoda en una mesa\")"
   ]
  },
  {
   "cell_type": "code",
   "execution_count": 14,
   "id": "7bac4cc2",
   "metadata": {},
   "outputs": [
    {
     "name": "stdout",
     "output_type": "stream",
     "text": [
      "Lo sentimos no puedes ingresar\n",
      "Recibe ayuda para pedir el taxi de regreso a casa\n"
     ]
    }
   ],
   "source": [
    "# else\n",
    "edad_persona = 17\n",
    "edad_minima_ingreso = 18\n",
    "\n",
    "if(edad_persona >= edad_minima_ingreso):\n",
    "    print(\"Esta persona puede ingresar\")\n",
    "    print(\"Recibe collar de bienvenida\")\n",
    "    print(\"Se le acomoda en una mesa\")\n",
    "else:\n",
    "    print(\"Lo sentimos no puedes ingresar\")\n",
    "    print(\"Recibe ayuda para pedir el taxi de regreso a casa\")"
   ]
  },
  {
   "cell_type": "code",
   "execution_count": 28,
   "id": "c9bc93ef",
   "metadata": {},
   "outputs": [
    {
     "name": "stdout",
     "output_type": "stream",
     "text": [
      "Esta persona ingresar a Años Dorados\n"
     ]
    }
   ],
   "source": [
    "# elif\n",
    "\n",
    "## [VIP]: 21 - 28\n",
    "## [Años Dorados]: 58 - 70\n",
    "## [General]: 18 - 35\n",
    "## Menor de 18, no puede ingresar\n",
    "\n",
    "edad_persona = 58\n",
    "\n",
    "if(edad_persona >= 18):    \n",
    "    if(edad_persona>=21 and edad_persona<=28):\n",
    "        print(\"Esta persona ingresar al VIP\")\n",
    "    elif(edad_persona>=58 and edad_persona<=70):\n",
    "        print(\"Esta persona ingresar a Años Dorados\")\n",
    "    elif(edad_persona>=18 and edad_persona<=35):\n",
    "        print(\"Esta persona ingresar a General\")\n",
    "    else:\n",
    "        print(\"Esta persona ingresar a la zona de comidas\")\n",
    "else:\n",
    "    print(\"Esta persona no puede ingresar\")\n",
    "    \n",
    "\n",
    "# if - else\n",
    "# if - elif - elif - elif - else"
   ]
  },
  {
   "cell_type": "code",
   "execution_count": null,
   "id": "8584e472",
   "metadata": {},
   "outputs": [],
   "source": [
    "edad_persona = 58\n",
    "\n",
    "if(edad_persona >= 18):    \n",
    "    if(edad_persona>=21 and edad_persona<=28):\n",
    "        print(\"Esta persona ingresar al VIP\")\n",
    "    if(edad_persona>=58 and edad_persona<=70):\n",
    "        print(\"Esta persona ingresar a Años Dorados\")\n",
    "    if(edad_persona>=18 and edad_persona<=35):\n",
    "        print(\"Esta persona ingresar a General\")\n",
    "    # else:\n",
    "    # print(\"Esta persona ingresar a la zona de comidas\")\n",
    "else:\n",
    "    print(\"Esta persona no puede ingresar\")"
   ]
  },
  {
   "cell_type": "code",
   "execution_count": null,
   "id": "74e379fc",
   "metadata": {},
   "outputs": [],
   "source": [
    "# Ejercicio de selección computadores precio\n",
    "\n"
   ]
  },
  {
   "cell_type": "markdown",
   "id": "71547be2",
   "metadata": {},
   "source": [
    "#### Unidad 4\n",
    "\n",
    "1. ¿Qué son las estructuras de control de flujo - ciclos?\n",
    "2. Ciclos en Python."
   ]
  },
  {
   "cell_type": "code",
   "execution_count": null,
   "id": "2a548c47",
   "metadata": {},
   "outputs": [],
   "source": [
    "# list"
   ]
  },
  {
   "cell_type": "code",
   "execution_count": null,
   "id": "aca7816f",
   "metadata": {},
   "outputs": [],
   "source": [
    "# while"
   ]
  },
  {
   "cell_type": "code",
   "execution_count": null,
   "id": "2f33a192",
   "metadata": {},
   "outputs": [],
   "source": [
    "# do\n"
   ]
  },
  {
   "cell_type": "code",
   "execution_count": null,
   "id": "eec4d240",
   "metadata": {},
   "outputs": [],
   "source": [
    "# for"
   ]
  },
  {
   "cell_type": "code",
   "execution_count": null,
   "id": "1a05e799",
   "metadata": {},
   "outputs": [],
   "source": [
    "# range"
   ]
  },
  {
   "cell_type": "code",
   "execution_count": null,
   "id": "365120a5",
   "metadata": {},
   "outputs": [],
   "source": [
    "# Ejercicio de cáculo de pasos"
   ]
  }
 ],
 "metadata": {
  "kernelspec": {
   "display_name": "Python 3",
   "language": "python",
   "name": "python3"
  },
  "language_info": {
   "codemirror_mode": {
    "name": "ipython",
    "version": 3
   },
   "file_extension": ".py",
   "mimetype": "text/x-python",
   "name": "python",
   "nbconvert_exporter": "python",
   "pygments_lexer": "ipython3",
   "version": "3.7.6"
  }
 },
 "nbformat": 4,
 "nbformat_minor": 5
}
