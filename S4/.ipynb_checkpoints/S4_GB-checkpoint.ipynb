{
 "cells": [
  {
   "cell_type": "markdown",
   "metadata": {},
   "source": [
    "## Tarea 1\n",
    "##### Dataset de salarios (Científicos de datos)\n",
    "\n",
    "https://www.kaggle.com/datasets/iamsouravbanerjee/data-science-salaries-2023\n"
   ]
  },
  {
   "cell_type": "code",
   "execution_count": 8,
   "metadata": {
    "scrolled": true
   },
   "outputs": [
    {
     "data": {
      "text/html": [
       "<div>\n",
       "<style scoped>\n",
       "    .dataframe tbody tr th:only-of-type {\n",
       "        vertical-align: middle;\n",
       "    }\n",
       "\n",
       "    .dataframe tbody tr th {\n",
       "        vertical-align: top;\n",
       "    }\n",
       "\n",
       "    .dataframe thead th {\n",
       "        text-align: right;\n",
       "    }\n",
       "</style>\n",
       "<table border=\"1\" class=\"dataframe\">\n",
       "  <thead>\n",
       "    <tr style=\"text-align: right;\">\n",
       "      <th></th>\n",
       "      <th>Job Title</th>\n",
       "      <th>Employment Type</th>\n",
       "      <th>Experience Level</th>\n",
       "      <th>Expertise Level</th>\n",
       "      <th>Salary</th>\n",
       "      <th>Salary Currency</th>\n",
       "      <th>Company Location</th>\n",
       "      <th>Salary in USD</th>\n",
       "      <th>Employee Residence</th>\n",
       "      <th>Company Size</th>\n",
       "      <th>Year</th>\n",
       "    </tr>\n",
       "  </thead>\n",
       "  <tbody>\n",
       "    <tr>\n",
       "      <th>0</th>\n",
       "      <td>Data Engineer</td>\n",
       "      <td>Full-Time</td>\n",
       "      <td>Senior</td>\n",
       "      <td>Expert</td>\n",
       "      <td>210000</td>\n",
       "      <td>United States Dollar</td>\n",
       "      <td>United States</td>\n",
       "      <td>210000</td>\n",
       "      <td>United States</td>\n",
       "      <td>Medium</td>\n",
       "      <td>2023</td>\n",
       "    </tr>\n",
       "    <tr>\n",
       "      <th>1</th>\n",
       "      <td>Data Engineer</td>\n",
       "      <td>Full-Time</td>\n",
       "      <td>Senior</td>\n",
       "      <td>Expert</td>\n",
       "      <td>165000</td>\n",
       "      <td>United States Dollar</td>\n",
       "      <td>United States</td>\n",
       "      <td>165000</td>\n",
       "      <td>United States</td>\n",
       "      <td>Medium</td>\n",
       "      <td>2023</td>\n",
       "    </tr>\n",
       "    <tr>\n",
       "      <th>2</th>\n",
       "      <td>Data Engineer</td>\n",
       "      <td>Full-Time</td>\n",
       "      <td>Senior</td>\n",
       "      <td>Expert</td>\n",
       "      <td>185900</td>\n",
       "      <td>United States Dollar</td>\n",
       "      <td>United States</td>\n",
       "      <td>185900</td>\n",
       "      <td>United States</td>\n",
       "      <td>Medium</td>\n",
       "      <td>2023</td>\n",
       "    </tr>\n",
       "    <tr>\n",
       "      <th>3</th>\n",
       "      <td>Data Engineer</td>\n",
       "      <td>Full-Time</td>\n",
       "      <td>Senior</td>\n",
       "      <td>Expert</td>\n",
       "      <td>129300</td>\n",
       "      <td>United States Dollar</td>\n",
       "      <td>United States</td>\n",
       "      <td>129300</td>\n",
       "      <td>United States</td>\n",
       "      <td>Medium</td>\n",
       "      <td>2023</td>\n",
       "    </tr>\n",
       "    <tr>\n",
       "      <th>4</th>\n",
       "      <td>Data Scientist</td>\n",
       "      <td>Full-Time</td>\n",
       "      <td>Senior</td>\n",
       "      <td>Expert</td>\n",
       "      <td>140000</td>\n",
       "      <td>United States Dollar</td>\n",
       "      <td>United States</td>\n",
       "      <td>140000</td>\n",
       "      <td>United States</td>\n",
       "      <td>Medium</td>\n",
       "      <td>2023</td>\n",
       "    </tr>\n",
       "  </tbody>\n",
       "</table>\n",
       "</div>"
      ],
      "text/plain": [
       "        Job Title Employment Type Experience Level Expertise Level  Salary  \\\n",
       "0   Data Engineer       Full-Time           Senior          Expert  210000   \n",
       "1   Data Engineer       Full-Time           Senior          Expert  165000   \n",
       "2   Data Engineer       Full-Time           Senior          Expert  185900   \n",
       "3   Data Engineer       Full-Time           Senior          Expert  129300   \n",
       "4  Data Scientist       Full-Time           Senior          Expert  140000   \n",
       "\n",
       "        Salary Currency Company Location  Salary in USD Employee Residence  \\\n",
       "0  United States Dollar    United States         210000      United States   \n",
       "1  United States Dollar    United States         165000      United States   \n",
       "2  United States Dollar    United States         185900      United States   \n",
       "3  United States Dollar    United States         129300      United States   \n",
       "4  United States Dollar    United States         140000      United States   \n",
       "\n",
       "  Company Size  Year  \n",
       "0       Medium  2023  \n",
       "1       Medium  2023  \n",
       "2       Medium  2023  \n",
       "3       Medium  2023  \n",
       "4       Medium  2023  "
      ]
     },
     "execution_count": 8,
     "metadata": {},
     "output_type": "execute_result"
    }
   ],
   "source": [
    "import pandas as pd\n",
    "import matplotlib.pyplot as plt\n",
    "\n",
    "df = pd.read_csv(\"Latest_Data_Science_Salaries.csv\")\n",
    "\n",
    "df.head(5)"
   ]
  },
  {
   "cell_type": "code",
   "execution_count": 9,
   "metadata": {
    "scrolled": true
   },
   "outputs": [
    {
     "name": "stdout",
     "output_type": "stream",
     "text": [
      "<class 'pandas.core.frame.DataFrame'>\n",
      "RangeIndex: 3300 entries, 0 to 3299\n",
      "Data columns (total 11 columns):\n",
      " #   Column              Non-Null Count  Dtype \n",
      "---  ------              --------------  ----- \n",
      " 0   Job Title           3300 non-null   object\n",
      " 1   Employment Type     3300 non-null   object\n",
      " 2   Experience Level    3300 non-null   object\n",
      " 3   Expertise Level     3300 non-null   object\n",
      " 4   Salary              3300 non-null   int64 \n",
      " 5   Salary Currency     3300 non-null   object\n",
      " 6   Company Location    3300 non-null   object\n",
      " 7   Salary in USD       3300 non-null   int64 \n",
      " 8   Employee Residence  3300 non-null   object\n",
      " 9   Company Size        3300 non-null   object\n",
      " 10  Year                3300 non-null   int64 \n",
      "dtypes: int64(3), object(8)\n",
      "memory usage: 283.7+ KB\n"
     ]
    }
   ],
   "source": [
    "df.info()"
   ]
  },
  {
   "cell_type": "code",
   "execution_count": 12,
   "metadata": {
    "scrolled": true
   },
   "outputs": [
    {
     "data": {
      "text/plain": [
       "Medium    2707\n",
       "Large      442\n",
       "Small      151\n",
       "Name: Company Size, dtype: int64"
      ]
     },
     "execution_count": 12,
     "metadata": {},
     "output_type": "execute_result"
    }
   ],
   "source": [
    "df[\"Company Size\"].value_counts()"
   ]
  },
  {
   "cell_type": "code",
   "execution_count": 13,
   "metadata": {},
   "outputs": [
    {
     "data": {
      "text/plain": [
       "count      3300.000000\n",
       "mean     142095.983939\n",
       "std       69028.235512\n",
       "min       15000.000000\n",
       "25%       90000.000000\n",
       "50%      136000.000000\n",
       "75%      185000.000000\n",
       "max      450000.000000\n",
       "Name: Salary in USD, dtype: float64"
      ]
     },
     "execution_count": 13,
     "metadata": {},
     "output_type": "execute_result"
    }
   ],
   "source": [
    "df[\"Salary in USD\"].describe()"
   ]
  },
  {
   "cell_type": "markdown",
   "metadata": {},
   "source": [
    "# Ejercicio en Clase:\n",
    "\n",
    "Para este ejercicio debes realizar los siguientes pasos de manera anticipada los siguientes procesos:\n",
    "- Cargar el conjunto de datos desde un archivo CSV utilizando pandas.\n",
    "- Explorar y familiarizarse con la estructura del conjunto de datos.\n",
    "- Calcular estadísticas descriptivas, como el promedio, la mediana y la desviación estándar, de variables relevantes del conjunto de datos general.\n",
    "\n",
    "#### Acciones por ejecutar\n",
    "\n",
    "1. ¿Cúantos posibles \"Job Title\" existen en el Dataset?\n",
    "2. ¿Cúales son los \"Employment Type\" y en qué frecuencia se presentan en el Dataset?\n",
    "3. ¿Cuáles son los \"Expertise Level\" y \"Experience Level\" y cuál es el salario promedio general de cada uno?\n",
    "4. ¿Cuáles son los \"Salary Currency\" y a qué tasa está covertido respecto al dolar cada uno?\n",
    "5. ¿En cuántos paises diferentes se encuentran los empleados (\"Employee Residence\")?\n",
    "6. ¿Cuál salario promedio por \"Job Title\" agrupado?\n",
    "7. ¿Cuál es el salario promedio por país de residencia (Employee Residence)?\n",
    "8. ¿Cuál es el \"Salary in USD\" máximo y mínimo?¿A qué registro pertenece?\n",
    "9. ¿Cuál es el salario promedio (en USD) por rol por tamaño de compañía?\n",
    "10. muestre los datos agrupados por tamaño de la compañía, país y salario promedio."
   ]
  },
  {
   "cell_type": "markdown",
   "metadata": {},
   "source": [
    "### Propuesta de solución\n"
   ]
  },
  {
   "cell_type": "code",
   "execution_count": 14,
   "metadata": {},
   "outputs": [
    {
     "name": "stdout",
     "output_type": "stream",
     "text": [
      "Wall time: 10 ms\n"
     ]
    }
   ],
   "source": [
    "%%time\n",
    "import pandas as pd\n",
    "\n",
    "# Cargar el dataset\n",
    "df = pd.read_csv(\"Latest_Data_Science_Salaries.csv\")"
   ]
  },
  {
   "cell_type": "code",
   "execution_count": 16,
   "metadata": {},
   "outputs": [
    {
     "name": "stdout",
     "output_type": "stream",
     "text": [
      "Número de posibles Job Titles: 111 tambien:  111\n"
     ]
    }
   ],
   "source": [
    "# 1. ¿Cúantos posibles \"Job Title\" existen en el Dataset?\n",
    "num_job_titles = df[\"Job Title\"].nunique()\n",
    "print(\"Número de posibles Job Titles:\", num_job_titles, \"tambien: \", len(df[\"Job Title\"].unique()))"
   ]
  },
  {
   "cell_type": "code",
   "execution_count": 18,
   "metadata": {},
   "outputs": [
    {
     "name": "stdout",
     "output_type": "stream",
     "text": [
      "Employment Types y su frecuencia:\n",
      "Full-Time    3261\n",
      "Contract       15\n",
      "Part-Time      13\n",
      "Freelance      11\n",
      "Name: Employment Type, dtype: int64\n"
     ]
    }
   ],
   "source": [
    "# 2. ¿Cúales son los \"Employment Type\" y en qué frecuencia se presentan en el Dataset?\n",
    "employment_types = df[\"Employment Type\"].value_counts()\n",
    "print(\"Employment Types y su frecuencia:\")\n",
    "print(employment_types)"
   ]
  },
  {
   "cell_type": "code",
   "execution_count": 19,
   "metadata": {
    "scrolled": false
   },
   "outputs": [
    {
     "name": "stdout",
     "output_type": "stream",
     "text": [
      "Salario promedio por Expertise Level:\n",
      "Expertise Level\n",
      "Director        191512.143836\n",
      "Expert          160277.513317\n",
      "Intermediate    108714.977415\n",
      "Junior           79921.479452\n",
      "Name: Salary in USD, dtype: float64\n"
     ]
    }
   ],
   "source": [
    "#3. ¿Cuáles son los \"Expertise Level\" y \"Experience Level\" y cuál es el salario promedio general de cada uno?\n",
    "expertise_level_salary = df.groupby(\"Expertise Level\")[\"Salary in USD\"].mean()\n",
    "print(\"Salario promedio por Expertise Level:\")\n",
    "print(expertise_level_salary)"
   ]
  },
  {
   "cell_type": "code",
   "execution_count": 26,
   "metadata": {},
   "outputs": [
    {
     "data": {
      "text/plain": [
       "Expertise Level  Experience Level\n",
       "Director         Executive           191512.143836\n",
       "Expert           Senior              160277.513317\n",
       "Intermediate     Mid                 108714.977415\n",
       "Junior           Entry                79921.479452\n",
       "Name: Salary in USD, dtype: float64"
      ]
     },
     "execution_count": 26,
     "metadata": {},
     "output_type": "execute_result"
    }
   ],
   "source": [
    "df_filter = df[[\"Expertise Level\", \"Experience Level\", \"Salary in USD\"]]\n",
    "#dfb = df_filter.groupby(\"Expertise Level\").agg({\"Salary in USD\":\"mean\"})\n",
    "\n",
    "dfb = df_filter.groupby(\"Expertise Level\").agg( salario_promedio = ('Salary in USD', 'mean') )\n",
    "\n",
    "# Renombrado\n",
    "#dfb.rename({\"Salary in USD\" : \"Salario Promedio\"}, inplace=True)\n",
    "dfb\n",
    "df_filter.groupby([\"Expertise Level\",\"Experience Level\"])[\"Salary in USD\"].mean()"
   ]
  },
  {
   "cell_type": "code",
   "execution_count": 27,
   "metadata": {
    "scrolled": true
   },
   "outputs": [
    {
     "name": "stdout",
     "output_type": "stream",
     "text": [
      "Salario promedio por Experience Level:\n",
      "Experience Level\n",
      "Entry         79921.479452\n",
      "Executive    191512.143836\n",
      "Mid          108714.977415\n",
      "Senior       160277.513317\n",
      "Name: Salary in USD, dtype: float64\n"
     ]
    }
   ],
   "source": [
    "experience_level_salary = df.groupby(\"Experience Level\")[\"Salary in USD\"].mean()\n",
    "print(\"Salario promedio por Experience Level:\")\n",
    "print(experience_level_salary)"
   ]
  },
  {
   "cell_type": "code",
   "execution_count": 35,
   "metadata": {},
   "outputs": [
    {
     "data": {
      "text/html": [
       "<div>\n",
       "<style scoped>\n",
       "    .dataframe tbody tr th:only-of-type {\n",
       "        vertical-align: middle;\n",
       "    }\n",
       "\n",
       "    .dataframe tbody tr th {\n",
       "        vertical-align: top;\n",
       "    }\n",
       "\n",
       "    .dataframe thead th {\n",
       "        text-align: right;\n",
       "    }\n",
       "</style>\n",
       "<table border=\"1\" class=\"dataframe\">\n",
       "  <thead>\n",
       "    <tr style=\"text-align: right;\">\n",
       "      <th></th>\n",
       "      <th>Currency Rate</th>\n",
       "    </tr>\n",
       "    <tr>\n",
       "      <th>Salary Currency</th>\n",
       "      <th></th>\n",
       "    </tr>\n",
       "  </thead>\n",
       "  <tbody>\n",
       "    <tr>\n",
       "      <th>Chilean Peso</th>\n",
       "      <td>759.500000</td>\n",
       "    </tr>\n",
       "    <tr>\n",
       "      <th>Hungarian Forint</th>\n",
       "      <td>328.000000</td>\n",
       "    </tr>\n",
       "    <tr>\n",
       "      <th>Japanese Yen</th>\n",
       "      <td>114.500000</td>\n",
       "    </tr>\n",
       "    <tr>\n",
       "      <th>Indian Rupee</th>\n",
       "      <td>77.750000</td>\n",
       "    </tr>\n",
       "    <tr>\n",
       "      <th>Philippine Peso</th>\n",
       "      <td>55.218750</td>\n",
       "    </tr>\n",
       "    <tr>\n",
       "      <th>Thai Baht</th>\n",
       "      <td>34.125000</td>\n",
       "    </tr>\n",
       "    <tr>\n",
       "      <th>Mexican Peso</th>\n",
       "      <td>21.484375</td>\n",
       "    </tr>\n",
       "    <tr>\n",
       "      <th>South African Rand</th>\n",
       "      <td>18.187500</td>\n",
       "    </tr>\n",
       "    <tr>\n",
       "      <th>Turkish Lira</th>\n",
       "      <td>12.476562</td>\n",
       "    </tr>\n",
       "    <tr>\n",
       "      <th>Norwegian Krone</th>\n",
       "      <td>10.453125</td>\n",
       "    </tr>\n",
       "    <tr>\n",
       "      <th>Hong Kong Dollar</th>\n",
       "      <td>7.839844</td>\n",
       "    </tr>\n",
       "    <tr>\n",
       "      <th>Danish Krone</th>\n",
       "      <td>6.375000</td>\n",
       "    </tr>\n",
       "    <tr>\n",
       "      <th>Brazilian Real</th>\n",
       "      <td>5.195312</td>\n",
       "    </tr>\n",
       "    <tr>\n",
       "      <th>Polish Zloty</th>\n",
       "      <td>4.207031</td>\n",
       "    </tr>\n",
       "    <tr>\n",
       "      <th>Israeli New Shekel</th>\n",
       "      <td>3.589844</td>\n",
       "    </tr>\n",
       "    <tr>\n",
       "      <th>Australian Dollar</th>\n",
       "      <td>1.427734</td>\n",
       "    </tr>\n",
       "    <tr>\n",
       "      <th>Singapore Dollar</th>\n",
       "      <td>1.346680</td>\n",
       "    </tr>\n",
       "    <tr>\n",
       "      <th>Canadian Dollar</th>\n",
       "      <td>1.297852</td>\n",
       "    </tr>\n",
       "    <tr>\n",
       "      <th>United States Dollar</th>\n",
       "      <td>1.000000</td>\n",
       "    </tr>\n",
       "    <tr>\n",
       "      <th>Swiss Franc</th>\n",
       "      <td>0.938477</td>\n",
       "    </tr>\n",
       "    <tr>\n",
       "      <th>Euro</th>\n",
       "      <td>0.915527</td>\n",
       "    </tr>\n",
       "    <tr>\n",
       "      <th>British Pound Sterling</th>\n",
       "      <td>0.805664</td>\n",
       "    </tr>\n",
       "  </tbody>\n",
       "</table>\n",
       "</div>"
      ],
      "text/plain": [
       "                        Currency Rate\n",
       "Salary Currency                      \n",
       "Chilean Peso               759.500000\n",
       "Hungarian Forint           328.000000\n",
       "Japanese Yen               114.500000\n",
       "Indian Rupee                77.750000\n",
       "Philippine Peso             55.218750\n",
       "Thai Baht                   34.125000\n",
       "Mexican Peso                21.484375\n",
       "South African Rand          18.187500\n",
       "Turkish Lira                12.476562\n",
       "Norwegian Krone             10.453125\n",
       "Hong Kong Dollar             7.839844\n",
       "Danish Krone                 6.375000\n",
       "Brazilian Real               5.195312\n",
       "Polish Zloty                 4.207031\n",
       "Israeli New Shekel           3.589844\n",
       "Australian Dollar            1.427734\n",
       "Singapore Dollar             1.346680\n",
       "Canadian Dollar              1.297852\n",
       "United States Dollar         1.000000\n",
       "Swiss Franc                  0.938477\n",
       "Euro                         0.915527\n",
       "British Pound Sterling       0.805664"
      ]
     },
     "execution_count": 35,
     "metadata": {},
     "output_type": "execute_result"
    }
   ],
   "source": [
    "# 4. ¿Cuáles son los \"Salary Currency\" y a qué tasa está convertido respecto al dolar cada uno?\n",
    "##################### \n",
    "df[\"Currency Rate\"] = (df[\"Salary\"]/df[\"Salary in USD\"]).astype(\"float16\")\n",
    "df_currency_rate = df.groupby([\"Salary Currency\"]).agg({\"Currency Rate\":\"mean\"})\n",
    "df_currency_rate = pd.DataFrame(df_currency_rate[\"Currency Rate\"])\n",
    "df_currency_rate = df_currency_rate.sort_values(by=\"Currency Rate\", ascending=False)\n",
    "#df_currency_rate.index.unique()\n",
    "df_currency_rate"
   ]
  },
  {
   "cell_type": "code",
   "execution_count": 38,
   "metadata": {},
   "outputs": [
    {
     "name": "stdout",
     "output_type": "stream",
     "text": [
      "Número de países diferentes en Employee Residence: 83\n"
     ]
    }
   ],
   "source": [
    "# 5. ¿En cuántos paises diferentes se encuentran los empleados (\"Employee Residence\")?\n",
    "num_countries = df[\"Employee Residence\"].nunique()\n",
    "print(\"Número de países diferentes en Employee Residence:\", num_countries)\n",
    "\n",
    "#df[\"Employee Residence\"].unique()"
   ]
  },
  {
   "cell_type": "code",
   "execution_count": 39,
   "metadata": {},
   "outputs": [
    {
     "name": "stdout",
     "output_type": "stream",
     "text": [
      "Salario promedio por Job Title:\n",
      "Job Title\n",
      "AI Architect                       237484.000000\n",
      "AI Developer                       133177.777778\n",
      "AI Programmer                       56021.750000\n",
      "AI Scientist                       114117.333333\n",
      "AWS Data Architect                 258000.000000\n",
      "                                       ...      \n",
      "Sales Data Analyst                  60000.000000\n",
      "Software Data Engineer             111627.666667\n",
      "Staff Data Analyst                  97499.000000\n",
      "Staff Data Scientist               134500.000000\n",
      "Staff Machine Learning Engineer    185000.000000\n",
      "Name: Salary in USD, Length: 111, dtype: float64\n"
     ]
    }
   ],
   "source": [
    "# 6. ¿Cuál salario promedio por \"Job Title\" agrupado?\n",
    "job_title_avg_salary = df.groupby(\"Job Title\")[\"Salary in USD\"].mean()\n",
    "print(\"Salario promedio por Job Title:\")\n",
    "print(job_title_avg_salary)"
   ]
  },
  {
   "cell_type": "code",
   "execution_count": 45,
   "metadata": {},
   "outputs": [
    {
     "name": "stdout",
     "output_type": "stream",
     "text": [
      "Salario promedio por país de residencia:\n"
     ]
    },
    {
     "data": {
      "text/html": [
       "<div>\n",
       "<style scoped>\n",
       "    .dataframe tbody tr th:only-of-type {\n",
       "        vertical-align: middle;\n",
       "    }\n",
       "\n",
       "    .dataframe tbody tr th {\n",
       "        vertical-align: top;\n",
       "    }\n",
       "\n",
       "    .dataframe thead th {\n",
       "        text-align: right;\n",
       "    }\n",
       "</style>\n",
       "<table border=\"1\" class=\"dataframe\">\n",
       "  <thead>\n",
       "    <tr style=\"text-align: right;\">\n",
       "      <th></th>\n",
       "      <th>Salary in USD</th>\n",
       "    </tr>\n",
       "    <tr>\n",
       "      <th>Employee Residence</th>\n",
       "      <th></th>\n",
       "    </tr>\n",
       "  </thead>\n",
       "  <tbody>\n",
       "    <tr>\n",
       "      <th>Puerto Rico</th>\n",
       "      <td>166000.000000</td>\n",
       "    </tr>\n",
       "    <tr>\n",
       "      <th>Romania</th>\n",
       "      <td>52274.000000</td>\n",
       "    </tr>\n",
       "    <tr>\n",
       "      <th>Russian Federation</th>\n",
       "      <td>105750.000000</td>\n",
       "    </tr>\n",
       "    <tr>\n",
       "      <th>Saudi Arabia</th>\n",
       "      <td>134999.000000</td>\n",
       "    </tr>\n",
       "    <tr>\n",
       "      <th>Serbia</th>\n",
       "      <td>25532.000000</td>\n",
       "    </tr>\n",
       "    <tr>\n",
       "      <th>Singapore</th>\n",
       "      <td>83092.600000</td>\n",
       "    </tr>\n",
       "    <tr>\n",
       "      <th>Slovenia</th>\n",
       "      <td>62956.000000</td>\n",
       "    </tr>\n",
       "    <tr>\n",
       "      <th>South Africa</th>\n",
       "      <td>34482.000000</td>\n",
       "    </tr>\n",
       "    <tr>\n",
       "      <th>Spain</th>\n",
       "      <td>64663.160000</td>\n",
       "    </tr>\n",
       "    <tr>\n",
       "      <th>Sweden</th>\n",
       "      <td>105000.000000</td>\n",
       "    </tr>\n",
       "    <tr>\n",
       "      <th>Switzerland</th>\n",
       "      <td>101659.400000</td>\n",
       "    </tr>\n",
       "    <tr>\n",
       "      <th>Thailand</th>\n",
       "      <td>22971.333333</td>\n",
       "    </tr>\n",
       "    <tr>\n",
       "      <th>Tunisia</th>\n",
       "      <td>30469.000000</td>\n",
       "    </tr>\n",
       "    <tr>\n",
       "      <th>Turkey</th>\n",
       "      <td>35261.333333</td>\n",
       "    </tr>\n",
       "    <tr>\n",
       "      <th>Ukraine</th>\n",
       "      <td>72666.666667</td>\n",
       "    </tr>\n",
       "    <tr>\n",
       "      <th>United Arab Emirates</th>\n",
       "      <td>100000.000000</td>\n",
       "    </tr>\n",
       "    <tr>\n",
       "      <th>United Kingdom</th>\n",
       "      <td>109147.424490</td>\n",
       "    </tr>\n",
       "    <tr>\n",
       "      <th>United States</th>\n",
       "      <td>159794.726050</td>\n",
       "    </tr>\n",
       "    <tr>\n",
       "      <th>Uzbekistan</th>\n",
       "      <td>82000.000000</td>\n",
       "    </tr>\n",
       "    <tr>\n",
       "      <th>Viet Nam</th>\n",
       "      <td>44200.000000</td>\n",
       "    </tr>\n",
       "  </tbody>\n",
       "</table>\n",
       "</div>"
      ],
      "text/plain": [
       "                      Salary in USD\n",
       "Employee Residence                 \n",
       "Puerto Rico           166000.000000\n",
       "Romania                52274.000000\n",
       "Russian Federation    105750.000000\n",
       "Saudi Arabia          134999.000000\n",
       "Serbia                 25532.000000\n",
       "Singapore              83092.600000\n",
       "Slovenia               62956.000000\n",
       "South Africa           34482.000000\n",
       "Spain                  64663.160000\n",
       "Sweden                105000.000000\n",
       "Switzerland           101659.400000\n",
       "Thailand               22971.333333\n",
       "Tunisia                30469.000000\n",
       "Turkey                 35261.333333\n",
       "Ukraine                72666.666667\n",
       "United Arab Emirates  100000.000000\n",
       "United Kingdom        109147.424490\n",
       "United States         159794.726050\n",
       "Uzbekistan             82000.000000\n",
       "Viet Nam               44200.000000"
      ]
     },
     "execution_count": 45,
     "metadata": {},
     "output_type": "execute_result"
    }
   ],
   "source": [
    "# 7. ¿Cuál es el salario promedio por país de residencia (Employee Residence)?\n",
    "residence_avg_salary = df.groupby(\"Employee Residence\")[\"Salary in USD\"].mean()\n",
    "print(\"Salario promedio por país de residencia:\")\n",
    "df_sample = pd.DataFrame(residence_avg_salary)\n",
    "df_sample.tail(20)"
   ]
  },
  {
   "cell_type": "code",
   "execution_count": 101,
   "metadata": {
    "scrolled": true
   },
   "outputs": [
    {
     "name": "stdout",
     "output_type": "stream",
     "text": [
      "Salario máximo: 450000\n",
      "Registro correspondiente al salario máximo:\n"
     ]
    },
    {
     "data": {
      "text/html": [
       "<div>\n",
       "<style scoped>\n",
       "    .dataframe tbody tr th:only-of-type {\n",
       "        vertical-align: middle;\n",
       "    }\n",
       "\n",
       "    .dataframe tbody tr th {\n",
       "        vertical-align: top;\n",
       "    }\n",
       "\n",
       "    .dataframe thead th {\n",
       "        text-align: right;\n",
       "    }\n",
       "</style>\n",
       "<table border=\"1\" class=\"dataframe\">\n",
       "  <thead>\n",
       "    <tr style=\"text-align: right;\">\n",
       "      <th></th>\n",
       "      <th>Job Title</th>\n",
       "      <th>Employment Type</th>\n",
       "      <th>Experience Level</th>\n",
       "      <th>Expertise Level</th>\n",
       "      <th>Salary</th>\n",
       "      <th>Salary Currency</th>\n",
       "      <th>Company Location</th>\n",
       "      <th>Salary in USD</th>\n",
       "      <th>Employee Residence</th>\n",
       "      <th>Company Size</th>\n",
       "      <th>Year</th>\n",
       "      <th>Currency Rate</th>\n",
       "    </tr>\n",
       "  </thead>\n",
       "  <tbody>\n",
       "    <tr>\n",
       "      <th>3085</th>\n",
       "      <td>Research Scientist</td>\n",
       "      <td>Full-Time</td>\n",
       "      <td>Mid</td>\n",
       "      <td>Intermediate</td>\n",
       "      <td>450000</td>\n",
       "      <td>United States Dollar</td>\n",
       "      <td>United States</td>\n",
       "      <td>450000</td>\n",
       "      <td>United States</td>\n",
       "      <td>Medium</td>\n",
       "      <td>2020</td>\n",
       "      <td>1.0</td>\n",
       "    </tr>\n",
       "  </tbody>\n",
       "</table>\n",
       "</div>"
      ],
      "text/plain": [
       "               Job Title Employment Type Experience Level Expertise Level  \\\n",
       "3085  Research Scientist       Full-Time              Mid    Intermediate   \n",
       "\n",
       "      Salary       Salary Currency Company Location  Salary in USD  \\\n",
       "3085  450000  United States Dollar    United States         450000   \n",
       "\n",
       "     Employee Residence Company Size  Year  Currency Rate  \n",
       "3085      United States       Medium  2020            1.0  "
      ]
     },
     "execution_count": 101,
     "metadata": {},
     "output_type": "execute_result"
    }
   ],
   "source": [
    "# 8. ¿Cuál es el \"Salary in USD\" máximo y mínimo?¿A qué registro pertenece?\n",
    "max_salary = df[\"Salary in USD\"].max()\n",
    "#print(max_salary)\n",
    "max_salary_row = df[ df[\"Salary in USD\"] == max_salary ]\n",
    "print(\"Salario máximo:\", max_salary)\n",
    "print(\"Registro correspondiente al salario máximo:\")\n",
    "max_salary_row"
   ]
  },
  {
   "cell_type": "code",
   "execution_count": 46,
   "metadata": {},
   "outputs": [
    {
     "name": "stdout",
     "output_type": "stream",
     "text": [
      "Salario mínimo: 15000\n",
      "Registro correspondiente al salario mínimo:\n"
     ]
    },
    {
     "data": {
      "text/html": [
       "<div>\n",
       "<style scoped>\n",
       "    .dataframe tbody tr th:only-of-type {\n",
       "        vertical-align: middle;\n",
       "    }\n",
       "\n",
       "    .dataframe tbody tr th {\n",
       "        vertical-align: top;\n",
       "    }\n",
       "\n",
       "    .dataframe thead th {\n",
       "        text-align: right;\n",
       "    }\n",
       "</style>\n",
       "<table border=\"1\" class=\"dataframe\">\n",
       "  <thead>\n",
       "    <tr style=\"text-align: right;\">\n",
       "      <th></th>\n",
       "      <th>Job Title</th>\n",
       "      <th>Employment Type</th>\n",
       "      <th>Experience Level</th>\n",
       "      <th>Expertise Level</th>\n",
       "      <th>Salary</th>\n",
       "      <th>Salary Currency</th>\n",
       "      <th>Company Location</th>\n",
       "      <th>Salary in USD</th>\n",
       "      <th>Employee Residence</th>\n",
       "      <th>Company Size</th>\n",
       "      <th>Year</th>\n",
       "      <th>Currency Rate</th>\n",
       "    </tr>\n",
       "  </thead>\n",
       "  <tbody>\n",
       "    <tr>\n",
       "      <th>1335</th>\n",
       "      <td>Staff Data Analyst</td>\n",
       "      <td>Full-Time</td>\n",
       "      <td>Executive</td>\n",
       "      <td>Director</td>\n",
       "      <td>15000</td>\n",
       "      <td>United States Dollar</td>\n",
       "      <td>Canada</td>\n",
       "      <td>15000</td>\n",
       "      <td>Nigeria</td>\n",
       "      <td>Medium</td>\n",
       "      <td>2020</td>\n",
       "      <td>1.0</td>\n",
       "    </tr>\n",
       "    <tr>\n",
       "      <th>2641</th>\n",
       "      <td>Machine Learning Developer</td>\n",
       "      <td>Full-Time</td>\n",
       "      <td>Entry</td>\n",
       "      <td>Junior</td>\n",
       "      <td>15000</td>\n",
       "      <td>United States Dollar</td>\n",
       "      <td>Thailand</td>\n",
       "      <td>15000</td>\n",
       "      <td>Thailand</td>\n",
       "      <td>Large</td>\n",
       "      <td>2021</td>\n",
       "      <td>1.0</td>\n",
       "    </tr>\n",
       "    <tr>\n",
       "      <th>2826</th>\n",
       "      <td>Data Analyst</td>\n",
       "      <td>Full-Time</td>\n",
       "      <td>Entry</td>\n",
       "      <td>Junior</td>\n",
       "      <td>15000</td>\n",
       "      <td>United States Dollar</td>\n",
       "      <td>Indonesia</td>\n",
       "      <td>15000</td>\n",
       "      <td>Indonesia</td>\n",
       "      <td>Large</td>\n",
       "      <td>2022</td>\n",
       "      <td>1.0</td>\n",
       "    </tr>\n",
       "  </tbody>\n",
       "</table>\n",
       "</div>"
      ],
      "text/plain": [
       "                       Job Title Employment Type Experience Level  \\\n",
       "1335          Staff Data Analyst       Full-Time        Executive   \n",
       "2641  Machine Learning Developer       Full-Time            Entry   \n",
       "2826                Data Analyst       Full-Time            Entry   \n",
       "\n",
       "     Expertise Level  Salary       Salary Currency Company Location  \\\n",
       "1335        Director   15000  United States Dollar           Canada   \n",
       "2641          Junior   15000  United States Dollar         Thailand   \n",
       "2826          Junior   15000  United States Dollar        Indonesia   \n",
       "\n",
       "      Salary in USD Employee Residence Company Size  Year  Currency Rate  \n",
       "1335          15000            Nigeria       Medium  2020            1.0  \n",
       "2641          15000           Thailand        Large  2021            1.0  \n",
       "2826          15000          Indonesia        Large  2022            1.0  "
      ]
     },
     "execution_count": 46,
     "metadata": {},
     "output_type": "execute_result"
    }
   ],
   "source": [
    "min_salary = df[\"Salary in USD\"].min()\n",
    "min_salary_row = df[ df[\"Salary in USD\"] == min_salary ]\n",
    "print(\"Salario mínimo:\", min_salary)\n",
    "print(\"Registro correspondiente al salario mínimo:\")\n",
    "min_salary_row"
   ]
  },
  {
   "cell_type": "code",
   "execution_count": 47,
   "metadata": {},
   "outputs": [
    {
     "name": "stdout",
     "output_type": "stream",
     "text": [
      "Salario promedio por rol y tamaño de compañía:\n"
     ]
    },
    {
     "data": {
      "text/html": [
       "<div>\n",
       "<style scoped>\n",
       "    .dataframe tbody tr th:only-of-type {\n",
       "        vertical-align: middle;\n",
       "    }\n",
       "\n",
       "    .dataframe tbody tr th {\n",
       "        vertical-align: top;\n",
       "    }\n",
       "\n",
       "    .dataframe thead th {\n",
       "        text-align: right;\n",
       "    }\n",
       "</style>\n",
       "<table border=\"1\" class=\"dataframe\">\n",
       "  <thead>\n",
       "    <tr style=\"text-align: right;\">\n",
       "      <th></th>\n",
       "      <th></th>\n",
       "      <th>Salary in USD</th>\n",
       "    </tr>\n",
       "    <tr>\n",
       "      <th>Job Title</th>\n",
       "      <th>Company Size</th>\n",
       "      <th></th>\n",
       "    </tr>\n",
       "  </thead>\n",
       "  <tbody>\n",
       "    <tr>\n",
       "      <th rowspan=\"2\" valign=\"top\">AI Architect</th>\n",
       "      <th>Large</th>\n",
       "      <td>207968.0</td>\n",
       "    </tr>\n",
       "    <tr>\n",
       "      <th>Medium</th>\n",
       "      <td>267000.0</td>\n",
       "    </tr>\n",
       "    <tr>\n",
       "      <th rowspan=\"3\" valign=\"top\">AI Developer</th>\n",
       "      <th>Large</th>\n",
       "      <td>215936.0</td>\n",
       "    </tr>\n",
       "    <tr>\n",
       "      <th>Medium</th>\n",
       "      <td>97944.0</td>\n",
       "    </tr>\n",
       "    <tr>\n",
       "      <th>Small</th>\n",
       "      <td>197500.0</td>\n",
       "    </tr>\n",
       "    <tr>\n",
       "      <th>...</th>\n",
       "      <th>...</th>\n",
       "      <td>...</td>\n",
       "    </tr>\n",
       "    <tr>\n",
       "      <th>Software Data Engineer</th>\n",
       "      <th>Medium</th>\n",
       "      <td>50000.0</td>\n",
       "    </tr>\n",
       "    <tr>\n",
       "      <th rowspan=\"2\" valign=\"top\">Staff Data Analyst</th>\n",
       "      <th>Medium</th>\n",
       "      <td>15000.0</td>\n",
       "    </tr>\n",
       "    <tr>\n",
       "      <th>Small</th>\n",
       "      <td>179998.0</td>\n",
       "    </tr>\n",
       "    <tr>\n",
       "      <th>Staff Data Scientist</th>\n",
       "      <th>Medium</th>\n",
       "      <td>134500.0</td>\n",
       "    </tr>\n",
       "    <tr>\n",
       "      <th>Staff Machine Learning Engineer</th>\n",
       "      <th>Medium</th>\n",
       "      <td>185000.0</td>\n",
       "    </tr>\n",
       "  </tbody>\n",
       "</table>\n",
       "<p>204 rows × 1 columns</p>\n",
       "</div>"
      ],
      "text/plain": [
       "                                              Salary in USD\n",
       "Job Title                       Company Size               \n",
       "AI Architect                    Large              207968.0\n",
       "                                Medium             267000.0\n",
       "AI Developer                    Large              215936.0\n",
       "                                Medium              97944.0\n",
       "                                Small              197500.0\n",
       "...                                                     ...\n",
       "Software Data Engineer          Medium              50000.0\n",
       "Staff Data Analyst              Medium              15000.0\n",
       "                                Small              179998.0\n",
       "Staff Data Scientist            Medium             134500.0\n",
       "Staff Machine Learning Engineer Medium             185000.0\n",
       "\n",
       "[204 rows x 1 columns]"
      ]
     },
     "execution_count": 47,
     "metadata": {},
     "output_type": "execute_result"
    }
   ],
   "source": [
    "# ¿Cuál es el salario promedio (en USD) por rol por tamaño de compañía?\n",
    "avg_salary_by_role_size = df.groupby([\"Job Title\", \"Company Size\"]).agg({\"Salary in USD\":\"mean\"})\n",
    "print(\"Salario promedio por rol y tamaño de compañía:\")\n",
    "avg_salary_by_role_size"
   ]
  },
  {
   "cell_type": "code",
   "execution_count": 48,
   "metadata": {
    "scrolled": false
   },
   "outputs": [
    {
     "name": "stdout",
     "output_type": "stream",
     "text": [
      "Datos agrupados por tamaño de compañía, país y salario promedio:\n"
     ]
    },
    {
     "data": {
      "text/html": [
       "<div>\n",
       "<style scoped>\n",
       "    .dataframe tbody tr th:only-of-type {\n",
       "        vertical-align: middle;\n",
       "    }\n",
       "\n",
       "    .dataframe tbody tr th {\n",
       "        vertical-align: top;\n",
       "    }\n",
       "\n",
       "    .dataframe thead th {\n",
       "        text-align: right;\n",
       "    }\n",
       "</style>\n",
       "<table border=\"1\" class=\"dataframe\">\n",
       "  <thead>\n",
       "    <tr style=\"text-align: right;\">\n",
       "      <th></th>\n",
       "      <th></th>\n",
       "      <th>Salary in USD</th>\n",
       "    </tr>\n",
       "    <tr>\n",
       "      <th>Employee Residence</th>\n",
       "      <th>Company Size</th>\n",
       "      <th></th>\n",
       "    </tr>\n",
       "  </thead>\n",
       "  <tbody>\n",
       "    <tr>\n",
       "      <th>Algeria</th>\n",
       "      <th>Medium</th>\n",
       "      <td>100000.000000</td>\n",
       "    </tr>\n",
       "    <tr>\n",
       "      <th>American Samoa</th>\n",
       "      <th>Medium</th>\n",
       "      <td>45555.000000</td>\n",
       "    </tr>\n",
       "    <tr>\n",
       "      <th>Andorra</th>\n",
       "      <th>Small</th>\n",
       "      <td>50745.000000</td>\n",
       "    </tr>\n",
       "    <tr>\n",
       "      <th rowspan=\"2\" valign=\"top\">Argentina</th>\n",
       "      <th>Large</th>\n",
       "      <td>55000.000000</td>\n",
       "    </tr>\n",
       "    <tr>\n",
       "      <th>Medium</th>\n",
       "      <td>64000.000000</td>\n",
       "    </tr>\n",
       "    <tr>\n",
       "      <th>...</th>\n",
       "      <th>...</th>\n",
       "      <td>...</td>\n",
       "    </tr>\n",
       "    <tr>\n",
       "      <th rowspan=\"2\" valign=\"top\">United States</th>\n",
       "      <th>Medium</th>\n",
       "      <td>160682.080808</td>\n",
       "    </tr>\n",
       "    <tr>\n",
       "      <th>Small</th>\n",
       "      <td>123942.325581</td>\n",
       "    </tr>\n",
       "    <tr>\n",
       "      <th rowspan=\"2\" valign=\"top\">Uzbekistan</th>\n",
       "      <th>Large</th>\n",
       "      <td>103000.000000</td>\n",
       "    </tr>\n",
       "    <tr>\n",
       "      <th>Medium</th>\n",
       "      <td>40000.000000</td>\n",
       "    </tr>\n",
       "    <tr>\n",
       "      <th>Viet Nam</th>\n",
       "      <th>Medium</th>\n",
       "      <td>44200.000000</td>\n",
       "    </tr>\n",
       "  </tbody>\n",
       "</table>\n",
       "<p>149 rows × 1 columns</p>\n",
       "</div>"
      ],
      "text/plain": [
       "                                 Salary in USD\n",
       "Employee Residence Company Size               \n",
       "Algeria            Medium        100000.000000\n",
       "American Samoa     Medium         45555.000000\n",
       "Andorra            Small          50745.000000\n",
       "Argentina          Large          55000.000000\n",
       "                   Medium         64000.000000\n",
       "...                                        ...\n",
       "United States      Medium        160682.080808\n",
       "                   Small         123942.325581\n",
       "Uzbekistan         Large         103000.000000\n",
       "                   Medium         40000.000000\n",
       "Viet Nam           Medium         44200.000000\n",
       "\n",
       "[149 rows x 1 columns]"
      ]
     },
     "execution_count": 48,
     "metadata": {},
     "output_type": "execute_result"
    }
   ],
   "source": [
    "# 10. muestre los datos agrupados por tamaño de la compañía, país y salario promedio.\n",
    "grouped_data = df.groupby([\"Employee Residence\",\"Company Size\"])[\"Salary in USD\"].mean()\n",
    "print(\"Datos agrupados por tamaño de compañía, país y salario promedio:\")\n",
    "pd.DataFrame(grouped_data)"
   ]
  },
  {
   "cell_type": "code",
   "execution_count": null,
   "metadata": {},
   "outputs": [],
   "source": []
  }
 ],
 "metadata": {
  "kernelspec": {
   "display_name": "Python 3",
   "language": "python",
   "name": "python3"
  },
  "language_info": {
   "codemirror_mode": {
    "name": "ipython",
    "version": 3
   },
   "file_extension": ".py",
   "mimetype": "text/x-python",
   "name": "python",
   "nbconvert_exporter": "python",
   "pygments_lexer": "ipython3",
   "version": "3.7.6"
  }
 },
 "nbformat": 4,
 "nbformat_minor": 4
}
