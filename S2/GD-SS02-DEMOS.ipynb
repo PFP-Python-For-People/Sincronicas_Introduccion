{
 "cells": [
  {
   "cell_type": "markdown",
   "id": "c943e828",
   "metadata": {},
   "source": [
    "# Sesión sincrónica 2\n",
    "\n",
    "#### Unidad 3\n",
    "\n",
    "1. ¿Qué son las estructuras de control de flujo - condicionales?\n",
    "2. Selección y condiciones.\n",
    "3. Selección simple, doble y múltiple"
   ]
  },
  {
   "cell_type": "code",
   "execution_count": 9,
   "id": "5f38eed0",
   "metadata": {},
   "outputs": [
    {
     "name": "stdout",
     "output_type": "stream",
     "text": [
      "1\n",
      "2\n",
      "3\n",
      "4\n",
      "5\n"
     ]
    }
   ],
   "source": [
    "# secuencia\n",
    "\n",
    "print(1)\n",
    "print(2)\n",
    "print(3)\n",
    "print(4)\n",
    "print(5)"
   ]
  },
  {
   "cell_type": "markdown",
   "id": "a68c1b1c",
   "metadata": {},
   "source": [
    "### Acerca de las condiciones"
   ]
  },
  {
   "cell_type": "code",
   "execution_count": 6,
   "id": "c8935da3",
   "metadata": {},
   "outputs": [],
   "source": [
    "condicion_a = True\n",
    "condicion_b = False"
   ]
  },
  {
   "cell_type": "code",
   "execution_count": 7,
   "id": "c47eebd6",
   "metadata": {},
   "outputs": [
    {
     "name": "stdout",
     "output_type": "stream",
     "text": [
      "True False False False\n"
     ]
    }
   ],
   "source": [
    "# and ---> y\n",
    "condicion_c = True and True\n",
    "condicion_d = True and False\n",
    "condicion_e = False and True\n",
    "condicion_f = False and False\n",
    "print(condicion_c, condicion_d, condicion_e, condicion_f)"
   ]
  },
  {
   "cell_type": "code",
   "execution_count": 8,
   "id": "a0f6d7b1",
   "metadata": {},
   "outputs": [
    {
     "name": "stdout",
     "output_type": "stream",
     "text": [
      "True True True False\n"
     ]
    }
   ],
   "source": [
    "# or ---> o\n",
    "condicion_g = True or True\n",
    "condicion_h = True or False\n",
    "condicion_i = False or True\n",
    "condicion_j = False or False\n",
    "print(condicion_g, condicion_h, condicion_i, condicion_j)"
   ]
  },
  {
   "cell_type": "code",
   "execution_count": 15,
   "id": "06753559",
   "metadata": {},
   "outputs": [],
   "source": [
    "# if ---> seleccion simple\n",
    "\n",
    "edad_persona = 17\n",
    "edad_minima_ingreso = 18\n",
    "\n",
    "if(edad_persona >= edad_minima_ingreso):\n",
    "    print(\"Esta persona puede ingresar\")\n",
    "    print(\"Recibe collar de bienvenida\")\n",
    "    print(\"Se le acomoda en una mesa\")"
   ]
  },
  {
   "cell_type": "code",
   "execution_count": 14,
   "id": "80b3abe4",
   "metadata": {},
   "outputs": [
    {
     "name": "stdout",
     "output_type": "stream",
     "text": [
      "Lo sentimos no puedes ingresar\n",
      "Recibe ayuda para pedir el taxi de regreso a casa\n"
     ]
    }
   ],
   "source": [
    "# else\n",
    "edad_persona = 17\n",
    "edad_minima_ingreso = 18\n",
    "\n",
    "if(edad_persona >= edad_minima_ingreso):\n",
    "    print(\"Esta persona puede ingresar\")\n",
    "    print(\"Recibe collar de bienvenida\")\n",
    "    print(\"Se le acomoda en una mesa\")\n",
    "else:\n",
    "    print(\"Lo sentimos no puedes ingresar\")\n",
    "    print(\"Recibe ayuda para pedir el taxi de regreso a casa\")"
   ]
  },
  {
   "cell_type": "code",
   "execution_count": 28,
   "id": "3bab542f",
   "metadata": {},
   "outputs": [
    {
     "name": "stdout",
     "output_type": "stream",
     "text": [
      "Esta persona ingresar a Años Dorados\n"
     ]
    }
   ],
   "source": [
    "# elif\n",
    "\n",
    "## [VIP]: 21 - 28\n",
    "## [Años Dorados]: 58 - 70\n",
    "## [General]: 18 - 35\n",
    "## Menor de 18, no puede ingresar\n",
    "\n",
    "edad_persona = 58\n",
    "\n",
    "if(edad_persona >= 18):    \n",
    "    if(edad_persona>=21 and edad_persona<=28):\n",
    "        print(\"Esta persona ingresar al VIP\")\n",
    "    elif(edad_persona>=58 and edad_persona<=70):\n",
    "        print(\"Esta persona ingresar a Años Dorados\")\n",
    "    elif(edad_persona>=18 and edad_persona<=35):\n",
    "        print(\"Esta persona ingresar a General\")\n",
    "    else:\n",
    "        print(\"Esta persona ingresar a la zona de comidas\")\n",
    "else:\n",
    "    print(\"Esta persona no puede ingresar\")\n",
    "    \n",
    "\n",
    "# if - else\n",
    "# if - elif - elif - elif - else"
   ]
  },
  {
   "cell_type": "code",
   "execution_count": 33,
   "id": "dab25a94",
   "metadata": {},
   "outputs": [
    {
     "name": "stdout",
     "output_type": "stream",
     "text": [
      "Esta persona ingresar al VIP\n",
      "Esta persona ingresar a General\n"
     ]
    }
   ],
   "source": [
    "edad_persona = 21\n",
    "tiene_rango = False\n",
    "\n",
    "if(edad_persona >= 18):    \n",
    "    if(edad_persona>=21 and edad_persona<=28):\n",
    "        print(\"Esta persona ingresar al VIP\")\n",
    "        tiene_rango = True\n",
    "    if(edad_persona>=58 and edad_persona<=70):\n",
    "        print(\"Esta persona ingresar a Años Dorados\")\n",
    "        tiene_rango = True\n",
    "    if(edad_persona>=18 and edad_persona<=35):\n",
    "        print(\"Esta persona ingresar a General\")\n",
    "        tiene_rango = True\n",
    "    if(tiene_rango == False):\n",
    "        print(\"Esta persona ingresar a la zona de comidas\")\n",
    "else:\n",
    "    print(\"Esta persona no puede ingresar\")"
   ]
  },
  {
   "cell_type": "code",
   "execution_count": 36,
   "id": "31b7597a",
   "metadata": {},
   "outputs": [
    {
     "name": "stdout",
     "output_type": "stream",
     "text": [
      "Precio final:  2380000.0\n"
     ]
    }
   ],
   "source": [
    "# Ejercicio de selección computadores precio\n",
    "\n",
    "precio_limite_sin_iva = 1800000\n",
    "precio_computador = 2000000\n",
    "\n",
    "if(precio_computador <= precio_limite_sin_iva):\n",
    "    print(\"Precio final: \", precio_computador)\n",
    "else:\n",
    "    print(\"Precio final: \", precio_computador*1.19)"
   ]
  },
  {
   "cell_type": "markdown",
   "id": "281e69e8",
   "metadata": {},
   "source": [
    "#### Unidad 4\n",
    "\n",
    "1. ¿Qué son las estructuras de control de flujo - ciclos?\n",
    "2. Ciclos en Python."
   ]
  },
  {
   "cell_type": "code",
   "execution_count": 37,
   "id": "0f804ce5",
   "metadata": {},
   "outputs": [
    {
     "name": "stdout",
     "output_type": "stream",
     "text": [
      "1\n",
      "2\n",
      "3\n",
      "4\n",
      "5\n",
      "6\n"
     ]
    }
   ],
   "source": [
    "print(1)\n",
    "print(2)\n",
    "print(3)\n",
    "print(4)\n",
    "print(5)\n",
    "print(6)"
   ]
  },
  {
   "cell_type": "code",
   "execution_count": 38,
   "id": "bdfaea90",
   "metadata": {},
   "outputs": [
    {
     "name": "stdout",
     "output_type": "stream",
     "text": [
      "1\n",
      "2\n",
      "2\n",
      "3\n",
      "4\n",
      "4\n",
      "5\n",
      "6\n",
      "6\n"
     ]
    }
   ],
   "source": [
    "print(1)\n",
    "print(2)\n",
    "print(2)\n",
    "print(3)\n",
    "print(4)\n",
    "print(4)\n",
    "print(5)\n",
    "print(6)\n",
    "print(6)"
   ]
  },
  {
   "cell_type": "code",
   "execution_count": 45,
   "id": "99c06fef",
   "metadata": {},
   "outputs": [
    {
     "name": "stdout",
     "output_type": "stream",
     "text": [
      "Cantar el compleaños, parte 1\n",
      "¡aplauso!\n",
      "¡aplauso!\n",
      "¡aplauso!\n",
      "¡aplauso!\n",
      "¡aplauso!\n",
      "Bravo!!!\n"
     ]
    }
   ],
   "source": [
    "# while\n",
    "\n",
    "# aplausos ---> edad\n",
    "\n",
    "conteo_aplausos = 0\n",
    "edad = 5\n",
    "\n",
    "print(\"Cantar el compleaños, parte 1\")\n",
    "\n",
    "while(conteo_aplausos < edad):\n",
    "    print(\"¡aplauso!\")\n",
    "    conteo_aplausos += 1\n",
    "    \n",
    "print(\"Bravo!!!\")"
   ]
  },
  {
   "cell_type": "code",
   "execution_count": 56,
   "id": "fd497bd7",
   "metadata": {},
   "outputs": [
    {
     "name": "stdout",
     "output_type": "stream",
     "text": [
      "0.1\n",
      "0.2\n",
      "0.3\n",
      "0.4\n",
      "0.5\n",
      "0.6\n",
      "0.7\n",
      "0.8\n",
      "0.9\n"
     ]
    }
   ],
   "source": [
    "# for\n",
    "for x in range(1,10): # [0,1,2,3,4,5,6,7,8,9]\n",
    "    print(x/10)"
   ]
  },
  {
   "cell_type": "code",
   "execution_count": 51,
   "id": "fb243968",
   "metadata": {},
   "outputs": [
    {
     "name": "stdout",
     "output_type": "stream",
     "text": [
      "Hola,  Juan\n",
      "Hola,  Pepe\n",
      "Hola,  Ana\n",
      "Hola,  Maria\n"
     ]
    }
   ],
   "source": [
    "lista = [\"Juan\", \"Pepe\", \"Ana\", \"Maria\"]\n",
    "for user in lista:\n",
    "    print(\"Hola, \", user)"
   ]
  },
  {
   "cell_type": "code",
   "execution_count": 54,
   "id": "328aeb00",
   "metadata": {},
   "outputs": [
    {
     "data": {
      "text/plain": [
       "array([0.1, 0.2, 0.3, 0.4, 0.5, 0.6, 0.7, 0.8, 0.9])"
      ]
     },
     "execution_count": 54,
     "metadata": {},
     "output_type": "execute_result"
    }
   ],
   "source": [
    "# Ejercicio de cálculo de pasos\n",
    "import numpy as np\n",
    "\n",
    "lista_valores = np.arange(0.1, 1, 0.1)\n",
    "lista_valores"
   ]
  },
  {
   "cell_type": "code",
   "execution_count": null,
   "id": "aa20a55c",
   "metadata": {},
   "outputs": [],
   "source": []
  }
 ],
 "metadata": {
  "kernelspec": {
   "display_name": "Python 3",
   "language": "python",
   "name": "python3"
  },
  "language_info": {
   "codemirror_mode": {
    "name": "ipython",
    "version": 3
   },
   "file_extension": ".py",
   "mimetype": "text/x-python",
   "name": "python",
   "nbconvert_exporter": "python",
   "pygments_lexer": "ipython3",
   "version": "3.7.6"
  }
 },
 "nbformat": 4,
 "nbformat_minor": 5
}
