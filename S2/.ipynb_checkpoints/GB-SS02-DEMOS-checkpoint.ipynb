{
 "cells": [
  {
   "cell_type": "markdown",
   "id": "3eff997d",
   "metadata": {},
   "source": [
    "# Sesión sincrónica 2\n",
    "\n",
    "#### Unidad 3\n",
    "\n",
    "1. ¿Qué son las estructuras de control de flujo - condicionales?\n",
    "2. Selección y condiciones.\n",
    "3. Selección simple, doble y múltiple"
   ]
  },
  {
   "cell_type": "code",
   "execution_count": 5,
   "id": "7a0bf610",
   "metadata": {
    "scrolled": true
   },
   "outputs": [
    {
     "name": "stdout",
     "output_type": "stream",
     "text": [
      "1\n",
      "2\n",
      "3\n",
      "4\n",
      "5\n"
     ]
    }
   ],
   "source": [
    "# secuencia\n",
    "\n",
    "print(1)\n",
    "print(2)\n",
    "print(3)\n",
    "print(4)\n",
    "print(5)"
   ]
  },
  {
   "cell_type": "markdown",
   "id": "f8d2dc8e",
   "metadata": {},
   "source": [
    "### Acerca de las condiciones"
   ]
  },
  {
   "cell_type": "code",
   "execution_count": 6,
   "id": "9e4fc610",
   "metadata": {},
   "outputs": [],
   "source": [
    "condicion_a = True\n",
    "condicion_b = False"
   ]
  },
  {
   "cell_type": "code",
   "execution_count": 7,
   "id": "975fe6e5",
   "metadata": {},
   "outputs": [
    {
     "name": "stdout",
     "output_type": "stream",
     "text": [
      "True False False False\n"
     ]
    }
   ],
   "source": [
    "condicion_c = True and True\n",
    "condicion_d = True and False\n",
    "condicion_e = False and True\n",
    "condicion_f = False and False\n",
    "print(condicion_c, condicion_d, condicion_e, condicion_f)"
   ]
  },
  {
   "cell_type": "code",
   "execution_count": 8,
   "id": "2bfa7fba",
   "metadata": {},
   "outputs": [
    {
     "name": "stdout",
     "output_type": "stream",
     "text": [
      "True True True False\n"
     ]
    }
   ],
   "source": [
    "condicion_g = True or True\n",
    "condicion_h = True or False\n",
    "condicion_i = False or True\n",
    "condicion_j = False or False\n",
    "print(condicion_g, condicion_h, condicion_i, condicion_j)"
   ]
  },
  {
   "cell_type": "code",
   "execution_count": 8,
   "id": "c7375776",
   "metadata": {},
   "outputs": [
    {
     "name": "stdout",
     "output_type": "stream",
     "text": [
      "Bienvenido! 🎯\n"
     ]
    }
   ],
   "source": [
    "# if --> simple | opcional\n",
    "\n",
    "edad_persona = 18\n",
    "edad_minima_ingreso = 18\n",
    "\n",
    "if(edad_persona >= edad_minima_ingreso):\n",
    "    print(\"Bienvenido! 🎯\")"
   ]
  },
  {
   "cell_type": "code",
   "execution_count": 10,
   "id": "6b823d37",
   "metadata": {},
   "outputs": [
    {
     "name": "stdout",
     "output_type": "stream",
     "text": [
      "Bienvenido! 🎯\n"
     ]
    }
   ],
   "source": [
    "# else ---> doble | defecto\n",
    "\n",
    "edad_persona = 21\n",
    "edad_minima_ingreso = 18\n",
    "\n",
    "if(edad_persona >= edad_minima_ingreso):\n",
    "    print(\"Bienvenido! 🎯\")\n",
    "else:\n",
    "    print(\"Usted no puede pasar! ❌\")\n",
    "    \n",
    "# if - else"
   ]
  },
  {
   "cell_type": "code",
   "execution_count": 19,
   "id": "3393fe50",
   "metadata": {},
   "outputs": [
    {
     "name": "stdout",
     "output_type": "stream",
     "text": [
      "Ingresa a la plazoleta de comidas 😋\n"
     ]
    }
   ],
   "source": [
    "# elif ---> múltiple o anidada\n",
    "\n",
    "# [Jóvenes]: 18 - 25\n",
    "# [Adultos]: 26 - 38 \n",
    "# [Seniors]: 60 - 90\n",
    "\n",
    "# ** solo mayores de 18\n",
    "\n",
    "edad_persona = 40\n",
    "edad_minima_ingreso = 18\n",
    "\n",
    "if(edad_persona>=edad_minima_ingreso):\n",
    "    ## las acciones de localización\n",
    "    if(edad_persona>=18 and edad_persona<=25):\n",
    "        print(\"Ingresa a Jóvenes\")\n",
    "    elif(edad_persona>=26 and edad_persona<=38):\n",
    "        print(\"Ingresa a Adultos\")\n",
    "    elif(edad_persona>=60 and edad_persona<=90):\n",
    "        print(\"Ingresa a Seniors\")\n",
    "    else:\n",
    "        print(\"Ingresa a la plazoleta de comidas 😋\")\n",
    "else:\n",
    "    print(\"Lo sentimos, no puedes pasar 🚕\")\n"
   ]
  },
  {
   "cell_type": "code",
   "execution_count": 27,
   "id": "f09fad30",
   "metadata": {},
   "outputs": [
    {
     "name": "stdout",
     "output_type": "stream",
     "text": [
      "Ingresa a Seniors\n"
     ]
    }
   ],
   "source": [
    "# elif ---> múltiple o anidada\n",
    "\n",
    "# [VIP]: 21 - 35\n",
    "# [Jóvenes]: 18 - 25\n",
    "# [Gold Members]: 19 - 42\n",
    "# [Adultos]: 26 - 38 \n",
    "# [Seniors]: 60 - 90\n",
    "\n",
    "# ** solo mayores de 18\n",
    "\n",
    "edad_persona = 62\n",
    "edad_minima_ingreso = 18\n",
    "tiene_rango = False\n",
    "\n",
    "if(edad_persona>=edad_minima_ingreso):\n",
    "    ## las acciones de localización\n",
    "    if(edad_persona>=21 and edad_persona<=35):\n",
    "        print(\"Ingresa a VIP\")\n",
    "        tiene_rango = True\n",
    "    \n",
    "    if(edad_persona>=18 and edad_persona<=25):\n",
    "        print(\"Ingresa a Jóvenes\")\n",
    "        tiene_rango = True\n",
    "    \n",
    "    if(edad_persona>=19 and edad_persona<=42):\n",
    "        print(\"Ingresa a Gold members\")\n",
    "        tiene_rango = True\n",
    "    \n",
    "    if(edad_persona>=26 and edad_persona<=38):\n",
    "        print(\"Ingresa a Adultos\")\n",
    "        tiene_rango = True\n",
    "    \n",
    "    if(edad_persona>=60 and edad_persona<=90):\n",
    "        print(\"Ingresa a Seniors\")\n",
    "        tiene_rango = True\n",
    "        \n",
    "    if(tiene_rango == False):\n",
    "        print(\"Ingresa a la plazoleta de comidas 😋\")\n",
    "        \n",
    "else:\n",
    "    print(\"Lo sentimos, no puedes pasar 🚕\")"
   ]
  },
  {
   "cell_type": "code",
   "execution_count": 31,
   "id": "f9668cb1",
   "metadata": {},
   "outputs": [
    {
     "name": "stdout",
     "output_type": "stream",
     "text": [
      "el precio es:  2380000.0\n"
     ]
    }
   ],
   "source": [
    "# Ejercicio de selección computadores precio\n",
    "\n",
    "limite_sin_iva = 1800000\n",
    "precio_computador = 2000000\n",
    "\n",
    "if(precio_computador <= limite_sin_iva):\n",
    "    print(\"el precio es: \", precio_computador)\n",
    "else:\n",
    "    print(\"el precio es: \", precio_computador*1.19)    "
   ]
  },
  {
   "cell_type": "markdown",
   "id": "d79c520f",
   "metadata": {},
   "source": [
    "#### Unidad 4\n",
    "\n",
    "1. ¿Qué son las estructuras de control de flujo - ciclos?\n",
    "2. Ciclos en Python."
   ]
  },
  {
   "cell_type": "code",
   "execution_count": 39,
   "id": "b87e2a12",
   "metadata": {},
   "outputs": [
    {
     "name": "stdout",
     "output_type": "stream",
     "text": [
      "Clap! 👏 0\n",
      "Weeepa! 🥳 1\n",
      "Clap! 👏 2\n",
      "Weeepa! 🥳 3\n",
      "Clap! 👏 4\n"
     ]
    }
   ],
   "source": [
    "# while\n",
    "conteo_aplausos = 0\n",
    "edad_persona = 5\n",
    "\n",
    "while( conteo_aplausos < edad_persona ):    \n",
    "    if(conteo_aplausos %2 == 0):\n",
    "        print(\"Clap! 👏\", conteo_aplausos)\n",
    "    else:\n",
    "        print(\"Weeepa! 🥳\", conteo_aplausos)\n",
    "    conteo_aplausos+=1"
   ]
  },
  {
   "cell_type": "code",
   "execution_count": 50,
   "id": "45ed1ec1",
   "metadata": {},
   "outputs": [
    {
     "name": "stdout",
     "output_type": "stream",
     "text": [
      "Hola Edward !! ⚡\n"
     ]
    }
   ],
   "source": [
    "# for\n",
    "\n",
    "lista_personas = [\"Edward\",\"Jquebradas\",\"Isabella\",\"Jessica\",\"Giselle\"]\n",
    "\n",
    "index = 0\n",
    "\n",
    "for estudiante in lista_personas[0:5:5]: # ini:fin:step\n",
    "        print(\"Hola\", estudiante, \"!! ⚡\")\n"
   ]
  },
  {
   "cell_type": "code",
   "execution_count": 55,
   "id": "cb41cf07",
   "metadata": {
    "scrolled": false
   },
   "outputs": [
    {
     "name": "stdout",
     "output_type": "stream",
     "text": [
      "0\n",
      "1\n",
      "2\n",
      "3\n",
      "4\n"
     ]
    }
   ],
   "source": [
    "# range\n",
    "for x in range(3,5,1): # [0,1,2,3,4]\n",
    "    print(x)"
   ]
  },
  {
   "cell_type": "code",
   "execution_count": 56,
   "id": "b140081b",
   "metadata": {},
   "outputs": [
    {
     "name": "stdout",
     "output_type": "stream",
     "text": [
      "ejecución\n"
     ]
    }
   ],
   "source": [
    "condicion = False\n",
    "\n",
    "while True:\n",
    "    print(\"ejecución\")\n",
    "    if(condicion == False):\n",
    "        break"
   ]
  },
  {
   "cell_type": "code",
   "execution_count": null,
   "id": "d6edb43d",
   "metadata": {},
   "outputs": [],
   "source": []
  }
 ],
 "metadata": {
  "kernelspec": {
   "display_name": "Python 3",
   "language": "python",
   "name": "python3"
  },
  "language_info": {
   "codemirror_mode": {
    "name": "ipython",
    "version": 3
   },
   "file_extension": ".py",
   "mimetype": "text/x-python",
   "name": "python",
   "nbconvert_exporter": "python",
   "pygments_lexer": "ipython3",
   "version": "3.7.6"
  }
 },
 "nbformat": 4,
 "nbformat_minor": 5
}
