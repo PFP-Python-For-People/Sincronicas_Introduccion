{
 "cells": [
  {
   "cell_type": "markdown",
   "id": "80ab99c1",
   "metadata": {},
   "source": [
    "Agregar los comentarios"
   ]
  },
  {
   "cell_type": "code",
   "execution_count": 4,
   "id": "a7a9b971",
   "metadata": {},
   "outputs": [
    {
     "name": "stdout",
     "output_type": "stream",
     "text": [
      "2020\n"
     ]
    }
   ],
   "source": [
    "a = 20\n",
    "b = 2000\n",
    "suma = a + b\n",
    "print(suma)"
   ]
  },
  {
   "cell_type": "code",
   "execution_count": 10,
   "id": "1ebd1ae6",
   "metadata": {},
   "outputs": [
    {
     "name": "stdout",
     "output_type": "stream",
     "text": [
      "<class 'int'>\n",
      "<class 'float'>\n",
      "<class 'str'>\n",
      "<class 'str'>\n",
      "<class 'bool'>\n",
      "<class 'bool'>\n"
     ]
    }
   ],
   "source": [
    "print(type(2))\n",
    "print(type(2.0))\n",
    "print(type(\"2\"))\n",
    "print(type('2'))\n",
    "print(type(True))\n",
    "print(type(False))"
   ]
  },
  {
   "cell_type": "code",
   "execution_count": 19,
   "id": "337aca5c",
   "metadata": {},
   "outputs": [
    {
     "name": "stdout",
     "output_type": "stream",
     "text": [
      "4\n"
     ]
    }
   ],
   "source": [
    "valor_a = 2\n",
    "valor_b = 2\n",
    "valor_c = valor_a + valor_b\n",
    "print(valor_c)"
   ]
  },
  {
   "cell_type": "code",
   "execution_count": 28,
   "id": "f451d4ca",
   "metadata": {},
   "outputs": [
    {
     "name": "stdout",
     "output_type": "stream",
     "text": [
      "Dame un número: 2.5\n",
      "2.5 <class 'float'>\n",
      "Dame un número: 8\n",
      "8.0 <class 'float'>\n",
      "20.0\n"
     ]
    }
   ],
   "source": [
    "numero_inicial = float(input(\"Dame un número: \"))\n",
    "print(numero_inicial, type(numero_inicial))\n",
    "numero_final = float(input(\"Dame un número: \"))\n",
    "print(numero_final, type(numero_final))\n",
    "valor_multiplicacion = numero_inicial * numero_final\n",
    "print(valor_multiplicacion)"
   ]
  },
  {
   "cell_type": "code",
   "execution_count": 32,
   "id": "d6f8c4fc",
   "metadata": {},
   "outputs": [
    {
     "name": "stdout",
     "output_type": "stream",
     "text": [
      "hola <class 'str'>\n",
      "10 <class 'int'>\n"
     ]
    }
   ],
   "source": [
    "valor_ejemplo = \"hola\"\n",
    "print(valor_ejemplo, type(valor_ejemplo))\n",
    "valor_ejemplo = 10\n",
    "print(valor_ejemplo, type(valor_ejemplo))"
   ]
  },
  {
   "cell_type": "code",
   "execution_count": 37,
   "id": "6f9d8cdc",
   "metadata": {},
   "outputs": [
    {
     "data": {
      "text/plain": [
       "'3asfsdfgsdfgg123234'"
      ]
     },
     "execution_count": 37,
     "metadata": {},
     "output_type": "execute_result"
    }
   ],
   "source": [
    "\"3\"+\"asfsdfgsdfg\"+\"g\"+\"123234\""
   ]
  },
  {
   "cell_type": "code",
   "execution_count": 40,
   "id": "6894aa02",
   "metadata": {},
   "outputs": [
    {
     "data": {
      "text/plain": [
       "2.7"
      ]
     },
     "execution_count": 40,
     "metadata": {},
     "output_type": "execute_result"
    }
   ],
   "source": [
    "1.5*1.8"
   ]
  },
  {
   "cell_type": "code",
   "execution_count": 35,
   "id": "89b3bccb",
   "metadata": {},
   "outputs": [
    {
     "data": {
      "text/plain": [
       "'123234'"
      ]
     },
     "execution_count": 35,
     "metadata": {},
     "output_type": "execute_result"
    }
   ],
   "source": []
  },
  {
   "cell_type": "code",
   "execution_count": 36,
   "id": "339582a9",
   "metadata": {},
   "outputs": [
    {
     "data": {
      "text/plain": [
       "'asfsdfgsdfg'"
      ]
     },
     "execution_count": 36,
     "metadata": {},
     "output_type": "execute_result"
    }
   ],
   "source": []
  },
  {
   "cell_type": "code",
   "execution_count": null,
   "id": "00762a21",
   "metadata": {},
   "outputs": [],
   "source": []
  },
  {
   "cell_type": "code",
   "execution_count": 43,
   "id": "33a82453",
   "metadata": {},
   "outputs": [
    {
     "name": "stdout",
     "output_type": "stream",
     "text": [
      "el número de aprobados es:  6\n",
      "el número de no aprobados es:  2\n"
     ]
    }
   ],
   "source": [
    "# Operación para obtener el conteo de un ítem X (seq.count(X))\n",
    "\n",
    "estados = [\"Aprobado\",\"Aprobado\",\"Aprobado\",\"Aprobado\",\"Aprobado\",\"No Aprobado\", \"Aprobado\", \"No Aprobado\"]\n",
    "\n",
    "cantidadAprobados = estados.count(\"Aprobado\")\n",
    "cantidadNoAprobados = estados.count(\"No Aprobado\")\n",
    "\n",
    "print(\"el número de aprobados es: \", cantidadAprobados)\n",
    "print(\"el número de no aprobados es: \", cantidadNoAprobados)"
   ]
  },
  {
   "cell_type": "code",
   "execution_count": null,
   "id": "ce3e2d21",
   "metadata": {},
   "outputs": [],
   "source": []
  },
  {
   "cell_type": "code",
   "execution_count": null,
   "id": "905de71d",
   "metadata": {},
   "outputs": [],
   "source": []
  },
  {
   "cell_type": "code",
   "execution_count": null,
   "id": "ff664f8b",
   "metadata": {},
   "outputs": [],
   "source": []
  }
 ],
 "metadata": {
  "kernelspec": {
   "display_name": "Python 3",
   "language": "python",
   "name": "python3"
  },
  "language_info": {
   "codemirror_mode": {
    "name": "ipython",
    "version": 3
   },
   "file_extension": ".py",
   "mimetype": "text/x-python",
   "name": "python",
   "nbconvert_exporter": "python",
   "pygments_lexer": "ipython3",
   "version": "3.7.6"
  }
 },
 "nbformat": 4,
 "nbformat_minor": 5
}
