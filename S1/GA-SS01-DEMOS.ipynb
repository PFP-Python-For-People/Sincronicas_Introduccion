{
 "cells": [
  {
   "cell_type": "markdown",
   "id": "5182470e",
   "metadata": {},
   "source": [
    "# Este es mi primer cuaderno en python"
   ]
  },
  {
   "cell_type": "code",
   "execution_count": 1,
   "id": "05c97c69",
   "metadata": {},
   "outputs": [
    {
     "name": "stdout",
     "output_type": "stream",
     "text": [
      "Hola de Jupyter local\n"
     ]
    }
   ],
   "source": [
    "print(\"Hola de Jupyter local\")"
   ]
  },
  {
   "cell_type": "markdown",
   "id": "bfa5df97",
   "metadata": {},
   "source": [
    "### Interprete .... \"IPython\""
   ]
  },
  {
   "cell_type": "code",
   "execution_count": 2,
   "id": "2548438d",
   "metadata": {},
   "outputs": [
    {
     "name": "stdout",
     "output_type": "stream",
     "text": [
      "Esta es una prueba\n"
     ]
    }
   ],
   "source": [
    "print(\"Esta es una prueba\")"
   ]
  },
  {
   "cell_type": "code",
   "execution_count": 4,
   "id": "d7fedc6a",
   "metadata": {},
   "outputs": [],
   "source": [
    "variable = 10"
   ]
  },
  {
   "cell_type": "code",
   "execution_count": 5,
   "id": "2953e4d0",
   "metadata": {},
   "outputs": [
    {
     "name": "stdout",
     "output_type": "stream",
     "text": [
      "10\n"
     ]
    }
   ],
   "source": [
    "print(variable)"
   ]
  },
  {
   "cell_type": "code",
   "execution_count": 6,
   "id": "1294fa50",
   "metadata": {},
   "outputs": [
    {
     "name": "stdout",
     "output_type": "stream",
     "text": [
      "4\n"
     ]
    }
   ],
   "source": [
    "a = 2\n",
    "b = 2\n",
    "suma = a + b\n",
    "print(suma)"
   ]
  },
  {
   "cell_type": "code",
   "execution_count": 12,
   "id": "560ad913",
   "metadata": {},
   "outputs": [
    {
     "name": "stdout",
     "output_type": "stream",
     "text": [
      "<class 'int'>\n",
      "<class 'float'>\n",
      "<class 'str'>\n",
      "<class 'str'>\n",
      "<class 'bool'>\n",
      "<class 'bool'>\n"
     ]
    }
   ],
   "source": [
    "print( type(2)   ) # literal de entero\n",
    "print( type(2.0) ) # literal de flotante\n",
    "print( type(\"2\") ) # literal de string\n",
    "print( type('2') ) # literal de string\n",
    "print( type(True) ) # literal de boolean\n",
    "print( type(False) ) # literal de boolean\n",
    "\n",
    "# print( type([2]) ) # literal de lista\n",
    "# print( type({\"val\":2}) ) # Literal de diccionario"
   ]
  },
  {
   "cell_type": "code",
   "execution_count": 15,
   "id": "5683db43",
   "metadata": {},
   "outputs": [
    {
     "name": "stdout",
     "output_type": "stream",
     "text": [
      "<class 'str'>\n",
      "<class 'str'>\n",
      "22\n",
      "------------------\n",
      "<class 'int'>\n",
      "<class 'int'>\n",
      "------------------\n",
      "4\n"
     ]
    }
   ],
   "source": [
    "numero_como_texto_a = \"2\"\n",
    "print(type(numero_como_texto_a))\n",
    "numero_como_texto_b = \"2\"\n",
    "print(type(numero_como_texto_b))\n",
    "numero_como_texto_sumado = numero_como_texto_a + numero_como_texto_b\n",
    "print(numero_como_texto_sumado)\n",
    "print(\"------------------\")\n",
    "numero_a = int(numero_como_texto_a)\n",
    "print(type(numero_a))\n",
    "numero_b = int(numero_como_texto_b)\n",
    "print(type(numero_b))\n",
    "print(\"------------------\")\n",
    "numero_sumado = numero_a + numero_b\n",
    "print(numero_sumado)"
   ]
  },
  {
   "cell_type": "code",
   "execution_count": 22,
   "id": "6bba1dea",
   "metadata": {},
   "outputs": [
    {
     "name": "stdout",
     "output_type": "stream",
     "text": [
      "dame un numero inicial: 2\n",
      "2.0 <class 'float'>\n",
      "dame un numero final: 4.5\n",
      "4.5 <class 'float'>\n",
      "9.0\n"
     ]
    }
   ],
   "source": [
    "inicial = float(input(\"dame un numero inicial: \"))\n",
    "print(inicial, type(inicial))\n",
    "final = float(input(\"dame un numero final: \"))\n",
    "print(final, type(final))\n",
    "print(inicial * final)"
   ]
  },
  {
   "cell_type": "code",
   "execution_count": null,
   "id": "b2ab47f6",
   "metadata": {},
   "outputs": [],
   "source": []
  }
 ],
 "metadata": {
  "kernelspec": {
   "display_name": "Python 3",
   "language": "python",
   "name": "python3"
  },
  "language_info": {
   "codemirror_mode": {
    "name": "ipython",
    "version": 3
   },
   "file_extension": ".py",
   "mimetype": "text/x-python",
   "name": "python",
   "nbconvert_exporter": "python",
   "pygments_lexer": "ipython3",
   "version": "3.7.6"
  }
 },
 "nbformat": 4,
 "nbformat_minor": 5
}
