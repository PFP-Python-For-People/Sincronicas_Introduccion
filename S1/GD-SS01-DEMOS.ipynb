{
 "cells": [
  {
   "cell_type": "markdown",
   "id": "263f18fe",
   "metadata": {},
   "source": [
    "# Title\n",
    "### subtitle\n",
    "texto sin un numeral"
   ]
  },
  {
   "cell_type": "code",
   "execution_count": 18,
   "id": "0a4f64e3",
   "metadata": {
    "scrolled": true
   },
   "outputs": [
    {
     "name": "stdout",
     "output_type": "stream",
     "text": [
      "Ingrese el radio del círculo: 10\n",
      "10.0 <class 'float'>\n",
      "El área del círculo es: 314.1592653589793\n"
     ]
    }
   ],
   "source": [
    "import math\n",
    "\n",
    "numero_como_texto = input(\"Ingrese el radio del círculo: \")\n",
    "radio = float(numero_como_texto)\n",
    "\n",
    "print(radio, type(radio))\n",
    "\n",
    "area = math.pi * (radio * radio) # radio ** 2\n",
    "\n",
    "print(\"El área del círculo es:\", area)"
   ]
  },
  {
   "cell_type": "code",
   "execution_count": 14,
   "id": "c540db39",
   "metadata": {},
   "outputs": [
    {
     "data": {
      "text/plain": [
       "'1010'"
      ]
     },
     "execution_count": 14,
     "metadata": {},
     "output_type": "execute_result"
    }
   ],
   "source": [
    "\"10\" + \"10\""
   ]
  },
  {
   "cell_type": "markdown",
   "id": "6d215292",
   "metadata": {},
   "source": [
    "### Tipos de datos"
   ]
  },
  {
   "cell_type": "code",
   "execution_count": 11,
   "id": "f62d50fd",
   "metadata": {},
   "outputs": [
    {
     "name": "stdout",
     "output_type": "stream",
     "text": [
      "<class 'int'>\n",
      "<class 'float'>\n",
      "<class 'str'>\n",
      "<class 'str'>\n",
      "<class 'bool'>\n",
      "<class 'bool'>\n"
     ]
    }
   ],
   "source": [
    "print(type(2))\n",
    "print(type(2.0))\n",
    "print(type(\"2\"))\n",
    "print(type('2'))\n",
    "print(type(True))\n",
    "print(type(False))"
   ]
  },
  {
   "cell_type": "code",
   "execution_count": 21,
   "id": "21bc5f30",
   "metadata": {},
   "outputs": [
    {
     "name": "stdout",
     "output_type": "stream",
     "text": [
      "Ingrese el radio del círculo: 1\n",
      "Valor de Pi:  3.141592653589793\n",
      "El área del círculo es: 3.141592653589793\n"
     ]
    }
   ],
   "source": [
    "import math\n",
    "\n",
    "radio = float(input(\"Ingrese el radio del círculo: \"))\n",
    "pi = math.pi\n",
    "print(\"Valor de Pi: \", pi)\n",
    "area = pi * (radio ** 2)\n",
    "print(\"El área del círculo es:\", area)"
   ]
  },
  {
   "cell_type": "code",
   "execution_count": 20,
   "id": "ef6b34fb",
   "metadata": {},
   "outputs": [],
   "source": [
    "# La respuesta correcta es: 3.1415926535898"
   ]
  },
  {
   "cell_type": "code",
   "execution_count": 23,
   "id": "c65f2867",
   "metadata": {},
   "outputs": [
    {
     "data": {
      "text/plain": [
       "100"
      ]
     },
     "execution_count": 23,
     "metadata": {},
     "output_type": "execute_result"
    }
   ],
   "source": [
    "a = 10\n",
    "b = 10\n",
    "c = a * b\n",
    "c"
   ]
  },
  {
   "cell_type": "code",
   "execution_count": 34,
   "id": "d1649d3a",
   "metadata": {},
   "outputs": [
    {
     "name": "stdout",
     "output_type": "stream",
     "text": [
      "Hola:  4\n"
     ]
    }
   ],
   "source": [
    "print(\"Hola: \", 4 )"
   ]
  },
  {
   "cell_type": "code",
   "execution_count": 39,
   "id": "27c87a21",
   "metadata": {},
   "outputs": [
    {
     "name": "stdout",
     "output_type": "stream",
     "text": [
      "0\n",
      "1\n",
      "2\n",
      "3\n",
      "4\n",
      "5\n"
     ]
    }
   ],
   "source": [
    "valor = 0\n",
    "print(valor)\n",
    "valor += 1\n",
    "print(valor)\n",
    "valor += 1\n",
    "print(valor)\n",
    "valor += 1\n",
    "print(valor)\n",
    "valor += 1\n",
    "print(valor)\n",
    "valor = valor + 1\n",
    "print(valor)"
   ]
  },
  {
   "cell_type": "code",
   "execution_count": 46,
   "id": "6cae2885",
   "metadata": {},
   "outputs": [
    {
     "name": "stdout",
     "output_type": "stream",
     "text": [
      "hola soy: Jose Moncada, tengo 36 años y vivo en Cali\n"
     ]
    }
   ],
   "source": [
    "dato_a = \"Jose\"\n",
    "dato_b = \"Moncada\"\n",
    "dato_c = 36\n",
    "dato_d = \"Cali\"\n",
    "print(f\"hola soy: {dato_a} {dato_b}, tengo {dato_c} años y vivo en {dato_d}\")"
   ]
  },
  {
   "cell_type": "code",
   "execution_count": null,
   "id": "341dae93",
   "metadata": {},
   "outputs": [],
   "source": []
  }
 ],
 "metadata": {
  "kernelspec": {
   "display_name": "Python 3",
   "language": "python",
   "name": "python3"
  },
  "language_info": {
   "codemirror_mode": {
    "name": "ipython",
    "version": 3
   },
   "file_extension": ".py",
   "mimetype": "text/x-python",
   "name": "python",
   "nbconvert_exporter": "python",
   "pygments_lexer": "ipython3",
   "version": "3.7.6"
  }
 },
 "nbformat": 4,
 "nbformat_minor": 5
}
