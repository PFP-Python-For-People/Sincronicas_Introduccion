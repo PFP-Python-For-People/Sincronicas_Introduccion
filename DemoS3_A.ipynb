{
 "cells": [
  {
   "cell_type": "markdown",
   "id": "10310087",
   "metadata": {},
   "source": [
    "## Demo en clase S3\n",
    "##### Temas:\n",
    "\n",
    "1. Recuento de funciones\n",
    "2. Recuento de programación orientada a objetos"
   ]
  },
  {
   "cell_type": "code",
   "execution_count": 1,
   "id": "ac22a5fb",
   "metadata": {},
   "outputs": [
    {
     "data": {
      "text/plain": [
       "[0, 1, 2, 3, 4]"
      ]
     },
     "execution_count": 1,
     "metadata": {},
     "output_type": "execute_result"
    }
   ],
   "source": [
    "dias = [\"lunes\",\"martes\",\"miercoles\",\"jueves\",\"viernes\",\"sabado\",\"domingo\"]\n",
    "lista = [0,1,2,3,4,5,6] #\n",
    "lista[0:5]"
   ]
  },
  {
   "cell_type": "code",
   "execution_count": 2,
   "id": "cf09a1d9",
   "metadata": {},
   "outputs": [
    {
     "data": {
      "text/plain": [
       "[5, 6]"
      ]
     },
     "execution_count": 2,
     "metadata": {},
     "output_type": "execute_result"
    }
   ],
   "source": [
    "lista[5:7]"
   ]
  },
  {
   "cell_type": "markdown",
   "id": "7e0d6183",
   "metadata": {},
   "source": [
    "### Recuento de funciones"
   ]
  },
  {
   "cell_type": "code",
   "execution_count": 3,
   "id": "03d8a12a",
   "metadata": {},
   "outputs": [],
   "source": [
    "def nombre_funcion():\n",
    "    print(\"una tarea que hace la función 1\")\n",
    "    print(\"una tarea que hace la función 2\")\n",
    "    print(\"una tarea que hace la función 3\")\n",
    "    print(\"una tarea que hace la función 4\")"
   ]
  },
  {
   "cell_type": "code",
   "execution_count": 7,
   "id": "2d2a1b55",
   "metadata": {},
   "outputs": [
    {
     "name": "stdout",
     "output_type": "stream",
     "text": [
      "una tarea que hace la función 1\n",
      "una tarea que hace la función 2\n",
      "una tarea que hace la función 3\n",
      "una tarea que hace la función 4\n"
     ]
    }
   ],
   "source": [
    "# Llamado a la función\n",
    "nombre_funcion()"
   ]
  },
  {
   "cell_type": "code",
   "execution_count": 12,
   "id": "3e2c94bb",
   "metadata": {},
   "outputs": [
    {
     "name": "stdout",
     "output_type": "stream",
     "text": [
      "....\n"
     ]
    }
   ],
   "source": [
    "def nombre_funcion_con_retorno():    \n",
    "    return \"....\"\n",
    "\n",
    "# llamado con retorno\n",
    "valor = nombre_funcion_con_retorno()\n",
    "print(valor)\n",
    "\n",
    "## Ejemplo almacenar elementos resultantes"
   ]
  },
  {
   "cell_type": "code",
   "execution_count": 19,
   "id": "a7d1b53a",
   "metadata": {},
   "outputs": [
    {
     "name": "stdout",
     "output_type": "stream",
     "text": [
      "recibí a como:  1\n",
      "recibí b como:  2\n"
     ]
    },
    {
     "data": {
      "text/plain": [
       "3"
      ]
     },
     "execution_count": 19,
     "metadata": {},
     "output_type": "execute_result"
    }
   ],
   "source": [
    "def nombre_funcion_con_parametros(a, b):\n",
    "    print(\"recibí a como: \", a)\n",
    "    print(\"recibí b como: \", b)\n",
    "    return a+b\n",
    "\n",
    "nombre_funcion_con_parametros(1, 2)\n",
    "# mostrar que pasa si no se entregan los parametros"
   ]
  },
  {
   "cell_type": "code",
   "execution_count": 34,
   "id": "99bd5430",
   "metadata": {},
   "outputs": [
    {
     "name": "stdout",
     "output_type": "stream",
     "text": [
      "recibí a como:  2\n",
      "recibí b como:  3\n"
     ]
    },
    {
     "data": {
      "text/plain": [
       "5"
      ]
     },
     "execution_count": 34,
     "metadata": {},
     "output_type": "execute_result"
    }
   ],
   "source": [
    "# parámetros por defecto (a = 3, b = 5)\n",
    "def nombre_funcion_con_parametros(a = 3, b = 5):\n",
    "    print(\"recibí a como: \", a)\n",
    "    print(\"recibí b como: \", b)\n",
    "    return a+b\n",
    "\n",
    "nombre_funcion_con_parametros(a=2, b=3)\n",
    "#nombre_funcion_con_parametros(2, 22)\n",
    "#nombre_funcion_con_parametros(b = 8)\n",
    "# mostrar que pasa si no se entregan los parametros"
   ]
  },
  {
   "cell_type": "code",
   "execution_count": 39,
   "id": "01f44def",
   "metadata": {},
   "outputs": [
    {
     "data": {
      "text/plain": [
       "['SA', 'DO']"
      ]
     },
     "execution_count": 39,
     "metadata": {},
     "output_type": "execute_result"
    }
   ],
   "source": [
    "###### 0  1  2  3  4  5  6  7\n",
    "seq = [1, 2, 3, 4, 5, 6, 7, 8]\n",
    "posicion6 = seq[6];\n",
    "########## 0     1     2     3     4     5  |   6 | 7\n",
    "semana = [\"LU\", \"MA\", \"MI\", \"JU\", \"VI\", \"SA\", \"DO\"]\n",
    "#print(\"el valor en la posición 6 es: \" + str(posicion6))\n",
    "semana[0:6]\n",
    "semana[5:7]"
   ]
  },
  {
   "cell_type": "markdown",
   "id": "2dcf0da4",
   "metadata": {},
   "source": [
    "### Comportamiento de las variables en relación a la visibilidad (global / local)"
   ]
  },
  {
   "cell_type": "code",
   "execution_count": 43,
   "id": "8ab817d6",
   "metadata": {},
   "outputs": [],
   "source": [
    " estado = \"lloviendo 🌧\"\n",
    "\n",
    "# ¿Qué pasó aquí?\n",
    "\n",
    "# Hablar de visibilidad de las variables\n",
    "# Hablar de enmascaramiento y alcance\n",
    "# Demostrar el uso de global"
   ]
  },
  {
   "cell_type": "code",
   "execution_count": 44,
   "id": "48d07309",
   "metadata": {},
   "outputs": [],
   "source": [
    "def cambiarEstado(nuevo_estado):\n",
    "    # global estado\n",
    "    estado = nuevo_estado\n",
    "    print(\"en el interior:\", estado)"
   ]
  },
  {
   "cell_type": "code",
   "execution_count": 45,
   "id": "360feabe",
   "metadata": {},
   "outputs": [
    {
     "name": "stdout",
     "output_type": "stream",
     "text": [
      "en el exterior: lloviendo 🌧\n",
      "en el interior: Soleado ☀\n",
      "en el exterior: Soleado ☀\n"
     ]
    }
   ],
   "source": [
    "print(\"en el exterior:\", estado)\n",
    "cambiarEstado(\"Soleado ☀\")\n",
    "print(\"en el exterior:\", estado)"
   ]
  },
  {
   "cell_type": "code",
   "execution_count": null,
   "id": "a35e9ee7",
   "metadata": {},
   "outputs": [],
   "source": []
  },
  {
   "cell_type": "markdown",
   "id": "65a18734",
   "metadata": {},
   "source": [
    "### ¿funciones como parámetros?\n",
    "\n",
    "Composicion y la idea de ciudadanos de primer nivel."
   ]
  },
  {
   "cell_type": "code",
   "execution_count": 58,
   "id": "14733bbf",
   "metadata": {},
   "outputs": [],
   "source": [
    "def operar (a, b, accion):\n",
    "    return accion(a, b)\n",
    "\n",
    "def adicionar(a, b):\n",
    "    return a+b\n",
    "\n",
    "def restar(a, b):\n",
    "    return a-b\n",
    "\n",
    "def multiplicar(a, b):\n",
    "    return a*b\n",
    "\n",
    "def dividir(a, b):\n",
    "    return a/b"
   ]
  },
  {
   "cell_type": "code",
   "execution_count": 60,
   "id": "bf922eb1",
   "metadata": {},
   "outputs": [
    {
     "name": "stdout",
     "output_type": "stream",
     "text": [
      "-1\n",
      "9\n",
      "20\n",
      "0.8\n"
     ]
    }
   ],
   "source": [
    "def calculador_aritmetico(a, b, accionA, accionB, accionC, accionD):\n",
    "    print(accionA(a,b))\n",
    "    print(accionB(a,b))\n",
    "    print(accionC(a,b))\n",
    "    print(accionD(a,b))\n",
    "\n",
    "calculador_aritmetico(4, 5, restar, adicionar, multiplicar, dividir)"
   ]
  },
  {
   "cell_type": "code",
   "execution_count": 54,
   "id": "02c55dc4",
   "metadata": {},
   "outputs": [
    {
     "data": {
      "text/plain": [
       "4"
      ]
     },
     "execution_count": 54,
     "metadata": {},
     "output_type": "execute_result"
    }
   ],
   "source": [
    "operar(2, 2, sumar)"
   ]
  },
  {
   "cell_type": "code",
   "execution_count": 55,
   "id": "3d7940c9",
   "metadata": {},
   "outputs": [
    {
     "data": {
      "text/plain": [
       "0"
      ]
     },
     "execution_count": 55,
     "metadata": {},
     "output_type": "execute_result"
    }
   ],
   "source": [
    "operar(2, 2, restar)"
   ]
  },
  {
   "cell_type": "code",
   "execution_count": 56,
   "id": "0ae487ef",
   "metadata": {},
   "outputs": [
    {
     "data": {
      "text/plain": [
       "4"
      ]
     },
     "execution_count": 56,
     "metadata": {},
     "output_type": "execute_result"
    }
   ],
   "source": [
    "operar(2, 2, multiplicar)"
   ]
  },
  {
   "cell_type": "code",
   "execution_count": 57,
   "id": "1de1f786",
   "metadata": {},
   "outputs": [
    {
     "data": {
      "text/plain": [
       "1.0"
      ]
     },
     "execution_count": 57,
     "metadata": {},
     "output_type": "execute_result"
    }
   ],
   "source": [
    "operar(2, 2, dividir)"
   ]
  },
  {
   "cell_type": "markdown",
   "id": "36bfbead",
   "metadata": {},
   "source": [
    "## Programación orientada a objetos\n",
    "Recuento general, los objetos representan entidades con caracteristicas y servicios."
   ]
  },
  {
   "cell_type": "code",
   "execution_count": 64,
   "id": "6d4250b8",
   "metadata": {},
   "outputs": [],
   "source": [
    "class Calculadora:\n",
    "\n",
    "    def __init__(self, nombre): ## Hablar de los constructores\n",
    "        print(\"Se está creando una calculadora\", self)        \n",
    "        self.nombre = nombre\n",
    "        \n",
    "    def sumar(self, a, b): ## mostrar que pasa si quitamos self y hablar de self\n",
    "        #print(\"self:\", self)\n",
    "        return a + b \n",
    "    \n",
    "    def restar(self, a, b):\n",
    "        print(\"self:\", self)\n",
    "        return a - b \n",
    "    \n",
    "    def multiplicar(self, a, b):\n",
    "        return a * b \n",
    "    \n",
    "    def dividir(self, a, b):\n",
    "        return a / b "
   ]
  },
  {
   "cell_type": "code",
   "execution_count": 68,
   "id": "d75b0817",
   "metadata": {},
   "outputs": [
    {
     "name": "stdout",
     "output_type": "stream",
     "text": [
      "Se está creando una calculadora <__main__.Calculadora object at 0x0000016016077848>\n",
      "Casio MK12342345\n",
      "Se está creando una calculadora <__main__.Calculadora object at 0x0000016016071048>\n",
      "Shandoo MK888\n"
     ]
    }
   ],
   "source": [
    "# Qué son las instancias\n",
    "miCalculadora = Calculadora(\"Casio MK12342345\")\n",
    "print(miCalculadora.nombre)\n",
    "\n",
    "miCalculadoraB = Calculadora(\"Shandoo MK888\")\n",
    "print(miCalculadoraB.nombre)"
   ]
  },
  {
   "cell_type": "code",
   "execution_count": 76,
   "id": "3f6f2d63",
   "metadata": {},
   "outputs": [],
   "source": [
    "class Persona:\n",
    "    def __init__(self, nombre, apellido):\n",
    "        print(\"se creó a \", nombre, apellido)\n",
    "        self.nombre = nombre\n",
    "        self.apellido = apellido\n",
    "    def presentarse(self):\n",
    "        print(\"hola, soy:\" , self.nombre, self.apellido)        "
   ]
  },
  {
   "cell_type": "code",
   "execution_count": 77,
   "id": "c7cd8dcc",
   "metadata": {},
   "outputs": [
    {
     "name": "stdout",
     "output_type": "stream",
     "text": [
      "se creó a  Jose Moncada\n",
      "se creó a  Juan Ospina\n",
      "se creó a  Ana Cordoba\n"
     ]
    }
   ],
   "source": [
    "persona_a = Persona(\"Jose\", \"Moncada\")\n",
    "persona_b = Persona(\"Juan\", \"Ospina\")\n",
    "persona_c = Persona(\"Ana\", \"Cordoba\")"
   ]
  },
  {
   "cell_type": "code",
   "execution_count": 79,
   "id": "98b2a738",
   "metadata": {},
   "outputs": [
    {
     "name": "stdout",
     "output_type": "stream",
     "text": [
      "hola, soy: Jose Moncada\n"
     ]
    }
   ],
   "source": [
    "persona_a.presentarse()"
   ]
  },
  {
   "cell_type": "code",
   "execution_count": 80,
   "id": "d6c1fbdc",
   "metadata": {},
   "outputs": [
    {
     "name": "stdout",
     "output_type": "stream",
     "text": [
      "hola, soy: Juan Ospina\n"
     ]
    }
   ],
   "source": [
    "persona_b.presentarse()"
   ]
  },
  {
   "cell_type": "code",
   "execution_count": 81,
   "id": "3b630852",
   "metadata": {},
   "outputs": [
    {
     "name": "stdout",
     "output_type": "stream",
     "text": [
      "hola, soy: Ana Cordoba\n"
     ]
    }
   ],
   "source": [
    "persona_c.presentarse()"
   ]
  },
  {
   "cell_type": "code",
   "execution_count": 86,
   "id": "31946307",
   "metadata": {},
   "outputs": [
    {
     "data": {
      "text/plain": [
       "__main__.Calculadora"
      ]
     },
     "execution_count": 86,
     "metadata": {},
     "output_type": "execute_result"
    }
   ],
   "source": [
    "# Qué representa ?\n",
    "type(miCalculadora)\n",
    "#type(persona_a)\n",
    "#type(persona_b)"
   ]
  },
  {
   "cell_type": "code",
   "execution_count": 87,
   "id": "8e3a715c",
   "metadata": {},
   "outputs": [
    {
     "name": "stdout",
     "output_type": "stream",
     "text": [
      "54\n"
     ]
    }
   ],
   "source": [
    "# qué hace la notación de (.) punto\n",
    "suma = miCalculadora.sumar(10, 44)\n",
    "print(suma)"
   ]
  },
  {
   "cell_type": "code",
   "execution_count": 88,
   "id": "2f4090f3",
   "metadata": {},
   "outputs": [
    {
     "name": "stdout",
     "output_type": "stream",
     "text": [
      "self: <__main__.Calculadora object at 0x0000016016077848>\n",
      "-34\n"
     ]
    }
   ],
   "source": [
    "resta = miCalculadora.restar(10, 44)\n",
    "print(resta)"
   ]
  },
  {
   "cell_type": "code",
   "execution_count": 91,
   "id": "7c369f52",
   "metadata": {},
   "outputs": [
    {
     "name": "stdout",
     "output_type": "stream",
     "text": [
      "100\n"
     ]
    }
   ],
   "source": [
    "multiplicacion = miCalculadora.multiplicar(10,10);\n",
    "print(multiplicacion)"
   ]
  },
  {
   "cell_type": "code",
   "execution_count": 92,
   "id": "b0030386",
   "metadata": {},
   "outputs": [
    {
     "data": {
      "text/plain": [
       "10.0"
      ]
     },
     "execution_count": 92,
     "metadata": {},
     "output_type": "execute_result"
    }
   ],
   "source": [
    "division = miCalculadora.dividir(100,10)\n",
    "division"
   ]
  },
  {
   "cell_type": "markdown",
   "id": "08c1ce5d",
   "metadata": {},
   "source": [
    "### Además de las instancias, ¿qué tenemos?"
   ]
  },
  {
   "cell_type": "markdown",
   "id": "fccf70e1",
   "metadata": {},
   "source": [
    "#### Decoradores\n",
    "\n",
    "¿Qué son?: Son definiciones adicionales usando la notación de @\n",
    "\n",
    "##### ¿Cuáles usamos?\n",
    "\n",
    "@staticmethod y @classmethod son decoradores en Python utilizados para definir métodos dentro de una clase.\n",
    "\n",
    "Ambos permiten llamar a los métodos sin la necesidad de crear una instancia de la clase, lo que significa que son métodos que pertenecen a la clase en sí y no a las instancias individuales de la clase.\n",
    "\n",
    "⚠ La principal diferencia entre @staticmethod y @classmethod radica en cómo se pasan los argumentos y cómo se comportan en relación con la clase y las instancias. Veamos cada uno de ellos:"
   ]
  },
  {
   "cell_type": "markdown",
   "id": "a2046fdc",
   "metadata": {},
   "source": [
    "###### @staticmethod:\n",
    "\n",
    "Un método decorado con @staticmethod no toma el primer argumento como self. No tiene acceso a los atributos o métodos de instancia, ni al propio objeto de la instancia. Por lo tanto, no necesita una referencia a la instancia de la clase para ser llamado.\n",
    "\n",
    "Se utiliza para definir métodos que no necesitan información específica de la instancia y que realizan operaciones independientes de cualquier estado de instancia.\n",
    "\n",
    "Se puede llamar desde la clase o una instancia de la clase."
   ]
  },
  {
   "cell_type": "code",
   "execution_count": 95,
   "id": "968f5fba",
   "metadata": {},
   "outputs": [
    {
     "ename": "NameError",
     "evalue": "name 'class_variable' is not defined",
     "output_type": "error",
     "traceback": [
      "\u001b[1;31m---------------------------------------------------------------------------\u001b[0m",
      "\u001b[1;31mNameError\u001b[0m                                 Traceback (most recent call last)",
      "\u001b[1;32m<ipython-input-95-1204ced5fa84>\u001b[0m in \u001b[0;36m<module>\u001b[1;34m\u001b[0m\n\u001b[0;32m      7\u001b[0m \u001b[1;33m\u001b[0m\u001b[0m\n\u001b[0;32m      8\u001b[0m \u001b[1;31m# Llamada desde la clase\u001b[0m\u001b[1;33m\u001b[0m\u001b[1;33m\u001b[0m\u001b[1;33m\u001b[0m\u001b[0m\n\u001b[1;32m----> 9\u001b[1;33m \u001b[0mMyClass\u001b[0m\u001b[1;33m.\u001b[0m\u001b[0mstatic_method\u001b[0m\u001b[1;33m(\u001b[0m\u001b[1;33m)\u001b[0m\u001b[1;33m\u001b[0m\u001b[1;33m\u001b[0m\u001b[0m\n\u001b[0m\u001b[0;32m     10\u001b[0m \u001b[1;33m\u001b[0m\u001b[0m\n\u001b[0;32m     11\u001b[0m \u001b[1;31m# Llamada desde una instancia de la clase\u001b[0m\u001b[1;33m\u001b[0m\u001b[1;33m\u001b[0m\u001b[1;33m\u001b[0m\u001b[0m\n",
      "\u001b[1;32m<ipython-input-95-1204ced5fa84>\u001b[0m in \u001b[0;36mstatic_method\u001b[1;34m()\u001b[0m\n\u001b[0;32m      4\u001b[0m     \u001b[1;33m@\u001b[0m\u001b[0mstaticmethod\u001b[0m\u001b[1;33m\u001b[0m\u001b[1;33m\u001b[0m\u001b[0m\n\u001b[0;32m      5\u001b[0m     \u001b[1;32mdef\u001b[0m \u001b[0mstatic_method\u001b[0m\u001b[1;33m(\u001b[0m\u001b[1;33m)\u001b[0m\u001b[1;33m:\u001b[0m\u001b[1;33m\u001b[0m\u001b[1;33m\u001b[0m\u001b[0m\n\u001b[1;32m----> 6\u001b[1;33m         \u001b[0mprint\u001b[0m\u001b[1;33m(\u001b[0m\u001b[1;34m\"Soy un método estático.\"\u001b[0m\u001b[1;33m,\u001b[0m \u001b[0mclass_variable\u001b[0m\u001b[1;33m)\u001b[0m\u001b[1;33m\u001b[0m\u001b[1;33m\u001b[0m\u001b[0m\n\u001b[0m\u001b[0;32m      7\u001b[0m \u001b[1;33m\u001b[0m\u001b[0m\n\u001b[0;32m      8\u001b[0m \u001b[1;31m# Llamada desde la clase\u001b[0m\u001b[1;33m\u001b[0m\u001b[1;33m\u001b[0m\u001b[1;33m\u001b[0m\u001b[0m\n",
      "\u001b[1;31mNameError\u001b[0m: name 'class_variable' is not defined"
     ]
    }
   ],
   "source": [
    "class MyClass:\n",
    "    class_variable = \"Hola terricolas\"\n",
    "    \n",
    "    @staticmethod\n",
    "    def static_method():\n",
    "        print(\"Soy un método estático.\", class_variable)\n",
    "\n",
    "# Llamada desde la clase\n",
    "MyClass.static_method()\n",
    "\n",
    "# Llamada desde una instancia de la clase\n",
    "obj = MyClass()\n",
    "obj.static_method()\n"
   ]
  },
  {
   "cell_type": "markdown",
   "id": "4ec179cf",
   "metadata": {},
   "source": [
    "##### @classmethod:\n",
    "\n",
    "Un método decorado con @classmethod toma el primer argumento como cls, que hace referencia a la propia clase. Con este argumento, el método tiene acceso a los atributos y métodos de la clase.\n",
    "\n",
    "Se utiliza para definir métodos que necesitan acceder a la clase y no necesariamente a las instancias individuales.\n",
    "\n",
    "Se puede llamar desde la clase, y también desde una instancia de la clase, pero en este caso, cls se refiere a la clase que es el tipo de la instancia desde la cual se llama."
   ]
  },
  {
   "cell_type": "code",
   "execution_count": 93,
   "id": "801b29da",
   "metadata": {},
   "outputs": [
    {
     "name": "stdout",
     "output_type": "stream",
     "text": [
      "soy un método de clase\n",
      "Hola terricolas\n",
      "soy un método de clase\n",
      "Hola terricolas\n"
     ]
    }
   ],
   "source": [
    "class MyClass:\n",
    "    class_variable = \"Hola terricolas\"\n",
    "\n",
    "    @classmethod\n",
    "    def class_method(cls):\n",
    "        print(\"soy un método de clase\")\n",
    "        print(cls.class_variable)  # Acceso a atributos de la clase\n",
    "\n",
    "# Llamada desde la clase\n",
    "MyClass.class_method()\n",
    "\n",
    "# Llamada desde una instancia de la clase\n",
    "obj = MyClass()\n",
    "obj.class_method()"
   ]
  },
  {
   "cell_type": "code",
   "execution_count": null,
   "id": "1af19bc2",
   "metadata": {},
   "outputs": [],
   "source": []
  }
 ],
 "metadata": {
  "kernelspec": {
   "display_name": "Python 3",
   "language": "python",
   "name": "python3"
  },
  "language_info": {
   "codemirror_mode": {
    "name": "ipython",
    "version": 3
   },
   "file_extension": ".py",
   "mimetype": "text/x-python",
   "name": "python",
   "nbconvert_exporter": "python",
   "pygments_lexer": "ipython3",
   "version": "3.7.6"
  }
 },
 "nbformat": 4,
 "nbformat_minor": 5
}
