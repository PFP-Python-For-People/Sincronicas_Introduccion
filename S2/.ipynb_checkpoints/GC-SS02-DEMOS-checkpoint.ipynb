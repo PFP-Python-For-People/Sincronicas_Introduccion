{
 "cells": [
  {
   "cell_type": "markdown",
   "id": "7a272129",
   "metadata": {},
   "source": [
    "# Sesión sincrónica 2\n",
    "\n",
    "#### Unidad 3\n",
    "\n",
    "1. ¿Qué son las estructuras de control de flujo - condicionales?\n",
    "2. Selección y condiciones.\n",
    "3. Selección simple, doble y múltiple"
   ]
  },
  {
   "cell_type": "code",
   "execution_count": 4,
   "id": "a3b16b2f",
   "metadata": {},
   "outputs": [
    {
     "name": "stdout",
     "output_type": "stream",
     "text": [
      "1\n",
      "2\n",
      "3\n",
      "4\n",
      "5\n"
     ]
    }
   ],
   "source": [
    "# secuencia\n",
    "\n",
    "print(1)\n",
    "print(2)\n",
    "print(3)\n",
    "print(4)\n",
    "print(5)"
   ]
  },
  {
   "cell_type": "markdown",
   "id": "101eb34e",
   "metadata": {},
   "source": [
    "### Acerca de las condiciones"
   ]
  },
  {
   "cell_type": "code",
   "execution_count": 6,
   "id": "8bd8e9ce",
   "metadata": {},
   "outputs": [],
   "source": [
    "condicion_a = True\n",
    "condicion_b = False"
   ]
  },
  {
   "cell_type": "code",
   "execution_count": 7,
   "id": "4e5e0a95",
   "metadata": {},
   "outputs": [
    {
     "name": "stdout",
     "output_type": "stream",
     "text": [
      "True False False False\n"
     ]
    }
   ],
   "source": [
    "condicion_c = True and True\n",
    "condicion_d = True and False\n",
    "condicion_e = False and True\n",
    "condicion_f = False and False\n",
    "print(condicion_c, condicion_d, condicion_e, condicion_f)"
   ]
  },
  {
   "cell_type": "code",
   "execution_count": 8,
   "id": "9804446f",
   "metadata": {},
   "outputs": [
    {
     "name": "stdout",
     "output_type": "stream",
     "text": [
      "True True True False\n"
     ]
    }
   ],
   "source": [
    "condicion_g = True or True\n",
    "condicion_h = True or False\n",
    "condicion_i = False or True\n",
    "condicion_j = False or False\n",
    "print(condicion_g, condicion_h, condicion_i, condicion_j)"
   ]
  },
  {
   "cell_type": "code",
   "execution_count": 6,
   "id": "c111f25e",
   "metadata": {},
   "outputs": [
    {
     "name": "stdout",
     "output_type": "stream",
     "text": [
      "Bienvenido 💡\n"
     ]
    }
   ],
   "source": [
    "# if ---> simple | opcional\n",
    "\n",
    "edad_persona = 18\n",
    "edad_minima_ingreso = 18\n",
    "\n",
    "if( edad_persona >= edad_minima_ingreso ):\n",
    "    print(\"Bienvenido 💡\")"
   ]
  },
  {
   "cell_type": "code",
   "execution_count": 8,
   "id": "1e51034d",
   "metadata": {},
   "outputs": [
    {
     "name": "stdout",
     "output_type": "stream",
     "text": [
      "Bienvenido 💡\n"
     ]
    }
   ],
   "source": [
    "# else ---> doble | defecto\n",
    "\n",
    "edad_persona = 18\n",
    "edad_minima_ingreso = 18\n",
    "\n",
    "if( edad_persona >= edad_minima_ingreso ):\n",
    "    print(\"Bienvenido 💡\")\n",
    "else:\n",
    "    print(\"Usted no puede pasar ❌\")"
   ]
  },
  {
   "cell_type": "code",
   "execution_count": 16,
   "id": "20fb7bcb",
   "metadata": {},
   "outputs": [
    {
     "name": "stdout",
     "output_type": "stream",
     "text": [
      "Usted no puede pasar ❌\n"
     ]
    }
   ],
   "source": [
    "# elif\n",
    "\n",
    "# [Jóvenes]: 18 - 25\n",
    "# [Adultos]: 26 - 35\n",
    "# [Seniors]: 55 - 90\n",
    "\n",
    "# *** mayores de 18\n",
    "\n",
    "edad_persona = 16\n",
    "edad_minima_ingreso = 18\n",
    "\n",
    "if( edad_persona >= edad_minima_ingreso ):\n",
    "    ## segmentación\n",
    "    if(edad_persona>=18 and edad_persona<=25):\n",
    "        print(\"Puede ingresar a Jóvenes\")\n",
    "    elif(edad_persona>=26 and edad_persona<=35):\n",
    "        print(\"Puede ingresar a Adultos\")\n",
    "    elif(edad_persona>=55 and edad_persona<=90):\n",
    "        print(\"Puede ingresar a Seniors\")\n",
    "    else:\n",
    "        print(\"Puede ingresar a la plazoleta de comidas :😋\")\n",
    "else:\n",
    "    print(\"Usted no puede pasar ❌\") \n",
    "\n",
    "# if\n",
    "# if - else\n",
    "# if - elif - else\n",
    "# if - elif - elif - elif - else"
   ]
  },
  {
   "cell_type": "code",
   "execution_count": 34,
   "id": "bf3048ac",
   "metadata": {},
   "outputs": [
    {
     "name": "stdout",
     "output_type": "stream",
     "text": [
      "Puede ingresar a la plazoleta de comidas :😋\n"
     ]
    }
   ],
   "source": [
    "# elif\n",
    "\n",
    "# [VIP]: 21 - 36\n",
    "# [Jóvenes]: 18 - 25\n",
    "# [Adultos]: 26 - 35\n",
    "# [SemiSeniors]: 36 - 45\n",
    "# [Seniors]: 55 - 90\n",
    "\n",
    "# *** mayores de 18\n",
    "\n",
    "edad_persona = 47\n",
    "edad_minima_ingreso = 18\n",
    "\n",
    "tiene_rango = False\n",
    "\n",
    "if( edad_persona >= edad_minima_ingreso ):\n",
    "    ## segmentación\n",
    "    if(edad_persona>=21 and edad_persona<=36):\n",
    "        print(\"Puede ingresar a VIP\")\n",
    "        tiene_rango=True\n",
    "    \n",
    "    if(edad_persona>=18 and edad_persona<=25):\n",
    "        print(\"Puede ingresar a Jóvenes\")\n",
    "        tiene_rango=True\n",
    "    \n",
    "    if(edad_persona>=26 and edad_persona<=35):\n",
    "        print(\"Puede ingresar a Adultos\")\n",
    "        tiene_rango=True\n",
    "    \n",
    "    if(edad_persona>=36 and edad_persona<=45):\n",
    "        print(\"Puede ingresar a SemiSeniors\")\n",
    "        tiene_rango=True\n",
    "    \n",
    "    if(edad_persona>=55 and edad_persona<=90):\n",
    "        print(\"Puede ingresar a Seniors\")   \n",
    "        tiene_rango=True\n",
    "        \n",
    "    if(tiene_rango == False):\n",
    "        print(\"Puede ingresar a la plazoleta de comidas :😋\")\n",
    "        \n",
    "else:\n",
    "    print(\"Usted no puede pasar ❌\") "
   ]
  },
  {
   "cell_type": "code",
   "execution_count": 38,
   "id": "e0c277ef",
   "metadata": {},
   "outputs": [
    {
     "name": "stdout",
     "output_type": "stream",
     "text": [
      "Precio es:  2380000.0\n"
     ]
    }
   ],
   "source": [
    "# Ejercicio de selección computadores precio\n",
    "\n",
    "precio_maximo_sin_iva = 1700000\n",
    "precio_computador  = 2000000\n",
    "\n",
    "if(precio_computador<=precio_maximo_sin_iva):\n",
    "    print(\"Precio es: \", precio_computador)\n",
    "else:\n",
    "    print(\"Precio es: \", precio_computador*1.19)"
   ]
  },
  {
   "cell_type": "code",
   "execution_count": 48,
   "id": "df267e8b",
   "metadata": {},
   "outputs": [
    {
     "data": {
      "text/html": [
       "<div>\n",
       "<style scoped>\n",
       "    .dataframe tbody tr th:only-of-type {\n",
       "        vertical-align: middle;\n",
       "    }\n",
       "\n",
       "    .dataframe tbody tr th {\n",
       "        vertical-align: top;\n",
       "    }\n",
       "\n",
       "    .dataframe thead th {\n",
       "        text-align: right;\n",
       "    }\n",
       "</style>\n",
       "<table border=\"1\" class=\"dataframe\">\n",
       "  <thead>\n",
       "    <tr style=\"text-align: right;\">\n",
       "      <th></th>\n",
       "      <th>0</th>\n",
       "    </tr>\n",
       "  </thead>\n",
       "  <tbody>\n",
       "    <tr>\n",
       "      <th>0</th>\n",
       "      <td>sample 1</td>\n",
       "    </tr>\n",
       "    <tr>\n",
       "      <th>1</th>\n",
       "      <td>sample 2</td>\n",
       "    </tr>\n",
       "    <tr>\n",
       "      <th>2</th>\n",
       "      <td>sample 3</td>\n",
       "    </tr>\n",
       "  </tbody>\n",
       "</table>\n",
       "</div>"
      ],
      "text/plain": [
       "          0\n",
       "0  sample 1\n",
       "1  sample 2\n",
       "2  sample 3"
      ]
     },
     "execution_count": 48,
     "metadata": {},
     "output_type": "execute_result"
    }
   ],
   "source": [
    "from IPython.display import display\n",
    "import pandas as pd\n",
    "\n",
    "list_members = [\"sample 1\", \"sample 2\", \"sample 3\"]\n",
    "data = pd.DataFrame(list_members)\n",
    "\n",
    "data.head(10)"
   ]
  },
  {
   "cell_type": "code",
   "execution_count": 7,
   "id": "ed1fd4b9",
   "metadata": {},
   "outputs": [
    {
     "name": "stdout",
     "output_type": "stream",
     "text": [
      "3.141592653589793\n"
     ]
    }
   ],
   "source": [
    "import math\n",
    "\n",
    "print(math.pi)"
   ]
  },
  {
   "cell_type": "markdown",
   "id": "51a16526",
   "metadata": {},
   "source": [
    "#### Unidad 4\n",
    "\n",
    "1. ¿Qué son las estructuras de control de flujo - ciclos?\n",
    "2. Ciclos en Python."
   ]
  },
  {
   "cell_type": "code",
   "execution_count": 28,
   "id": "09e5bda4",
   "metadata": {},
   "outputs": [
    {
     "name": "stdout",
     "output_type": "stream",
     "text": [
      "clap !! 👏 0\n",
      "Eeeepa!!  🥳 1\n",
      "clap !! 👏 2\n",
      "Eeeepa!!  🥳 3\n"
     ]
    }
   ],
   "source": [
    "# while\n",
    "\n",
    "edad_persona = 4\n",
    "conteo_aplausos = 0\n",
    "\n",
    "while(conteo_aplausos < edad_persona):\n",
    "    if(conteo_aplausos %2 == 0):\n",
    "        print(\"clap !! 👏\", conteo_aplausos)\n",
    "    else:\n",
    "        print(\"Eeeepa!!  🥳\", conteo_aplausos)\n",
    "    \n",
    "    conteo_aplausos += 1"
   ]
  },
  {
   "cell_type": "code",
   "execution_count": 34,
   "id": "5abd7f04",
   "metadata": {},
   "outputs": [
    {
     "name": "stdout",
     "output_type": "stream",
     "text": [
      "sentadilla ☀ quedan 5 repeticiones\n",
      "sentadilla ☀ quedan 4 repeticiones\n",
      "sentadilla ☀ quedan 3 repeticiones\n"
     ]
    }
   ],
   "source": [
    "repeticion = 5\n",
    "\n",
    "while(repeticion > 2):\n",
    "    print(\"sentadilla ☀\", f\"quedan {repeticion} repeticiones\")\n",
    "    repeticion-=1    "
   ]
  },
  {
   "cell_type": "code",
   "execution_count": 37,
   "id": "bd08028c",
   "metadata": {},
   "outputs": [
    {
     "name": "stdout",
     "output_type": "stream",
     "text": [
      "Bienvenida Leydi 👩\n",
      "Bienvenida Mariana 👩\n",
      "Bienvenida Luisa 👩\n",
      "Bienvenido Juan Carlos 👨\n"
     ]
    }
   ],
   "source": [
    "# for\n",
    "lista_estudiante = [\"Leydi\",\"Mariana\",\"Luisa\",\"Juan Carlos\"] \n",
    "lista_generos = [\"M\",\"M\",\"M\",\"H\"] \n",
    "index = 0\n",
    "for estudiante in lista_estudiante:\n",
    "    if(lista_generos[index] == \"M\"):\n",
    "        print(\"Bienvenida\", estudiante, \"👩\")\n",
    "    else:\n",
    "        print(\"Bienvenido\", estudiante, \"👨\")\n",
    "    index += 1    "
   ]
  },
  {
   "cell_type": "code",
   "execution_count": 27,
   "id": "02e78ef5",
   "metadata": {
    "scrolled": true
   },
   "outputs": [
    {
     "name": "stdout",
     "output_type": "stream",
     "text": [
      "0\n",
      "1\n",
      "2\n",
      "3\n",
      "4\n",
      "5\n",
      "6\n",
      "7\n",
      "8\n",
      "9\n"
     ]
    }
   ],
   "source": [
    "# range\n",
    "for x in range(10):\n",
    "    print(x)"
   ]
  },
  {
   "cell_type": "code",
   "execution_count": null,
   "id": "30967c2e",
   "metadata": {},
   "outputs": [],
   "source": []
  }
 ],
 "metadata": {
  "kernelspec": {
   "display_name": "Python 3",
   "language": "python",
   "name": "python3"
  },
  "language_info": {
   "codemirror_mode": {
    "name": "ipython",
    "version": 3
   },
   "file_extension": ".py",
   "mimetype": "text/x-python",
   "name": "python",
   "nbconvert_exporter": "python",
   "pygments_lexer": "ipython3",
   "version": "3.7.6"
  }
 },
 "nbformat": 4,
 "nbformat_minor": 5
}
