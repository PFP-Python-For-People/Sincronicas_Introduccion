{
 "cells": [
  {
   "cell_type": "markdown",
   "id": "9e362f17",
   "metadata": {},
   "source": [
    "# Sesión sincrónica 2\n",
    "\n",
    "#### Unidad 3\n",
    "\n",
    "1. ¿Qué son las estructuras de control de flujo - condicionales?\n",
    "2. Selección y condiciones.\n",
    "3. Selección simple, doble y múltiple"
   ]
  },
  {
   "cell_type": "code",
   "execution_count": 7,
   "id": "8eb4a428",
   "metadata": {},
   "outputs": [
    {
     "name": "stdout",
     "output_type": "stream",
     "text": [
      "1\n",
      "2\n",
      "3\n",
      "4\n",
      "5\n"
     ]
    }
   ],
   "source": [
    "# secuencia\n",
    "\n",
    "print(1)\n",
    "print(2)\n",
    "print(3)\n",
    "print(4)\n",
    "print(5)"
   ]
  },
  {
   "cell_type": "markdown",
   "id": "846fa210",
   "metadata": {},
   "source": [
    "### Acerca de las condiciones"
   ]
  },
  {
   "cell_type": "code",
   "execution_count": 6,
   "id": "535cd8f8",
   "metadata": {},
   "outputs": [],
   "source": [
    "condicion_a = True\n",
    "condicion_b = False"
   ]
  },
  {
   "cell_type": "code",
   "execution_count": 7,
   "id": "b247ca35",
   "metadata": {},
   "outputs": [
    {
     "name": "stdout",
     "output_type": "stream",
     "text": [
      "True False False False\n"
     ]
    }
   ],
   "source": [
    "condicion_c = True and True\n",
    "condicion_d = True and False\n",
    "condicion_e = False and True\n",
    "condicion_f = False and False\n",
    "print(condicion_c, condicion_d, condicion_e, condicion_f)"
   ]
  },
  {
   "cell_type": "code",
   "execution_count": 8,
   "id": "c90b388b",
   "metadata": {},
   "outputs": [
    {
     "name": "stdout",
     "output_type": "stream",
     "text": [
      "True True True False\n"
     ]
    }
   ],
   "source": [
    "condicion_g = True or True\n",
    "condicion_h = True or False\n",
    "condicion_i = False or True\n",
    "condicion_j = False or False\n",
    "print(condicion_g, condicion_h, condicion_i, condicion_j)"
   ]
  },
  {
   "cell_type": "code",
   "execution_count": 10,
   "id": "16cdb0af",
   "metadata": {},
   "outputs": [
    {
     "name": "stdout",
     "output_type": "stream",
     "text": [
      "Bienvenido, puedes pasar\n"
     ]
    }
   ],
   "source": [
    "# if ---> simple / opcional\n",
    "\n",
    "edad_persona = 18\n",
    "edad_minima_ingreso = 18\n",
    "\n",
    "if(edad_persona >= edad_minima_ingreso):\n",
    "    print(\"Bienvenido, puedes pasar\")"
   ]
  },
  {
   "cell_type": "code",
   "execution_count": 11,
   "id": "a8dc0d70",
   "metadata": {},
   "outputs": [
    {
     "name": "stdout",
     "output_type": "stream",
     "text": [
      "No señor, no puede pasar...\n"
     ]
    }
   ],
   "source": [
    "# else ---> por defecto\n",
    "\n",
    "edad_persona = 17\n",
    "edad_minima_ingreso = 18\n",
    "\n",
    "if(edad_persona >= edad_minima_ingreso):\n",
    "    print(\"Bienvenido, puedes pasar\")\n",
    "else:\n",
    "    print(\"No señor, no puede pasar...\")"
   ]
  },
  {
   "cell_type": "code",
   "execution_count": 20,
   "id": "e688a33b",
   "metadata": {},
   "outputs": [
    {
     "name": "stdout",
     "output_type": "stream",
     "text": [
      "Puede ingresar a Años Dorados\n"
     ]
    }
   ],
   "source": [
    "# elif\n",
    "\n",
    "# [Kinder]: 18 - 24\n",
    "# [Adultos]: 25 - 35\n",
    "# [Años Dorados]: 55 - 90\n",
    "\n",
    "## ** sólo ingresas si tienes mas de 18\n",
    "\n",
    "edad_persona = 55\n",
    "\n",
    "if(edad_persona >= 18):\n",
    "    if( edad_persona >= 18 and edad_persona <= 24):\n",
    "        print(\"Puede ingresar al kinder\")\n",
    "    elif(edad_persona >= 25 and edad_persona <= 35):\n",
    "        print(\"Puede ingresar a adultos\")\n",
    "    elif(edad_persona >= 55 and edad_persona <= 90):\n",
    "        print(\"Puede ingresar a Años Dorados\")\n",
    "    else:\n",
    "        print(\"Puede ingresar a la plazoleta de comidas\")\n",
    "else:\n",
    "    print(\"Lo siento, no pueden ingresar menores de edad\")\n",
    "\n",
    "# if\n",
    "# if - else\n",
    "# if - elif\n",
    "# if - elif - elif - else"
   ]
  },
  {
   "cell_type": "code",
   "execution_count": 28,
   "id": "fbfbbbbf",
   "metadata": {},
   "outputs": [
    {
     "name": "stdout",
     "output_type": "stream",
     "text": [
      "Puede ingresar a la plazoleta de comidas\n",
      "otras cosas.... por hacer\n"
     ]
    }
   ],
   "source": [
    "# elif\n",
    "\n",
    "# [VIP]: 21 - 35\n",
    "# [Jovenes]: 18 - 28\n",
    "# [Adultos]: 25 - 35\n",
    "# [Años Dorados]: 55 - 90\n",
    "\n",
    "## ** sólo ingresas si tienes mas de 18\n",
    "\n",
    "edad_persona = 37\n",
    "esta_en_rango = False\n",
    "\n",
    "if(edad_persona >= 18):\n",
    "    \n",
    "    if( edad_persona >= 21 and edad_persona <= 35):\n",
    "        print(\"Puede ingresar al VIP\")\n",
    "        esta_en_rango = True\n",
    "        \n",
    "    if(edad_persona >= 18 and edad_persona <= 28):\n",
    "        print(\"Puede ingresar a Jóvenes\")\n",
    "        esta_en_rango = True\n",
    "        \n",
    "    if(edad_persona >= 25 and edad_persona <= 35):\n",
    "        print(\"Puede ingresar a Adultos\")\n",
    "        esta_en_rango = True\n",
    "        \n",
    "    if(edad_persona >= 55 and edad_persona <= 90):\n",
    "        print(\"Puede ingresar a Años Dorados\")\n",
    "        esta_en_rango = True     \n",
    "        \n",
    "    if(esta_en_rango == False):\n",
    "        print(\"Puede ingresar a la plazoleta de comidas\")\n",
    "        \n",
    "else:\n",
    "    print(\"Lo siento, no pueden ingresar menores de edad\")\n",
    "    \n",
    "print(\"otras cosas.... por hacer\")"
   ]
  },
  {
   "cell_type": "code",
   "execution_count": 31,
   "id": "7dd49cc6",
   "metadata": {},
   "outputs": [
    {
     "name": "stdout",
     "output_type": "stream",
     "text": [
      "Precio es: 2380000.0\n"
     ]
    }
   ],
   "source": [
    "# Ejercicio de selección computadores precio\n",
    "\n",
    "limite_sin_iva = 1800000\n",
    "precio_compu = 2000000\n",
    "\n",
    "if(precio_compu <= limite_sin_iva):\n",
    "    print(\"Precio es:\", precio_compu)\n",
    "else:\n",
    "    print(\"Precio es:\", precio_compu*1.19)"
   ]
  },
  {
   "cell_type": "markdown",
   "id": "105e898f",
   "metadata": {},
   "source": [
    "#### Unidad 4\n",
    "\n",
    "1. ¿Qué son las estructuras de control de flujo - ciclos?\n",
    "2. Ciclos en Python."
   ]
  },
  {
   "cell_type": "code",
   "execution_count": 33,
   "id": "f4deb9fe",
   "metadata": {
    "scrolled": true
   },
   "outputs": [
    {
     "name": "stdout",
     "output_type": "stream",
     "text": [
      "1\n",
      "2\n",
      "2\n",
      "3\n",
      "4\n",
      "4\n"
     ]
    }
   ],
   "source": [
    "print(1)\n",
    "print(2)\n",
    "print(2)\n",
    "print(3)\n",
    "print(4)\n",
    "print(4)"
   ]
  },
  {
   "cell_type": "code",
   "execution_count": null,
   "id": "b9f0676a",
   "metadata": {},
   "outputs": [],
   "source": [
    "# while\n",
    "\n",
    "conteo_aplausos = 0\n",
    "edad_persona = 15\n",
    "\n",
    "while(conteo_aplausos < edad_persona):\n",
    "    print(\"Clap! 👏\")\n",
    "    conteo_aplausos += 1"
   ]
  },
  {
   "cell_type": "code",
   "execution_count": null,
   "id": "718e5bd4",
   "metadata": {},
   "outputs": [],
   "source": [
    "# for"
   ]
  },
  {
   "cell_type": "code",
   "execution_count": null,
   "id": "73b8f4e7",
   "metadata": {},
   "outputs": [],
   "source": [
    "# range"
   ]
  },
  {
   "cell_type": "code",
   "execution_count": null,
   "id": "0d6fac8a",
   "metadata": {},
   "outputs": [],
   "source": [
    "# Ejercicio de cáculo de pasos"
   ]
  }
 ],
 "metadata": {
  "kernelspec": {
   "display_name": "Python 3",
   "language": "python",
   "name": "python3"
  },
  "language_info": {
   "codemirror_mode": {
    "name": "ipython",
    "version": 3
   },
   "file_extension": ".py",
   "mimetype": "text/x-python",
   "name": "python",
   "nbconvert_exporter": "python",
   "pygments_lexer": "ipython3",
   "version": "3.7.6"
  }
 },
 "nbformat": 4,
 "nbformat_minor": 5
}
