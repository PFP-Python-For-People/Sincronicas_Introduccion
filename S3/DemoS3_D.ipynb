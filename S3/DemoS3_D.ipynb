{
 "cells": [
  {
   "cell_type": "markdown",
   "id": "22a85cb7",
   "metadata": {},
   "source": [
    "## Demo en clase S3\n",
    "##### Temas:\n",
    "\n",
    "1. Recuento de funciones\n",
    "2. Recuento de programación orientada a objetos"
   ]
  },
  {
   "cell_type": "markdown",
   "id": "63e638a9",
   "metadata": {},
   "source": [
    "### Recuento de funciones"
   ]
  },
  {
   "cell_type": "code",
   "execution_count": null,
   "id": "93ef630f",
   "metadata": {},
   "outputs": [],
   "source": [
    "def nombre_funcion():\n",
    "    print(\"una tarea que hace la función 1\")\n",
    "    print(\"una tarea que hace la función 2\")\n",
    "    print(\"una tarea que hace la función 3\")\n",
    "    print(\"una tarea que hace la función 4\")\n",
    "\n",
    "print(\"Por fuera...\")"
   ]
  },
  {
   "cell_type": "code",
   "execution_count": null,
   "id": "30746887",
   "metadata": {
    "scrolled": true
   },
   "outputs": [],
   "source": [
    "# Llamado a la función\n",
    "nombre_funcion()"
   ]
  },
  {
   "cell_type": "code",
   "execution_count": null,
   "id": "b8db47ed",
   "metadata": {},
   "outputs": [],
   "source": [
    "# DRY ---> Dont Repeat Yourself"
   ]
  },
  {
   "cell_type": "code",
   "execution_count": null,
   "id": "f947125a",
   "metadata": {},
   "outputs": [],
   "source": [
    "def nombre_funcion_con_retorno():    \n",
    "    return \"Hola amigos de python 🐍\"\n",
    "\n",
    "# llamado con retorno\n",
    "valor_resultante = nombre_funcion_con_retorno()\n",
    "print(valor_resultante)\n",
    "\n",
    "## Ejemplo almacenar elementos resultantes"
   ]
  },
  {
   "cell_type": "code",
   "execution_count": null,
   "id": "6dcda41f",
   "metadata": {},
   "outputs": [],
   "source": [
    "def nombre_funcion_con_parametros(a, b):\n",
    "    print(\"recibí a como: \", a)\n",
    "    print(\"recibí b como: \", b)\n",
    "    return a+b\n",
    "\n",
    "nombre_funcion_con_parametros(4, 5)\n",
    "# mostrar que pasa si no se entregan los parametros"
   ]
  },
  {
   "cell_type": "code",
   "execution_count": null,
   "id": "276be49f",
   "metadata": {},
   "outputs": [],
   "source": [
    "def calcular_area_triangulo(base, altura):\n",
    "    return (base*altura)/2"
   ]
  },
  {
   "cell_type": "code",
   "execution_count": null,
   "id": "1a87016e",
   "metadata": {},
   "outputs": [],
   "source": [
    "area = calcular_area_triangulo(10, 10)\n",
    "print(\"El área del tríangulo es: \", area)"
   ]
  },
  {
   "cell_type": "code",
   "execution_count": null,
   "id": "8df2c12d",
   "metadata": {},
   "outputs": [],
   "source": [
    "area = calcular_area_triangulo(55, 500)\n",
    "print(\"El área del tríangulo es: \", area)"
   ]
  },
  {
   "cell_type": "code",
   "execution_count": null,
   "id": "f5347b55",
   "metadata": {
    "scrolled": true
   },
   "outputs": [],
   "source": [
    "# parámetros por defecto (a = 3, b = 5)\n",
    "def nombre_funcion_con_parametros(a = 3, b = 5):\n",
    "    print(\"recibí a como: \", a)\n",
    "    print(\"recibí b como: \", b)\n",
    "    return a+b\n",
    "\n",
    "#nombre_funcion_con_parametros()\n",
    "nombre_funcion_con_parametros(b = 10, a = 55)\n",
    "# mostrar que pasa si no se entregan los parametros"
   ]
  },
  {
   "cell_type": "code",
   "execution_count": 1,
   "id": "efd51a75",
   "metadata": {},
   "outputs": [],
   "source": [
    "def calcular_area_triangulo(base=1, altura=1):\n",
    "    return (base*altura)/2"
   ]
  },
  {
   "cell_type": "code",
   "execution_count": 3,
   "id": "03be36e2",
   "metadata": {
    "scrolled": true
   },
   "outputs": [
    {
     "name": "stdout",
     "output_type": "stream",
     "text": [
      "Cuál es la base del tríangulo?55\n",
      "Cuál es la altura del tríangulo?88\n",
      "Área del tríangulo del usuario es: 2420.0\n"
     ]
    }
   ],
   "source": [
    "base_usuario = float(input(\"Cuál es la base del tríangulo?\"))\n",
    "altura_usuario = float(input(\"Cuál es la altura del tríangulo?\"))\n",
    "\n",
    "print(\"Área del tríangulo del usuario es:\", calcular_area_triangulo(base = base_usuario, altura = altura_usuario))"
   ]
  },
  {
   "cell_type": "code",
   "execution_count": 13,
   "id": "8d0ad921",
   "metadata": {},
   "outputs": [],
   "source": [
    "def separador_miles(numero):\n",
    "    return \"{:,.0f}\".format(numero).replace(\",\",\"+\")"
   ]
  },
  {
   "cell_type": "code",
   "execution_count": 14,
   "id": "6911ae3a",
   "metadata": {},
   "outputs": [
    {
     "name": "stdout",
     "output_type": "stream",
     "text": [
      "20+000+000+420\n"
     ]
    }
   ],
   "source": [
    "numero = 20000000420.0\n",
    "cadena_con_formato = separador_miles(numero);\n",
    "print(cadena_con_formato)"
   ]
  },
  {
   "cell_type": "code",
   "execution_count": 25,
   "id": "60a89635",
   "metadata": {},
   "outputs": [],
   "source": [
    " estado = \"lloviendo 🌧\"\n",
    "\n",
    "# ¿Qué pasó aquí?\n",
    "\n",
    "# Hablar de visibilidad de las variables\n",
    "# Hablar de enmascaramiento y alcance\n",
    "# Demostrar el uso de global"
   ]
  },
  {
   "cell_type": "code",
   "execution_count": 26,
   "id": "b5bb7651",
   "metadata": {},
   "outputs": [],
   "source": [
    "def cambiarEstado(nuevo_estado):\n",
    "    #global estado\n",
    "    estado = nuevo_estado\n",
    "    print(\"en el interior:\", estado)"
   ]
  },
  {
   "cell_type": "code",
   "execution_count": 27,
   "id": "b6b0581c",
   "metadata": {},
   "outputs": [
    {
     "name": "stdout",
     "output_type": "stream",
     "text": [
      "en el exterior: lloviendo 🌧\n",
      "en el interior: Soleado ☀\n",
      "en el exterior: lloviendo 🌧\n"
     ]
    }
   ],
   "source": [
    "print(\"en el exterior:\", estado)\n",
    "cambiarEstado(\"Soleado ☀\")\n",
    "print(\"en el exterior:\", estado)"
   ]
  },
  {
   "cell_type": "code",
   "execution_count": null,
   "id": "e0555f75",
   "metadata": {},
   "outputs": [],
   "source": []
  },
  {
   "cell_type": "markdown",
   "id": "718b8d95",
   "metadata": {},
   "source": [
    "### ¿funciones como parámetros?\n",
    "\n",
    "Composicion y la idea de ciudadanos de primer nivel."
   ]
  },
  {
   "cell_type": "code",
   "execution_count": 30,
   "id": "60c3d817",
   "metadata": {},
   "outputs": [],
   "source": [
    "def operar (a, b, accion):\n",
    "    return accion(a, b)\n",
    "\n",
    "def sumar(a, b):\n",
    "    return a+b\n",
    "\n",
    "def restar(a, b):\n",
    "    return a-b\n",
    "\n",
    "def multiplicar(a, b):\n",
    "    return a*b\n",
    "\n",
    "def dividir(a, b):\n",
    "    return a/b"
   ]
  },
  {
   "cell_type": "code",
   "execution_count": 31,
   "id": "0e1923ec",
   "metadata": {},
   "outputs": [
    {
     "data": {
      "text/plain": [
       "4"
      ]
     },
     "execution_count": 31,
     "metadata": {},
     "output_type": "execute_result"
    }
   ],
   "source": [
    "operar(2, 2, sumar)"
   ]
  },
  {
   "cell_type": "code",
   "execution_count": 32,
   "id": "212522ca",
   "metadata": {},
   "outputs": [
    {
     "data": {
      "text/plain": [
       "0"
      ]
     },
     "execution_count": 32,
     "metadata": {},
     "output_type": "execute_result"
    }
   ],
   "source": [
    "operar(2, 2, restar)"
   ]
  },
  {
   "cell_type": "code",
   "execution_count": 33,
   "id": "fe240042",
   "metadata": {},
   "outputs": [
    {
     "data": {
      "text/plain": [
       "4"
      ]
     },
     "execution_count": 33,
     "metadata": {},
     "output_type": "execute_result"
    }
   ],
   "source": [
    "operar(2, 2, multiplicar)"
   ]
  },
  {
   "cell_type": "code",
   "execution_count": 34,
   "id": "f9747c70",
   "metadata": {},
   "outputs": [
    {
     "data": {
      "text/plain": [
       "1.0"
      ]
     },
     "execution_count": 34,
     "metadata": {},
     "output_type": "execute_result"
    }
   ],
   "source": [
    "operar(2, 2, dividir)"
   ]
  },
  {
   "cell_type": "code",
   "execution_count": 41,
   "id": "1d162f12",
   "metadata": {},
   "outputs": [],
   "source": [
    "def ejecutor(accionA, accionB):\n",
    "    accionA()\n",
    "    accionB()\n",
    "    \n",
    "def gritar():\n",
    "    print(\"AAAAAAAA\")\n",
    "    \n",
    "def hablar():\n",
    "    print(\"aaaaaaa\")\n",
    "    \n"
   ]
  },
  {
   "cell_type": "code",
   "execution_count": 42,
   "id": "d2c6a0e6",
   "metadata": {},
   "outputs": [
    {
     "name": "stdout",
     "output_type": "stream",
     "text": [
      "AAAAAAAA\n"
     ]
    }
   ],
   "source": [
    "gritar()"
   ]
  },
  {
   "cell_type": "code",
   "execution_count": 43,
   "id": "383e6ddc",
   "metadata": {},
   "outputs": [
    {
     "name": "stdout",
     "output_type": "stream",
     "text": [
      "aaaaaaa\n"
     ]
    }
   ],
   "source": [
    "hablar()"
   ]
  },
  {
   "cell_type": "code",
   "execution_count": 44,
   "id": "7a94f31e",
   "metadata": {},
   "outputs": [
    {
     "name": "stdout",
     "output_type": "stream",
     "text": [
      "AAAAAAAA\n",
      "aaaaaaa\n"
     ]
    }
   ],
   "source": [
    "ejecutor(gritar, hablar)"
   ]
  },
  {
   "cell_type": "markdown",
   "id": "3e9230bc",
   "metadata": {},
   "source": [
    "## Programación orientada a objetos\n",
    "Recuento general, los objetos representan entidades con caracteristicas y servicios."
   ]
  },
  {
   "cell_type": "code",
   "execution_count": 69,
   "id": "297eb96b",
   "metadata": {},
   "outputs": [],
   "source": [
    "class Calculadora:\n",
    "\n",
    "    def __init__(self, nombre): ## Hablar de los constructores\n",
    "        self.nombre = nombre\n",
    "        print(\"Se está creando una calculadora\", self)\n",
    "        \n",
    "    def sumar(self , a, b): ## mostrar que pasa si quitamos self y hablar de self\n",
    "        print(\"mi calculadora \", self.nombre, \" Está sumando\")\n",
    "        return a + b \n",
    "    \n",
    "    def restar(self, a, b):\n",
    "        print(\"self:\", self)\n",
    "        return a - b \n",
    "    \n",
    "    def multiplicar(self, a, b):\n",
    "        return a * b \n",
    "    \n",
    "    def dividir(self, a, b):\n",
    "        return a / b "
   ]
  },
  {
   "cell_type": "code",
   "execution_count": 74,
   "id": "ceacca91",
   "metadata": {},
   "outputs": [
    {
     "name": "stdout",
     "output_type": "stream",
     "text": [
      "Se está creando una calculadora <__main__.Calculadora object at 0x00000238B4272A88>\n",
      "Se está creando una calculadora <__main__.Calculadora object at 0x00000238B42E9148>\n"
     ]
    },
    {
     "data": {
      "text/plain": [
       "'perencejita casio'"
      ]
     },
     "execution_count": 74,
     "metadata": {},
     "output_type": "execute_result"
    }
   ],
   "source": [
    "# Qué son las instancias\n",
    "miCalculadora = Calculadora(\"pepita casio\")\n",
    "miCalculadora.nombre\n",
    "\n",
    "miCalculadora2 = Calculadora(\"perencejita casio\")\n",
    "miCalculadora2.nombre"
   ]
  },
  {
   "cell_type": "code",
   "execution_count": 71,
   "id": "014c3af6",
   "metadata": {},
   "outputs": [
    {
     "data": {
      "text/plain": [
       "__main__.Calculadora"
      ]
     },
     "execution_count": 71,
     "metadata": {},
     "output_type": "execute_result"
    }
   ],
   "source": [
    "# Qué representa ?\n",
    "type(miCalculadora)"
   ]
  },
  {
   "cell_type": "code",
   "execution_count": 75,
   "id": "7191e3a2",
   "metadata": {},
   "outputs": [
    {
     "name": "stdout",
     "output_type": "stream",
     "text": [
      "mi calculadora  pepita casio  Está sumando\n",
      "54\n",
      "mi calculadora  perencejita casio  Está sumando\n",
      "54\n"
     ]
    }
   ],
   "source": [
    "# qué hace la notación de (.) punto\n",
    "suma = miCalculadora.sumar(10, 44)\n",
    "print(suma)\n",
    "\n",
    "suma2 = miCalculadora2.sumar(10, 44)\n",
    "print(suma2)"
   ]
  },
  {
   "cell_type": "code",
   "execution_count": 50,
   "id": "1d5295ab",
   "metadata": {},
   "outputs": [
    {
     "name": "stdout",
     "output_type": "stream",
     "text": [
      "self: <__main__.Calculadora object at 0x00000238B42DD988>\n",
      "-34\n"
     ]
    }
   ],
   "source": [
    "resta = miCalculadora.restar(10, 44)\n",
    "print(resta)"
   ]
  },
  {
   "cell_type": "code",
   "execution_count": 51,
   "id": "42d3e54f",
   "metadata": {},
   "outputs": [
    {
     "name": "stdout",
     "output_type": "stream",
     "text": [
      "100\n"
     ]
    }
   ],
   "source": [
    "multiplicacion = miCalculadora.multiplicar(10,10);\n",
    "print(multiplicacion)"
   ]
  },
  {
   "cell_type": "code",
   "execution_count": 52,
   "id": "018ffd6f",
   "metadata": {},
   "outputs": [
    {
     "data": {
      "text/plain": [
       "10.0"
      ]
     },
     "execution_count": 52,
     "metadata": {},
     "output_type": "execute_result"
    }
   ],
   "source": [
    "division = miCalculadora.dividir(100,10)\n",
    "division"
   ]
  },
  {
   "cell_type": "markdown",
   "id": "f7b9d83f",
   "metadata": {},
   "source": [
    "### Además de las instancias, ¿qué tenemos?"
   ]
  },
  {
   "cell_type": "markdown",
   "id": "3254abf0",
   "metadata": {},
   "source": [
    "#### Decoradores\n",
    "\n",
    "¿Qué son?: Son definiciones adicionales usando la notación de @\n",
    "\n",
    "##### ¿Cuáles usamos?\n",
    "\n",
    "@staticmethod y @classmethod son decoradores en Python utilizados para definir métodos dentro de una clase.\n",
    "\n",
    "Ambos permiten llamar a los métodos sin la necesidad de crear una instancia de la clase, lo que significa que son métodos que pertenecen a la clase en sí y no a las instancias individuales de la clase.\n",
    "\n",
    "⚠ La principal diferencia entre @staticmethod y @classmethod radica en cómo se pasan los argumentos y cómo se comportan en relación con la clase y las instancias. Veamos cada uno de ellos:"
   ]
  },
  {
   "cell_type": "markdown",
   "id": "fd5a8522",
   "metadata": {},
   "source": [
    "###### @staticmethod:\n",
    "\n",
    "Un método decorado con @staticmethod no toma el primer argumento como self. No tiene acceso a los atributos o métodos de instancia, ni al propio objeto de la instancia. Por lo tanto, no necesita una referencia a la instancia de la clase para ser llamado.\n",
    "\n",
    "Se utiliza para definir métodos que no necesitan información específica de la instancia y que realizan operaciones independientes de cualquier estado de instancia.\n",
    "\n",
    "Se puede llamar desde la clase o una instancia de la clase."
   ]
  },
  {
   "cell_type": "code",
   "execution_count": 55,
   "id": "0c9f48d9",
   "metadata": {},
   "outputs": [
    {
     "data": {
      "text/plain": [
       "12.5"
      ]
     },
     "execution_count": 55,
     "metadata": {},
     "output_type": "execute_result"
    }
   ],
   "source": [
    "class HerramientasGeometricas:\n",
    "    @staticmethod\n",
    "    def calcular_area(base, altura):\n",
    "        return (base*altura)/2\n",
    "        \n",
    "\n",
    "# Llamada desde la clase\n",
    "HerramientasGeometricas.calcular_area(10,10)\n",
    "\n",
    "# Llamada desde una instancia de la clase\n",
    "obj = HerramientasGeometricas()\n",
    "obj.calcular_area(5, 5)\n"
   ]
  },
  {
   "cell_type": "markdown",
   "id": "8ab530f4",
   "metadata": {},
   "source": [
    "##### @classmethod:\n",
    "\n",
    "Un método decorado con @classmethod toma el primer argumento como cls, que hace referencia a la propia clase. Con este argumento, el método tiene acceso a los atributos y métodos de la clase.\n",
    "\n",
    "Se utiliza para definir métodos que necesitan acceder a la clase y no necesariamente a las instancias individuales.\n",
    "\n",
    "Se puede llamar desde la clase, y también desde una instancia de la clase, pero en este caso, cls se refiere a la clase que es el tipo de la instancia desde la cual se llama."
   ]
  },
  {
   "cell_type": "code",
   "execution_count": 64,
   "id": "d7928e82",
   "metadata": {},
   "outputs": [
    {
     "name": "stdout",
     "output_type": "stream",
     "text": [
      "soy un método de clase\n",
      "Hola terricolas\n",
      "soy un método de clase\n",
      "Hola terricolas\n"
     ]
    }
   ],
   "source": [
    "class MyClass:\n",
    "    class_variable = \"Hola terricolas\"\n",
    "\n",
    "    @classmethod\n",
    "    def class_method(cls):\n",
    "        print(\"soy un método de clase\")\n",
    "        print(cls.class_variable)  # Acceso a atributos de la clase\n",
    "\n",
    "# Llamada desde la clase\n",
    "MyClass.class_method()\n",
    "\n",
    "# Llamada desde una instancia de la clase\n",
    "obj = MyClass()\n",
    "obj.class_method()"
   ]
  },
  {
   "cell_type": "code",
   "execution_count": null,
   "id": "4e13e752",
   "metadata": {},
   "outputs": [],
   "source": []
  }
 ],
 "metadata": {
  "kernelspec": {
   "display_name": "Python 3",
   "language": "python",
   "name": "python3"
  },
  "language_info": {
   "codemirror_mode": {
    "name": "ipython",
    "version": 3
   },
   "file_extension": ".py",
   "mimetype": "text/x-python",
   "name": "python",
   "nbconvert_exporter": "python",
   "pygments_lexer": "ipython3",
   "version": "3.7.6"
  }
 },
 "nbformat": 4,
 "nbformat_minor": 5
}
