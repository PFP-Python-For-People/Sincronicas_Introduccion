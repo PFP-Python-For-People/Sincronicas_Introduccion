{
 "cells": [
  {
   "cell_type": "markdown",
   "id": "cc1de020",
   "metadata": {},
   "source": [
    "## Demo en clase S3\n",
    "##### Temas:\n",
    "\n",
    "1. Recuento de funciones\n",
    "2. Recuento de programación orientada a objetos"
   ]
  },
  {
   "cell_type": "markdown",
   "id": "4e3cb592",
   "metadata": {},
   "source": [
    "### Recuento de funciones"
   ]
  },
  {
   "cell_type": "code",
   "execution_count": null,
   "id": "c2fa979f",
   "metadata": {},
   "outputs": [],
   "source": [
    "def nombre_funcion():\n",
    "    print(\"una tarea que hace la función 1\")\n",
    "    print(\"una tarea que hace la función 2\")\n",
    "    print(\"una tarea que hace la función 3\")\n",
    "    print(\"una tarea que hace la función 4\")"
   ]
  },
  {
   "cell_type": "code",
   "execution_count": null,
   "id": "b2dd4105",
   "metadata": {},
   "outputs": [],
   "source": [
    "# Llamado a la función\n",
    "nombre_funcion()"
   ]
  },
  {
   "cell_type": "code",
   "execution_count": null,
   "id": "90ff03be",
   "metadata": {},
   "outputs": [],
   "source": [
    "def nombre_funcion_con_retorno():\n",
    "    texto_retorno = \"Un retorno de la función\"\n",
    "    return texto_retorno\n",
    "\n",
    "# llamado con retorno\n",
    "valor_resultante = nombre_funcion_con_retorno()\n",
    "print(valor_resultante)\n",
    "\n",
    "## Ejemplo almacenar elementos resultantes"
   ]
  },
  {
   "cell_type": "code",
   "execution_count": null,
   "id": "6072d817",
   "metadata": {},
   "outputs": [],
   "source": [
    "def nombre_funcion_con_parametros(a, b):\n",
    "    print(\"recibí a como: \", a)\n",
    "    print(\"recibí b como: \", b)\n",
    "    return a+b\n",
    "\n",
    "nombre_funcion_con_parametros(4, 5)\n",
    "# mostrar que pasa si no se entregan los parametros"
   ]
  },
  {
   "cell_type": "code",
   "execution_count": null,
   "id": "88722463",
   "metadata": {},
   "outputs": [],
   "source": [
    "# parámetros por defecto (a = 3, b = 5)\n",
    "def nombre_funcion_con_parametros(a = 3, b = 5):\n",
    "    print(\"recibí a como: \", a)\n",
    "    print(\"recibí b como: \", b)\n",
    "    return a+b\n",
    "\n",
    "# nombre_funcion_con_parametros(2, 22)\n",
    "nombre_funcion_con_parametros(b = 8)\n",
    "# mostrar que pasa si no se entregan los parametros"
   ]
  },
  {
   "cell_type": "markdown",
   "id": "c7812b2d",
   "metadata": {},
   "source": [
    "### Comportamiento de las variables en relación a la visibilidad (global / local)"
   ]
  },
  {
   "cell_type": "code",
   "execution_count": 6,
   "id": "54fb4516",
   "metadata": {},
   "outputs": [],
   "source": [
    " estado = \"lloviendo 🌧\"\n",
    "\n",
    "# ¿Qué pasó aquí?\n",
    "\n",
    "# Hablar de visibilidad de las variables\n",
    "# Hablar de enmascaramiento y alcance\n",
    "# Demostrar el uso de global"
   ]
  },
  {
   "cell_type": "code",
   "execution_count": 7,
   "id": "9a2c5d02",
   "metadata": {},
   "outputs": [],
   "source": [
    "def cambiarEstado(nuevo_estado):\n",
    "    # global estado\n",
    "    estado = nuevo_estado\n",
    "    print(\"en el interior:\", estado)"
   ]
  },
  {
   "cell_type": "code",
   "execution_count": 8,
   "id": "28aa58c6",
   "metadata": {},
   "outputs": [
    {
     "name": "stdout",
     "output_type": "stream",
     "text": [
      "en el exterior: lloviendo 🌧\n",
      "en el interior: Soleado ☀\n",
      "en el exterior: lloviendo 🌧\n"
     ]
    }
   ],
   "source": [
    "print(\"en el exterior:\", estado)\n",
    "cambiarEstado(\"Soleado ☀\")\n",
    "print(\"en el exterior:\", estado)"
   ]
  },
  {
   "cell_type": "code",
   "execution_count": null,
   "id": "122ac1d5",
   "metadata": {},
   "outputs": [],
   "source": []
  },
  {
   "cell_type": "markdown",
   "id": "63b60c43",
   "metadata": {},
   "source": [
    "### ¿funciones como parámetros?\n",
    "\n",
    "Composicion y la idea de ciudadanos de primer nivel."
   ]
  },
  {
   "cell_type": "code",
   "execution_count": 9,
   "id": "34239239",
   "metadata": {},
   "outputs": [],
   "source": [
    "def operar (a, b, accion):\n",
    "    return accion(a, b)\n",
    "\n",
    "def sumar(a, b):\n",
    "    return a+b\n",
    "\n",
    "def restar(a, b):\n",
    "    return a-b\n",
    "\n",
    "def multiplicar(a, b):\n",
    "    return a*b\n",
    "\n",
    "def dividir(a, b):\n",
    "    return a/b"
   ]
  },
  {
   "cell_type": "code",
   "execution_count": 16,
   "id": "e9b4aa0b",
   "metadata": {},
   "outputs": [
    {
     "data": {
      "text/plain": [
       "4"
      ]
     },
     "execution_count": 16,
     "metadata": {},
     "output_type": "execute_result"
    }
   ],
   "source": [
    "operar(2, 2, sumar)"
   ]
  },
  {
   "cell_type": "code",
   "execution_count": 12,
   "id": "9183f7d0",
   "metadata": {},
   "outputs": [
    {
     "data": {
      "text/plain": [
       "0"
      ]
     },
     "execution_count": 12,
     "metadata": {},
     "output_type": "execute_result"
    }
   ],
   "source": [
    "operar(2, 2, restar)"
   ]
  },
  {
   "cell_type": "code",
   "execution_count": 13,
   "id": "d25d86f8",
   "metadata": {},
   "outputs": [
    {
     "data": {
      "text/plain": [
       "4"
      ]
     },
     "execution_count": 13,
     "metadata": {},
     "output_type": "execute_result"
    }
   ],
   "source": [
    "operar(2, 2, multiplicar)"
   ]
  },
  {
   "cell_type": "code",
   "execution_count": 14,
   "id": "9570a8c9",
   "metadata": {},
   "outputs": [
    {
     "data": {
      "text/plain": [
       "1.0"
      ]
     },
     "execution_count": 14,
     "metadata": {},
     "output_type": "execute_result"
    }
   ],
   "source": [
    "operar(2, 2, dividir)"
   ]
  },
  {
   "cell_type": "markdown",
   "id": "853d1e04",
   "metadata": {},
   "source": [
    "## Programación orientada a objetos\n",
    "Recuento general, los objetos representan entidades con caracteristicas y servicios."
   ]
  },
  {
   "cell_type": "code",
   "execution_count": 31,
   "id": "83d9a0cd",
   "metadata": {},
   "outputs": [],
   "source": [
    "class Calculadora:\n",
    "\n",
    "    def __init__(self): ## Hablar de los constructores\n",
    "        print(\"Se está creando una calculadora\")\n",
    "        \n",
    "    def sumar(self, a, b): ## mostrar que pasa si quitamos self y hablar de self\n",
    "        #print(\"self:\", self)\n",
    "        return a + b \n",
    "    \n",
    "    def restar(self, a, b):\n",
    "        print(\"self:\", self)\n",
    "        return a - b \n",
    "    \n",
    "    def multiplicar(self, a, b):\n",
    "        return a * b \n",
    "    \n",
    "    def dividir(self, a, b):\n",
    "        return a / b "
   ]
  },
  {
   "cell_type": "code",
   "execution_count": 32,
   "id": "75ea0bad",
   "metadata": {},
   "outputs": [
    {
     "name": "stdout",
     "output_type": "stream",
     "text": [
      "Se está creando una calculadora\n"
     ]
    },
    {
     "data": {
      "text/plain": [
       "<__main__.Calculadora at 0x1df0bddad88>"
      ]
     },
     "execution_count": 32,
     "metadata": {},
     "output_type": "execute_result"
    }
   ],
   "source": [
    "# Qué son las instancias\n",
    "miCalculadora = Calculadora()\n",
    "miCalculadora"
   ]
  },
  {
   "cell_type": "code",
   "execution_count": 33,
   "id": "e20975aa",
   "metadata": {},
   "outputs": [
    {
     "data": {
      "text/plain": [
       "__main__.Calculadora"
      ]
     },
     "execution_count": 33,
     "metadata": {},
     "output_type": "execute_result"
    }
   ],
   "source": [
    "# Qué representa ?\n",
    "type(miCalculadora)"
   ]
  },
  {
   "cell_type": "code",
   "execution_count": 34,
   "id": "d87064ca",
   "metadata": {},
   "outputs": [
    {
     "name": "stdout",
     "output_type": "stream",
     "text": [
      "54\n"
     ]
    }
   ],
   "source": [
    "# qué hace la notación de (.) punto\n",
    "suma = miCalculadora.sumar(10, 44)\n",
    "print(suma)"
   ]
  },
  {
   "cell_type": "code",
   "execution_count": 35,
   "id": "6445f507",
   "metadata": {},
   "outputs": [
    {
     "name": "stdout",
     "output_type": "stream",
     "text": [
      "self: <__main__.Calculadora object at 0x000001DF0BDDAD88>\n",
      "-34\n"
     ]
    }
   ],
   "source": [
    "resta = miCalculadora.restar(10, 44)\n",
    "print(resta)"
   ]
  },
  {
   "cell_type": "code",
   "execution_count": 37,
   "id": "6669d420",
   "metadata": {},
   "outputs": [
    {
     "name": "stdout",
     "output_type": "stream",
     "text": [
      "100\n"
     ]
    }
   ],
   "source": [
    "multiplicacion = miCalculadora.multiplicar(10,10);\n",
    "print(multiplicacion)"
   ]
  },
  {
   "cell_type": "code",
   "execution_count": 38,
   "id": "5c3891e5",
   "metadata": {},
   "outputs": [
    {
     "data": {
      "text/plain": [
       "10.0"
      ]
     },
     "execution_count": 38,
     "metadata": {},
     "output_type": "execute_result"
    }
   ],
   "source": [
    "division = miCalculadora.dividir(100,10)\n",
    "division"
   ]
  },
  {
   "cell_type": "markdown",
   "id": "55742eeb",
   "metadata": {},
   "source": [
    "### Además de las instancias, ¿qué tenemos?"
   ]
  },
  {
   "cell_type": "markdown",
   "id": "146e0b05",
   "metadata": {},
   "source": [
    "#### Decoradores\n",
    "\n",
    "¿Qué son?: Son definiciones adicionales usando la notación de @\n",
    "\n",
    "##### ¿Cuáles usamos?\n",
    "\n",
    "@staticmethod y @classmethod son decoradores en Python utilizados para definir métodos dentro de una clase.\n",
    "\n",
    "Ambos permiten llamar a los métodos sin la necesidad de crear una instancia de la clase, lo que significa que son métodos que pertenecen a la clase en sí y no a las instancias individuales de la clase.\n",
    "\n",
    "⚠ La principal diferencia entre @staticmethod y @classmethod radica en cómo se pasan los argumentos y cómo se comportan en relación con la clase y las instancias. Veamos cada uno de ellos:"
   ]
  },
  {
   "cell_type": "markdown",
   "id": "f1558d34",
   "metadata": {},
   "source": [
    "###### @staticmethod:\n",
    "\n",
    "Un método decorado con @staticmethod no toma el primer argumento como self. No tiene acceso a los atributos o métodos de instancia, ni al propio objeto de la instancia. Por lo tanto, no necesita una referencia a la instancia de la clase para ser llamado.\n",
    "\n",
    "Se utiliza para definir métodos que no necesitan información específica de la instancia y que realizan operaciones independientes de cualquier estado de instancia.\n",
    "\n",
    "Se puede llamar desde la clase o una instancia de la clase."
   ]
  },
  {
   "cell_type": "code",
   "execution_count": 39,
   "id": "b624e165",
   "metadata": {},
   "outputs": [
    {
     "name": "stdout",
     "output_type": "stream",
     "text": [
      "Soy un método estático.\n",
      "Soy un método estático.\n"
     ]
    }
   ],
   "source": [
    "class MyClass:\n",
    "    @staticmethod\n",
    "    def static_method():\n",
    "        print(\"Soy un método estático.\")\n",
    "\n",
    "# Llamada desde la clase\n",
    "MyClass.static_method()\n",
    "\n",
    "# Llamada desde una instancia de la clase\n",
    "obj = MyClass()\n",
    "obj.static_method()\n"
   ]
  },
  {
   "cell_type": "markdown",
   "id": "a9b97f9d",
   "metadata": {},
   "source": [
    "##### @classmethod:\n",
    "\n",
    "Un método decorado con @classmethod toma el primer argumento como cls, que hace referencia a la propia clase. Con este argumento, el método tiene acceso a los atributos y métodos de la clase.\n",
    "\n",
    "Se utiliza para definir métodos que necesitan acceder a la clase y no necesariamente a las instancias individuales.\n",
    "\n",
    "Se puede llamar desde la clase, y también desde una instancia de la clase, pero en este caso, cls se refiere a la clase que es el tipo de la instancia desde la cual se llama."
   ]
  },
  {
   "cell_type": "code",
   "execution_count": 40,
   "id": "2235debb",
   "metadata": {},
   "outputs": [
    {
     "name": "stdout",
     "output_type": "stream",
     "text": [
      "soy un método de clase\n",
      "Hola terricolas\n",
      "soy un método de clase\n",
      "Hola terricolas\n"
     ]
    }
   ],
   "source": [
    "class MyClass:\n",
    "    class_variable = \"Hola terricolas\"\n",
    "\n",
    "    @classmethod\n",
    "    def class_method(cls):\n",
    "        print(\"soy un método de clase\")\n",
    "        print(cls.class_variable)  # Acceso a atributos de la clase\n",
    "\n",
    "# Llamada desde la clase\n",
    "MyClass.class_method()\n",
    "\n",
    "# Llamada desde una instancia de la clase\n",
    "obj = MyClass()\n",
    "obj.class_method()"
   ]
  },
  {
   "cell_type": "code",
   "execution_count": null,
   "id": "d78c9819",
   "metadata": {},
   "outputs": [],
   "source": []
  }
 ],
 "metadata": {
  "kernelspec": {
   "display_name": "Python 3",
   "language": "python",
   "name": "python3"
  },
  "language_info": {
   "codemirror_mode": {
    "name": "ipython",
    "version": 3
   },
   "file_extension": ".py",
   "mimetype": "text/x-python",
   "name": "python",
   "nbconvert_exporter": "python",
   "pygments_lexer": "ipython3",
   "version": "3.7.6"
  }
 },
 "nbformat": 4,
 "nbformat_minor": 5
}
